{
  "cells": [
    {
      "cell_type": "markdown",
      "metadata": {
        "id": "eX0io5SMd3Nc"
      },
      "source": [
        "# Phase 7\n",
        "You designed, implemented, and enhanced the performance of your model. To evaluate your\n",
        "outcomes in detail, please use at least three model evaluation techniques, detailed as follows, in\n",
        "addition to your previous evaluation metrics:\n",
        "a. Feature importance: You can measure the role of each feature in your final model\n",
        "using either built-in or external feature importance algorithms.\n",
        "- https://stackoverflow.com/questions/45361559/fea\n",
        "ture-importance-chart-in-neural-network-using-\n",
        "keras-in-python\n",
        "- LSTM Feature Importance\n",
        "https://www.kaggle.com/code/cdeotte/lstm-\n",
        "feature-importance\n",
        "- E.g., https://scikit-\n",
        "learn.org/stable/auto_examples/ensemble/plot_for\n",
        "est_importances.html\n",
        "b. Decision boundary visualization.\n",
        "- Highly accurate boundaries segmentation using\n",
        "BASNet\n",
        "https://keras.io/examples/vision/basnet_segmentat\n",
        "ion/\n",
        "- E.g, https://scikit-\n",
        "learn.org/stable/auto_examples/ensemble/plot_vot\n",
        "ing_decision_regions.html\n",
        "- https://machinelearningmastery.com/plot-a-\n",
        "decision-surface-for-machine-learning/\n",
        "c. Model specific metrics\n",
        "i. Classification Task:\n",
        "- Classification metrics in Keras\n",
        "https://keras.io/api/metrics/classification_metrics/\n",
        "- Confusion Matrix, https://scikit-\n",
        "learn.org/stable/modules/generated/sklearn.metric\n",
        "s.confusion_matrix.html\n",
        "ii. Regression Task:\n",
        "- Regression metrics in Keras\n",
        "https://keras.io/api/metrics/regression_metrics/\n",
        "- Residual Plot, e.g., https://www.scikit-\n",
        "yb.org/en/latest/api/regressor/residuals.html\n",
        "d. Deep learning specific\n",
        "i. The performance visualization in different epochs\n",
        "https://machinelearningmastery.com/display-deep-learning-model-\n",
        "training-history-in-keras/\n",
        "ii. Visualization of patterns in perceptron"
      ]
    },
    {
      "cell_type": "code",
      "execution_count": null,
      "metadata": {
        "id": "aUS2LOaFdtVk"
      },
      "outputs": [],
      "source": [
        "# Import libraries and data\n",
        "import tensorflow as tf\n",
        "from tensorflow import keras\n",
        "import os\n",
        "import shutil\n",
        "import zipfile\n",
        "import shutil\n",
        "import matplotlib.pyplot as plt\n",
        "import numpy as np\n",
        "import pandas as pd\n",
        "import matplotlib.pyplot as plt\n",
        "import seaborn as sns\n",
        "import kagglehub\n",
        "from sklearn.preprocessing import LabelEncoder, OneHotEncoder, StandardScaler\n",
        "from sklearn.metrics import accuracy_score, confusion_matrix, classification_report, roc_curve, auc\n",
        "from tensorflow.keras import layers\n",
        "from sklearn.model_selection import train_test_split"
      ]
    },
    {
      "cell_type": "markdown",
      "metadata": {
        "id": "vPAeMrM2hrtn"
      },
      "source": [
        "# 1. Imports dataset and stores it in a data frame"
      ]
    },
    {
      "cell_type": "code",
      "execution_count": null,
      "metadata": {
        "colab": {
          "base_uri": "https://localhost:8080/"
        },
        "id": "FNwAgOMvkaSr",
        "outputId": "9acc3e69-88d2-405a-e4be-f862b078082d"
      },
      "outputs": [
        {
          "output_type": "stream",
          "name": "stdout",
          "text": [
            "Downloading from https://www.kaggle.com/api/v1/datasets/download/heesoo37/120-years-of-olympic-history-athletes-and-results?dataset_version_number=2...\n"
          ]
        },
        {
          "output_type": "stream",
          "name": "stderr",
          "text": [
            "100%|██████████| 5.43M/5.43M [00:01<00:00, 4.07MB/s]"
          ]
        },
        {
          "output_type": "stream",
          "name": "stdout",
          "text": [
            "Extracting files...\n"
          ]
        },
        {
          "output_type": "stream",
          "name": "stderr",
          "text": [
            "\n"
          ]
        }
      ],
      "source": [
        "# Download latest version\n",
        "path = kagglehub.dataset_download(\"heesoo37/120-years-of-olympic-history-athletes-and-results\")\n",
        "\n",
        "# Load the CSV file into a DataFrame\n",
        "csv_path = os.path.join(path, \"athlete_events.csv\")\n",
        "df = pd.read_csv(csv_path)"
      ]
    },
    {
      "cell_type": "markdown",
      "metadata": {
        "id": "kzgTufwAlWrl"
      },
      "source": [
        "# 2. Remove data prior to 1960\n",
        "*   Remove all data before 1960\n",
        "*   Remove columns: 'Name', 'NOC' , 'Games' ,  'Season', 'Team', 'Medal'"
      ]
    },
    {
      "cell_type": "code",
      "execution_count": null,
      "metadata": {
        "id": "AAy3oleVl2Lz"
      },
      "outputs": [],
      "source": [
        "df = df[df['Year'] >= 1960]\n",
        "df = df.drop(['Name', 'NOC', 'City', 'Games'], axis=1)"
      ]
    },
    {
      "cell_type": "markdown",
      "metadata": {
        "id": "-uOeau96uc_h"
      },
      "source": [
        "# 3 Add new columns: [Sport Demand] and [Age Sport Interaction]\n"
      ]
    },
    {
      "cell_type": "code",
      "execution_count": null,
      "metadata": {
        "id": "4El8B9iWsr1c"
      },
      "outputs": [],
      "source": [
        "# Define physical demand dictionary\n",
        "physical_demand = {\n",
        "    'Athletics': 5, 'Boxing': 5, 'Canoeing': 5, 'Cross Country Skiing': 5, 'Gymnastics': 5,\n",
        "    'Judo': 5, 'Modern Pentathlon': 5, 'Nordic Combined': 5, 'Rhythmic Gymnastics': 5,\n",
        "    'Rowing': 5, 'Taekwondo': 5, 'Triathlon': 5, 'Weightlifting': 5, 'Wrestling': 5,\n",
        "    'Alpine Skiing': 4, 'Basketball': 4, 'Biathlon': 4, 'Bobsleigh': 4, 'Cycling': 4,\n",
        "    'Figure Skating': 4, 'Football': 4, 'Freestyle Skiing': 4, 'Handball': 4, 'Hockey': 4,\n",
        "    'Ice Hockey': 4, 'Rugby Sevens': 4, 'Short Track Speed Skating': 4, 'Skeleton': 4,\n",
        "    'Snowboarding': 4, 'Speed Skating': 4, 'Swimming': 4, 'Synchronized Swimming': 4,\n",
        "    'Trampolining': 4, 'Water Polo': 4,\n",
        "    'Baseball': 3, 'Beach Volleyball': 3, 'Diving': 3, 'Fencing': 3, 'Luge': 3, 'Ski Jumping': 3,\n",
        "    'Softball': 3, 'Table Tennis': 3, 'Tennis': 3, 'Volleyball': 3,\n",
        "    'Archery': 2, 'Badminton': 2, 'Curling': 2, 'Equestrianism': 2, 'Sailing': 2,\n",
        "    'Golf': 1, 'Shooting': 1\n",
        "}\n",
        "\n",
        "# Apply to dataset\n",
        "df['sport_demand'] = df['Sport'].map(physical_demand)\n",
        "df['age_sport_interaction'] = df['Age'] * df['sport_demand']\n",
        "\n",
        "# Encode age category for model input\n",
        "def encode_age_category(age):\n",
        "    if age < 20:\n",
        "        return 0  # Young\n",
        "    elif 20 <= age < 26:\n",
        "        return 1  # Prime\n",
        "    elif 26 <= age < 32:\n",
        "        return 2  # Experienced\n",
        "    else:\n",
        "        return 3  # Veteran\n",
        "\n",
        "df['age_category_encoded'] = df['Age'].apply(encode_age_category)"
      ]
    },
    {
      "cell_type": "markdown",
      "metadata": {
        "id": "YqKBNCrRyPyT"
      },
      "source": [
        "# 4. Convert Object Columns to Numerical"
      ]
    },
    {
      "cell_type": "code",
      "execution_count": null,
      "metadata": {
        "id": "hLNKcwzUezJQ"
      },
      "outputs": [],
      "source": [
        "# Dictionary to store LabelEncoders for reverse transformation\n",
        "label_encoders = {}\n",
        "\n",
        "# Encode 'Medal' feature manually\n",
        "medal_mapping = {\n",
        "     np.nan: 0,     # No Medal\n",
        "    'Bronze': 1,\n",
        "    'Silver': 2,\n",
        "    'Gold': 3\n",
        "}\n",
        "df['Medal'] = df['Medal'].map(medal_mapping)\n",
        "\n",
        "# Save reverse mapping for 'Medal'\n",
        "label_encoders['Medal'] = {v: k for k, v in medal_mapping.items()}\n",
        "\n",
        "# List of categorical columns to encode\n",
        "categorical_cols = ['Sex', 'Season', 'Sport', 'Event', 'Team']\n",
        "\n",
        "for col in categorical_cols:\n",
        "    le = LabelEncoder()\n",
        "    df[col] = le.fit_transform(df[col])  # Convert categorical values to numbers\n",
        "    label_encoders[col] = le  # Save encoder for future decoding"
      ]
    },
    {
      "cell_type": "markdown",
      "metadata": {
        "id": "VsLNunjLloTF"
      },
      "source": [
        "# 5. Explores the number of samples and features in the dataset"
      ]
    },
    {
      "cell_type": "code",
      "execution_count": null,
      "metadata": {
        "colab": {
          "base_uri": "https://localhost:8080/"
        },
        "id": "87cOYArw1A3n",
        "outputId": "0d574409-77d5-4880-f441-2e0c4b550f10"
      },
      "outputs": [
        {
          "output_type": "stream",
          "name": "stdout",
          "text": [
            "<class 'pandas.core.frame.DataFrame'>\n",
            "Index: 209072 entries, 0 to 271115\n",
            "Data columns (total 13 columns):\n",
            " #   Column                 Non-Null Count   Dtype  \n",
            "---  ------                 --------------   -----  \n",
            " 0   ID                     209072 non-null  int64  \n",
            " 1   Sex                    209072 non-null  int64  \n",
            " 2   Age                    207957 non-null  float64\n",
            " 3   Height                 197953 non-null  float64\n",
            " 4   Weight                 197248 non-null  float64\n",
            " 5   Team                   209072 non-null  int64  \n",
            " 6   Year                   209072 non-null  int64  \n",
            " 7   Season                 209072 non-null  int64  \n",
            " 8   Sport                  209072 non-null  int64  \n",
            " 9   Event                  209072 non-null  int64  \n",
            " 10  Medal                  209072 non-null  int64  \n",
            " 11  sport_demand           209072 non-null  int64  \n",
            " 12  age_sport_interaction  207957 non-null  float64\n",
            "dtypes: float64(4), int64(9)\n",
            "memory usage: 22.3 MB\n"
          ]
        }
      ],
      "source": [
        "# Display dataset info\n",
        "df.info()"
      ]
    },
    {
      "cell_type": "markdown",
      "metadata": {
        "id": "-HdYN76tiR91"
      },
      "source": [
        "# 6. Discovers the data type of our features"
      ]
    },
    {
      "cell_type": "code",
      "execution_count": null,
      "metadata": {
        "colab": {
          "base_uri": "https://localhost:8080/"
        },
        "id": "diaQgofpiOrB",
        "outputId": "aa7d9789-7ddf-4c56-bdfd-1ee51d0d6cb4"
      },
      "outputs": [
        {
          "output_type": "stream",
          "name": "stdout",
          "text": [
            "ID                         int64\n",
            "Sex                        int64\n",
            "Age                      float64\n",
            "Height                   float64\n",
            "Weight                   float64\n",
            "Team                       int64\n",
            "Year                       int64\n",
            "Season                     int64\n",
            "Sport                      int64\n",
            "Event                      int64\n",
            "Medal                      int64\n",
            "sport_demand               int64\n",
            "age_sport_interaction    float64\n",
            "dtype: object\n"
          ]
        }
      ],
      "source": [
        "print(df.dtypes)"
      ]
    },
    {
      "cell_type": "markdown",
      "metadata": {
        "id": "e5BfGlJnicaC"
      },
      "source": [
        "# 7. Explores the number of samples with N/A value"
      ]
    },
    {
      "cell_type": "code",
      "execution_count": null,
      "metadata": {
        "colab": {
          "base_uri": "https://localhost:8080/",
          "height": 424
        },
        "id": "U1pFD7Gsivio",
        "outputId": "faee9447-8873-4472-8662-e3e9da02e8c0"
      },
      "outputs": [
        {
          "output_type": "execute_result",
          "data": {
            "text/plain": [
              "           ID    Sex    Age  Height  Weight   Team   Year  Season  Sport  \\\n",
              "0       False  False  False   False   False  False  False   False  False   \n",
              "1       False  False  False   False   False  False  False   False  False   \n",
              "4       False  False  False   False   False  False  False   False  False   \n",
              "5       False  False  False   False   False  False  False   False  False   \n",
              "6       False  False  False   False   False  False  False   False  False   \n",
              "...       ...    ...    ...     ...     ...    ...    ...     ...    ...   \n",
              "271111  False  False  False   False   False  False  False   False  False   \n",
              "271112  False  False  False   False   False  False  False   False  False   \n",
              "271113  False  False  False   False   False  False  False   False  False   \n",
              "271114  False  False  False   False   False  False  False   False  False   \n",
              "271115  False  False  False   False   False  False  False   False  False   \n",
              "\n",
              "        Event  Medal  sport_demand  age_sport_interaction  \n",
              "0       False  False         False                  False  \n",
              "1       False  False         False                  False  \n",
              "4       False  False         False                  False  \n",
              "5       False  False         False                  False  \n",
              "6       False  False         False                  False  \n",
              "...       ...    ...           ...                    ...  \n",
              "271111  False  False         False                  False  \n",
              "271112  False  False         False                  False  \n",
              "271113  False  False         False                  False  \n",
              "271114  False  False         False                  False  \n",
              "271115  False  False         False                  False  \n",
              "\n",
              "[209072 rows x 13 columns]"
            ],
            "text/html": [
              "\n",
              "  <div id=\"df-b769b29e-97ee-46f7-9d47-44edfdb3260e\" class=\"colab-df-container\">\n",
              "    <div>\n",
              "<style scoped>\n",
              "    .dataframe tbody tr th:only-of-type {\n",
              "        vertical-align: middle;\n",
              "    }\n",
              "\n",
              "    .dataframe tbody tr th {\n",
              "        vertical-align: top;\n",
              "    }\n",
              "\n",
              "    .dataframe thead th {\n",
              "        text-align: right;\n",
              "    }\n",
              "</style>\n",
              "<table border=\"1\" class=\"dataframe\">\n",
              "  <thead>\n",
              "    <tr style=\"text-align: right;\">\n",
              "      <th></th>\n",
              "      <th>ID</th>\n",
              "      <th>Sex</th>\n",
              "      <th>Age</th>\n",
              "      <th>Height</th>\n",
              "      <th>Weight</th>\n",
              "      <th>Team</th>\n",
              "      <th>Year</th>\n",
              "      <th>Season</th>\n",
              "      <th>Sport</th>\n",
              "      <th>Event</th>\n",
              "      <th>Medal</th>\n",
              "      <th>sport_demand</th>\n",
              "      <th>age_sport_interaction</th>\n",
              "    </tr>\n",
              "  </thead>\n",
              "  <tbody>\n",
              "    <tr>\n",
              "      <th>0</th>\n",
              "      <td>False</td>\n",
              "      <td>False</td>\n",
              "      <td>False</td>\n",
              "      <td>False</td>\n",
              "      <td>False</td>\n",
              "      <td>False</td>\n",
              "      <td>False</td>\n",
              "      <td>False</td>\n",
              "      <td>False</td>\n",
              "      <td>False</td>\n",
              "      <td>False</td>\n",
              "      <td>False</td>\n",
              "      <td>False</td>\n",
              "    </tr>\n",
              "    <tr>\n",
              "      <th>1</th>\n",
              "      <td>False</td>\n",
              "      <td>False</td>\n",
              "      <td>False</td>\n",
              "      <td>False</td>\n",
              "      <td>False</td>\n",
              "      <td>False</td>\n",
              "      <td>False</td>\n",
              "      <td>False</td>\n",
              "      <td>False</td>\n",
              "      <td>False</td>\n",
              "      <td>False</td>\n",
              "      <td>False</td>\n",
              "      <td>False</td>\n",
              "    </tr>\n",
              "    <tr>\n",
              "      <th>4</th>\n",
              "      <td>False</td>\n",
              "      <td>False</td>\n",
              "      <td>False</td>\n",
              "      <td>False</td>\n",
              "      <td>False</td>\n",
              "      <td>False</td>\n",
              "      <td>False</td>\n",
              "      <td>False</td>\n",
              "      <td>False</td>\n",
              "      <td>False</td>\n",
              "      <td>False</td>\n",
              "      <td>False</td>\n",
              "      <td>False</td>\n",
              "    </tr>\n",
              "    <tr>\n",
              "      <th>5</th>\n",
              "      <td>False</td>\n",
              "      <td>False</td>\n",
              "      <td>False</td>\n",
              "      <td>False</td>\n",
              "      <td>False</td>\n",
              "      <td>False</td>\n",
              "      <td>False</td>\n",
              "      <td>False</td>\n",
              "      <td>False</td>\n",
              "      <td>False</td>\n",
              "      <td>False</td>\n",
              "      <td>False</td>\n",
              "      <td>False</td>\n",
              "    </tr>\n",
              "    <tr>\n",
              "      <th>6</th>\n",
              "      <td>False</td>\n",
              "      <td>False</td>\n",
              "      <td>False</td>\n",
              "      <td>False</td>\n",
              "      <td>False</td>\n",
              "      <td>False</td>\n",
              "      <td>False</td>\n",
              "      <td>False</td>\n",
              "      <td>False</td>\n",
              "      <td>False</td>\n",
              "      <td>False</td>\n",
              "      <td>False</td>\n",
              "      <td>False</td>\n",
              "    </tr>\n",
              "    <tr>\n",
              "      <th>...</th>\n",
              "      <td>...</td>\n",
              "      <td>...</td>\n",
              "      <td>...</td>\n",
              "      <td>...</td>\n",
              "      <td>...</td>\n",
              "      <td>...</td>\n",
              "      <td>...</td>\n",
              "      <td>...</td>\n",
              "      <td>...</td>\n",
              "      <td>...</td>\n",
              "      <td>...</td>\n",
              "      <td>...</td>\n",
              "      <td>...</td>\n",
              "    </tr>\n",
              "    <tr>\n",
              "      <th>271111</th>\n",
              "      <td>False</td>\n",
              "      <td>False</td>\n",
              "      <td>False</td>\n",
              "      <td>False</td>\n",
              "      <td>False</td>\n",
              "      <td>False</td>\n",
              "      <td>False</td>\n",
              "      <td>False</td>\n",
              "      <td>False</td>\n",
              "      <td>False</td>\n",
              "      <td>False</td>\n",
              "      <td>False</td>\n",
              "      <td>False</td>\n",
              "    </tr>\n",
              "    <tr>\n",
              "      <th>271112</th>\n",
              "      <td>False</td>\n",
              "      <td>False</td>\n",
              "      <td>False</td>\n",
              "      <td>False</td>\n",
              "      <td>False</td>\n",
              "      <td>False</td>\n",
              "      <td>False</td>\n",
              "      <td>False</td>\n",
              "      <td>False</td>\n",
              "      <td>False</td>\n",
              "      <td>False</td>\n",
              "      <td>False</td>\n",
              "      <td>False</td>\n",
              "    </tr>\n",
              "    <tr>\n",
              "      <th>271113</th>\n",
              "      <td>False</td>\n",
              "      <td>False</td>\n",
              "      <td>False</td>\n",
              "      <td>False</td>\n",
              "      <td>False</td>\n",
              "      <td>False</td>\n",
              "      <td>False</td>\n",
              "      <td>False</td>\n",
              "      <td>False</td>\n",
              "      <td>False</td>\n",
              "      <td>False</td>\n",
              "      <td>False</td>\n",
              "      <td>False</td>\n",
              "    </tr>\n",
              "    <tr>\n",
              "      <th>271114</th>\n",
              "      <td>False</td>\n",
              "      <td>False</td>\n",
              "      <td>False</td>\n",
              "      <td>False</td>\n",
              "      <td>False</td>\n",
              "      <td>False</td>\n",
              "      <td>False</td>\n",
              "      <td>False</td>\n",
              "      <td>False</td>\n",
              "      <td>False</td>\n",
              "      <td>False</td>\n",
              "      <td>False</td>\n",
              "      <td>False</td>\n",
              "    </tr>\n",
              "    <tr>\n",
              "      <th>271115</th>\n",
              "      <td>False</td>\n",
              "      <td>False</td>\n",
              "      <td>False</td>\n",
              "      <td>False</td>\n",
              "      <td>False</td>\n",
              "      <td>False</td>\n",
              "      <td>False</td>\n",
              "      <td>False</td>\n",
              "      <td>False</td>\n",
              "      <td>False</td>\n",
              "      <td>False</td>\n",
              "      <td>False</td>\n",
              "      <td>False</td>\n",
              "    </tr>\n",
              "  </tbody>\n",
              "</table>\n",
              "<p>209072 rows × 13 columns</p>\n",
              "</div>\n",
              "    <div class=\"colab-df-buttons\">\n",
              "\n",
              "  <div class=\"colab-df-container\">\n",
              "    <button class=\"colab-df-convert\" onclick=\"convertToInteractive('df-b769b29e-97ee-46f7-9d47-44edfdb3260e')\"\n",
              "            title=\"Convert this dataframe to an interactive table.\"\n",
              "            style=\"display:none;\">\n",
              "\n",
              "  <svg xmlns=\"http://www.w3.org/2000/svg\" height=\"24px\" viewBox=\"0 -960 960 960\">\n",
              "    <path d=\"M120-120v-720h720v720H120Zm60-500h600v-160H180v160Zm220 220h160v-160H400v160Zm0 220h160v-160H400v160ZM180-400h160v-160H180v160Zm440 0h160v-160H620v160ZM180-180h160v-160H180v160Zm440 0h160v-160H620v160Z\"/>\n",
              "  </svg>\n",
              "    </button>\n",
              "\n",
              "  <style>\n",
              "    .colab-df-container {\n",
              "      display:flex;\n",
              "      gap: 12px;\n",
              "    }\n",
              "\n",
              "    .colab-df-convert {\n",
              "      background-color: #E8F0FE;\n",
              "      border: none;\n",
              "      border-radius: 50%;\n",
              "      cursor: pointer;\n",
              "      display: none;\n",
              "      fill: #1967D2;\n",
              "      height: 32px;\n",
              "      padding: 0 0 0 0;\n",
              "      width: 32px;\n",
              "    }\n",
              "\n",
              "    .colab-df-convert:hover {\n",
              "      background-color: #E2EBFA;\n",
              "      box-shadow: 0px 1px 2px rgba(60, 64, 67, 0.3), 0px 1px 3px 1px rgba(60, 64, 67, 0.15);\n",
              "      fill: #174EA6;\n",
              "    }\n",
              "\n",
              "    .colab-df-buttons div {\n",
              "      margin-bottom: 4px;\n",
              "    }\n",
              "\n",
              "    [theme=dark] .colab-df-convert {\n",
              "      background-color: #3B4455;\n",
              "      fill: #D2E3FC;\n",
              "    }\n",
              "\n",
              "    [theme=dark] .colab-df-convert:hover {\n",
              "      background-color: #434B5C;\n",
              "      box-shadow: 0px 1px 3px 1px rgba(0, 0, 0, 0.15);\n",
              "      filter: drop-shadow(0px 1px 2px rgba(0, 0, 0, 0.3));\n",
              "      fill: #FFFFFF;\n",
              "    }\n",
              "  </style>\n",
              "\n",
              "    <script>\n",
              "      const buttonEl =\n",
              "        document.querySelector('#df-b769b29e-97ee-46f7-9d47-44edfdb3260e button.colab-df-convert');\n",
              "      buttonEl.style.display =\n",
              "        google.colab.kernel.accessAllowed ? 'block' : 'none';\n",
              "\n",
              "      async function convertToInteractive(key) {\n",
              "        const element = document.querySelector('#df-b769b29e-97ee-46f7-9d47-44edfdb3260e');\n",
              "        const dataTable =\n",
              "          await google.colab.kernel.invokeFunction('convertToInteractive',\n",
              "                                                    [key], {});\n",
              "        if (!dataTable) return;\n",
              "\n",
              "        const docLinkHtml = 'Like what you see? Visit the ' +\n",
              "          '<a target=\"_blank\" href=https://colab.research.google.com/notebooks/data_table.ipynb>data table notebook</a>'\n",
              "          + ' to learn more about interactive tables.';\n",
              "        element.innerHTML = '';\n",
              "        dataTable['output_type'] = 'display_data';\n",
              "        await google.colab.output.renderOutput(dataTable, element);\n",
              "        const docLink = document.createElement('div');\n",
              "        docLink.innerHTML = docLinkHtml;\n",
              "        element.appendChild(docLink);\n",
              "      }\n",
              "    </script>\n",
              "  </div>\n",
              "\n",
              "\n",
              "<div id=\"df-750384bf-76cc-4c29-ab3f-b07db2c5a5ee\">\n",
              "  <button class=\"colab-df-quickchart\" onclick=\"quickchart('df-750384bf-76cc-4c29-ab3f-b07db2c5a5ee')\"\n",
              "            title=\"Suggest charts\"\n",
              "            style=\"display:none;\">\n",
              "\n",
              "<svg xmlns=\"http://www.w3.org/2000/svg\" height=\"24px\"viewBox=\"0 0 24 24\"\n",
              "     width=\"24px\">\n",
              "    <g>\n",
              "        <path d=\"M19 3H5c-1.1 0-2 .9-2 2v14c0 1.1.9 2 2 2h14c1.1 0 2-.9 2-2V5c0-1.1-.9-2-2-2zM9 17H7v-7h2v7zm4 0h-2V7h2v10zm4 0h-2v-4h2v4z\"/>\n",
              "    </g>\n",
              "</svg>\n",
              "  </button>\n",
              "\n",
              "<style>\n",
              "  .colab-df-quickchart {\n",
              "      --bg-color: #E8F0FE;\n",
              "      --fill-color: #1967D2;\n",
              "      --hover-bg-color: #E2EBFA;\n",
              "      --hover-fill-color: #174EA6;\n",
              "      --disabled-fill-color: #AAA;\n",
              "      --disabled-bg-color: #DDD;\n",
              "  }\n",
              "\n",
              "  [theme=dark] .colab-df-quickchart {\n",
              "      --bg-color: #3B4455;\n",
              "      --fill-color: #D2E3FC;\n",
              "      --hover-bg-color: #434B5C;\n",
              "      --hover-fill-color: #FFFFFF;\n",
              "      --disabled-bg-color: #3B4455;\n",
              "      --disabled-fill-color: #666;\n",
              "  }\n",
              "\n",
              "  .colab-df-quickchart {\n",
              "    background-color: var(--bg-color);\n",
              "    border: none;\n",
              "    border-radius: 50%;\n",
              "    cursor: pointer;\n",
              "    display: none;\n",
              "    fill: var(--fill-color);\n",
              "    height: 32px;\n",
              "    padding: 0;\n",
              "    width: 32px;\n",
              "  }\n",
              "\n",
              "  .colab-df-quickchart:hover {\n",
              "    background-color: var(--hover-bg-color);\n",
              "    box-shadow: 0 1px 2px rgba(60, 64, 67, 0.3), 0 1px 3px 1px rgba(60, 64, 67, 0.15);\n",
              "    fill: var(--button-hover-fill-color);\n",
              "  }\n",
              "\n",
              "  .colab-df-quickchart-complete:disabled,\n",
              "  .colab-df-quickchart-complete:disabled:hover {\n",
              "    background-color: var(--disabled-bg-color);\n",
              "    fill: var(--disabled-fill-color);\n",
              "    box-shadow: none;\n",
              "  }\n",
              "\n",
              "  .colab-df-spinner {\n",
              "    border: 2px solid var(--fill-color);\n",
              "    border-color: transparent;\n",
              "    border-bottom-color: var(--fill-color);\n",
              "    animation:\n",
              "      spin 1s steps(1) infinite;\n",
              "  }\n",
              "\n",
              "  @keyframes spin {\n",
              "    0% {\n",
              "      border-color: transparent;\n",
              "      border-bottom-color: var(--fill-color);\n",
              "      border-left-color: var(--fill-color);\n",
              "    }\n",
              "    20% {\n",
              "      border-color: transparent;\n",
              "      border-left-color: var(--fill-color);\n",
              "      border-top-color: var(--fill-color);\n",
              "    }\n",
              "    30% {\n",
              "      border-color: transparent;\n",
              "      border-left-color: var(--fill-color);\n",
              "      border-top-color: var(--fill-color);\n",
              "      border-right-color: var(--fill-color);\n",
              "    }\n",
              "    40% {\n",
              "      border-color: transparent;\n",
              "      border-right-color: var(--fill-color);\n",
              "      border-top-color: var(--fill-color);\n",
              "    }\n",
              "    60% {\n",
              "      border-color: transparent;\n",
              "      border-right-color: var(--fill-color);\n",
              "    }\n",
              "    80% {\n",
              "      border-color: transparent;\n",
              "      border-right-color: var(--fill-color);\n",
              "      border-bottom-color: var(--fill-color);\n",
              "    }\n",
              "    90% {\n",
              "      border-color: transparent;\n",
              "      border-bottom-color: var(--fill-color);\n",
              "    }\n",
              "  }\n",
              "</style>\n",
              "\n",
              "  <script>\n",
              "    async function quickchart(key) {\n",
              "      const quickchartButtonEl =\n",
              "        document.querySelector('#' + key + ' button');\n",
              "      quickchartButtonEl.disabled = true;  // To prevent multiple clicks.\n",
              "      quickchartButtonEl.classList.add('colab-df-spinner');\n",
              "      try {\n",
              "        const charts = await google.colab.kernel.invokeFunction(\n",
              "            'suggestCharts', [key], {});\n",
              "      } catch (error) {\n",
              "        console.error('Error during call to suggestCharts:', error);\n",
              "      }\n",
              "      quickchartButtonEl.classList.remove('colab-df-spinner');\n",
              "      quickchartButtonEl.classList.add('colab-df-quickchart-complete');\n",
              "    }\n",
              "    (() => {\n",
              "      let quickchartButtonEl =\n",
              "        document.querySelector('#df-750384bf-76cc-4c29-ab3f-b07db2c5a5ee button');\n",
              "      quickchartButtonEl.style.display =\n",
              "        google.colab.kernel.accessAllowed ? 'block' : 'none';\n",
              "    })();\n",
              "  </script>\n",
              "</div>\n",
              "\n",
              "    </div>\n",
              "  </div>\n"
            ],
            "application/vnd.google.colaboratory.intrinsic+json": {
              "type": "dataframe"
            }
          },
          "metadata": {},
          "execution_count": 8
        }
      ],
      "source": [
        "df.isnull()"
      ]
    },
    {
      "cell_type": "markdown",
      "metadata": {
        "id": "zBEGr8XWknbU"
      },
      "source": [
        "# 8. Identifies duplicated samples"
      ]
    },
    {
      "cell_type": "code",
      "execution_count": null,
      "metadata": {
        "colab": {
          "base_uri": "https://localhost:8080/"
        },
        "id": "Jpwm-qPFkmRr",
        "outputId": "70cd73c1-d112-4c33-d4c7-1ddb92504525"
      },
      "outputs": [
        {
          "output_type": "stream",
          "name": "stdout",
          "text": [
            "Empty DataFrame\n",
            "Columns: [ID, Sex, Age, Height, Weight, Team, Year, Season, Sport, Event, Medal, sport_demand, age_sport_interaction]\n",
            "Index: []\n"
          ]
        }
      ],
      "source": [
        "# Identify duplicate rows\n",
        "duplicates = df[df.duplicated()]\n",
        "\n",
        "# Display duplicates\n",
        "print(duplicates)\n",
        "\n",
        "# Removes all N/A values\n",
        "df = df.dropna()"
      ]
    },
    {
      "cell_type": "markdown",
      "metadata": {
        "id": "BG_kw6Eimf7o"
      },
      "source": [
        "# 9. Preprocessing"
      ]
    },
    {
      "cell_type": "markdown",
      "metadata": {
        "id": "bB-3Uk30oPFD"
      },
      "source": [
        "# 9b. Standardize Numerical Features"
      ]
    },
    {
      "cell_type": "code",
      "execution_count": null,
      "metadata": {
        "id": "XXgT2KQRnCKn"
      },
      "outputs": [],
      "source": [
        "# Standardize numerical features\n",
        "numerical_features = ['Height', 'Weight', 'Age']\n",
        "scaler = StandardScaler()\n",
        "df[numerical_features] = scaler.fit_transform(df[numerical_features])"
      ]
    },
    {
      "cell_type": "markdown",
      "metadata": {
        "id": "nE0n5MrlmkqR"
      },
      "source": [
        "# 10. Data Splitting"
      ]
    },
    {
      "cell_type": "code",
      "execution_count": null,
      "metadata": {
        "colab": {
          "base_uri": "https://localhost:8080/"
        },
        "id": "ODwZhHzqnCrL",
        "outputId": "c45a8768-822a-4862-8563-52643efaa582"
      },
      "outputs": [
        {
          "output_type": "stream",
          "name": "stdout",
          "text": [
            "ID                       0\n",
            "Sex                      0\n",
            "Age                      0\n",
            "Height                   0\n",
            "Weight                   0\n",
            "Team                     0\n",
            "Year                     0\n",
            "Season                   0\n",
            "Sport                    0\n",
            "Event                    0\n",
            "Medal                    0\n",
            "sport_demand             0\n",
            "age_sport_interaction    0\n",
            "dtype: int64\n",
            "ID                       0\n",
            "Sex                      0\n",
            "Age                      0\n",
            "Height                   0\n",
            "Weight                   0\n",
            "Team                     0\n",
            "Year                     0\n",
            "Season                   0\n",
            "Sport                    0\n",
            "Event                    0\n",
            "Medal                    0\n",
            "sport_demand             0\n",
            "age_sport_interaction    0\n",
            "dtype: int64\n",
            "(196084, 13)\n"
          ]
        }
      ],
      "source": [
        "print(df.isna().sum())  # Check for missing values\n",
        "print(np.isinf(df).sum())  # Check for infinite values\n",
        "\n",
        "# Splitting dataset into training and testing\n",
        "X = df.drop(columns=['Medal'])\n",
        "y = df['Medal']\n",
        "print(df.shape)\n",
        "X_train, X_temp, y_train, y_temp = train_test_split(X, y, test_size=0.3, random_state=42)\n",
        "X_val, X_test, y_val, y_test = train_test_split(X_temp, y_temp, test_size=0.5, random_state=42)"
      ]
    },
    {
      "cell_type": "code",
      "execution_count": null,
      "metadata": {
        "colab": {
          "base_uri": "https://localhost:8080/"
        },
        "id": "BCKdXzE9pKKO",
        "outputId": "751a1c44-6c65-4427-f684-9dc466a31637"
      },
      "outputs": [
        {
          "output_type": "stream",
          "name": "stdout",
          "text": [
            "<class 'pandas.core.frame.DataFrame'>\n",
            "Index: 196084 entries, 0 to 271115\n",
            "Data columns (total 13 columns):\n",
            " #   Column                 Non-Null Count   Dtype  \n",
            "---  ------                 --------------   -----  \n",
            " 0   ID                     196084 non-null  int64  \n",
            " 1   Sex                    196084 non-null  int64  \n",
            " 2   Age                    196084 non-null  float64\n",
            " 3   Height                 196084 non-null  float64\n",
            " 4   Weight                 196084 non-null  float64\n",
            " 5   Team                   196084 non-null  int64  \n",
            " 6   Year                   196084 non-null  int64  \n",
            " 7   Season                 196084 non-null  int64  \n",
            " 8   Sport                  196084 non-null  int64  \n",
            " 9   Event                  196084 non-null  int64  \n",
            " 10  Medal                  196084 non-null  int64  \n",
            " 11  sport_demand           196084 non-null  int64  \n",
            " 12  age_sport_interaction  196084 non-null  float64\n",
            "dtypes: float64(4), int64(9)\n",
            "memory usage: 20.9 MB\n"
          ]
        }
      ],
      "source": [
        "# Display dataset info\n",
        "df.info()"
      ]
    },
    {
      "cell_type": "markdown",
      "metadata": {
        "id": "LZfO_MHImpK0"
      },
      "source": [
        "# 11. Fitting the model"
      ]
    },
    {
      "cell_type": "code",
      "execution_count": null,
      "metadata": {
        "colab": {
          "base_uri": "https://localhost:8080/",
          "height": 507
        },
        "id": "66g0KDXRnDPm",
        "outputId": "f15bf4ef-b909-4aba-fe7a-56b8165d3749"
      },
      "outputs": [
        {
          "output_type": "stream",
          "name": "stderr",
          "text": [
            "/usr/local/lib/python3.11/dist-packages/keras/src/layers/core/dense.py:87: UserWarning: Do not pass an `input_shape`/`input_dim` argument to a layer. When using Sequential models, prefer using an `Input(shape)` object as the first layer in the model instead.\n",
            "  super().__init__(activity_regularizer=activity_regularizer, **kwargs)\n"
          ]
        },
        {
          "output_type": "display_data",
          "data": {
            "text/plain": [
              "\u001b[1mModel: \"sequential\"\u001b[0m\n"
            ],
            "text/html": [
              "<pre style=\"white-space:pre;overflow-x:auto;line-height:normal;font-family:Menlo,'DejaVu Sans Mono',consolas,'Courier New',monospace\"><span style=\"font-weight: bold\">Model: \"sequential\"</span>\n",
              "</pre>\n"
            ]
          },
          "metadata": {}
        },
        {
          "output_type": "display_data",
          "data": {
            "text/plain": [
              "┏━━━━━━━━━━━━━━━━━━━━━━━━━━━━━━━━━┳━━━━━━━━━━━━━━━━━━━━━━━━┳━━━━━━━━━━━━━━━┓\n",
              "┃\u001b[1m \u001b[0m\u001b[1mLayer (type)                   \u001b[0m\u001b[1m \u001b[0m┃\u001b[1m \u001b[0m\u001b[1mOutput Shape          \u001b[0m\u001b[1m \u001b[0m┃\u001b[1m \u001b[0m\u001b[1m      Param #\u001b[0m\u001b[1m \u001b[0m┃\n",
              "┡━━━━━━━━━━━━━━━━━━━━━━━━━━━━━━━━━╇━━━━━━━━━━━━━━━━━━━━━━━━╇━━━━━━━━━━━━━━━┩\n",
              "│ dense (\u001b[38;5;33mDense\u001b[0m)                   │ (\u001b[38;5;45mNone\u001b[0m, \u001b[38;5;34m128\u001b[0m)            │         \u001b[38;5;34m1,664\u001b[0m │\n",
              "├─────────────────────────────────┼────────────────────────┼───────────────┤\n",
              "│ batch_normalization             │ (\u001b[38;5;45mNone\u001b[0m, \u001b[38;5;34m128\u001b[0m)            │           \u001b[38;5;34m512\u001b[0m │\n",
              "│ (\u001b[38;5;33mBatchNormalization\u001b[0m)            │                        │               │\n",
              "├─────────────────────────────────┼────────────────────────┼───────────────┤\n",
              "│ dropout (\u001b[38;5;33mDropout\u001b[0m)               │ (\u001b[38;5;45mNone\u001b[0m, \u001b[38;5;34m128\u001b[0m)            │             \u001b[38;5;34m0\u001b[0m │\n",
              "├─────────────────────────────────┼────────────────────────┼───────────────┤\n",
              "│ dense_1 (\u001b[38;5;33mDense\u001b[0m)                 │ (\u001b[38;5;45mNone\u001b[0m, \u001b[38;5;34m64\u001b[0m)             │         \u001b[38;5;34m8,256\u001b[0m │\n",
              "├─────────────────────────────────┼────────────────────────┼───────────────┤\n",
              "│ batch_normalization_1           │ (\u001b[38;5;45mNone\u001b[0m, \u001b[38;5;34m64\u001b[0m)             │           \u001b[38;5;34m256\u001b[0m │\n",
              "│ (\u001b[38;5;33mBatchNormalization\u001b[0m)            │                        │               │\n",
              "├─────────────────────────────────┼────────────────────────┼───────────────┤\n",
              "│ dropout_1 (\u001b[38;5;33mDropout\u001b[0m)             │ (\u001b[38;5;45mNone\u001b[0m, \u001b[38;5;34m64\u001b[0m)             │             \u001b[38;5;34m0\u001b[0m │\n",
              "├─────────────────────────────────┼────────────────────────┼───────────────┤\n",
              "│ dense_2 (\u001b[38;5;33mDense\u001b[0m)                 │ (\u001b[38;5;45mNone\u001b[0m, \u001b[38;5;34m32\u001b[0m)             │         \u001b[38;5;34m2,080\u001b[0m │\n",
              "├─────────────────────────────────┼────────────────────────┼───────────────┤\n",
              "│ batch_normalization_2           │ (\u001b[38;5;45mNone\u001b[0m, \u001b[38;5;34m32\u001b[0m)             │           \u001b[38;5;34m128\u001b[0m │\n",
              "│ (\u001b[38;5;33mBatchNormalization\u001b[0m)            │                        │               │\n",
              "├─────────────────────────────────┼────────────────────────┼───────────────┤\n",
              "│ dense_3 (\u001b[38;5;33mDense\u001b[0m)                 │ (\u001b[38;5;45mNone\u001b[0m, \u001b[38;5;34m4\u001b[0m)              │           \u001b[38;5;34m132\u001b[0m │\n",
              "└─────────────────────────────────┴────────────────────────┴───────────────┘\n"
            ],
            "text/html": [
              "<pre style=\"white-space:pre;overflow-x:auto;line-height:normal;font-family:Menlo,'DejaVu Sans Mono',consolas,'Courier New',monospace\">┏━━━━━━━━━━━━━━━━━━━━━━━━━━━━━━━━━┳━━━━━━━━━━━━━━━━━━━━━━━━┳━━━━━━━━━━━━━━━┓\n",
              "┃<span style=\"font-weight: bold\"> Layer (type)                    </span>┃<span style=\"font-weight: bold\"> Output Shape           </span>┃<span style=\"font-weight: bold\">       Param # </span>┃\n",
              "┡━━━━━━━━━━━━━━━━━━━━━━━━━━━━━━━━━╇━━━━━━━━━━━━━━━━━━━━━━━━╇━━━━━━━━━━━━━━━┩\n",
              "│ dense (<span style=\"color: #0087ff; text-decoration-color: #0087ff\">Dense</span>)                   │ (<span style=\"color: #00d7ff; text-decoration-color: #00d7ff\">None</span>, <span style=\"color: #00af00; text-decoration-color: #00af00\">128</span>)            │         <span style=\"color: #00af00; text-decoration-color: #00af00\">1,664</span> │\n",
              "├─────────────────────────────────┼────────────────────────┼───────────────┤\n",
              "│ batch_normalization             │ (<span style=\"color: #00d7ff; text-decoration-color: #00d7ff\">None</span>, <span style=\"color: #00af00; text-decoration-color: #00af00\">128</span>)            │           <span style=\"color: #00af00; text-decoration-color: #00af00\">512</span> │\n",
              "│ (<span style=\"color: #0087ff; text-decoration-color: #0087ff\">BatchNormalization</span>)            │                        │               │\n",
              "├─────────────────────────────────┼────────────────────────┼───────────────┤\n",
              "│ dropout (<span style=\"color: #0087ff; text-decoration-color: #0087ff\">Dropout</span>)               │ (<span style=\"color: #00d7ff; text-decoration-color: #00d7ff\">None</span>, <span style=\"color: #00af00; text-decoration-color: #00af00\">128</span>)            │             <span style=\"color: #00af00; text-decoration-color: #00af00\">0</span> │\n",
              "├─────────────────────────────────┼────────────────────────┼───────────────┤\n",
              "│ dense_1 (<span style=\"color: #0087ff; text-decoration-color: #0087ff\">Dense</span>)                 │ (<span style=\"color: #00d7ff; text-decoration-color: #00d7ff\">None</span>, <span style=\"color: #00af00; text-decoration-color: #00af00\">64</span>)             │         <span style=\"color: #00af00; text-decoration-color: #00af00\">8,256</span> │\n",
              "├─────────────────────────────────┼────────────────────────┼───────────────┤\n",
              "│ batch_normalization_1           │ (<span style=\"color: #00d7ff; text-decoration-color: #00d7ff\">None</span>, <span style=\"color: #00af00; text-decoration-color: #00af00\">64</span>)             │           <span style=\"color: #00af00; text-decoration-color: #00af00\">256</span> │\n",
              "│ (<span style=\"color: #0087ff; text-decoration-color: #0087ff\">BatchNormalization</span>)            │                        │               │\n",
              "├─────────────────────────────────┼────────────────────────┼───────────────┤\n",
              "│ dropout_1 (<span style=\"color: #0087ff; text-decoration-color: #0087ff\">Dropout</span>)             │ (<span style=\"color: #00d7ff; text-decoration-color: #00d7ff\">None</span>, <span style=\"color: #00af00; text-decoration-color: #00af00\">64</span>)             │             <span style=\"color: #00af00; text-decoration-color: #00af00\">0</span> │\n",
              "├─────────────────────────────────┼────────────────────────┼───────────────┤\n",
              "│ dense_2 (<span style=\"color: #0087ff; text-decoration-color: #0087ff\">Dense</span>)                 │ (<span style=\"color: #00d7ff; text-decoration-color: #00d7ff\">None</span>, <span style=\"color: #00af00; text-decoration-color: #00af00\">32</span>)             │         <span style=\"color: #00af00; text-decoration-color: #00af00\">2,080</span> │\n",
              "├─────────────────────────────────┼────────────────────────┼───────────────┤\n",
              "│ batch_normalization_2           │ (<span style=\"color: #00d7ff; text-decoration-color: #00d7ff\">None</span>, <span style=\"color: #00af00; text-decoration-color: #00af00\">32</span>)             │           <span style=\"color: #00af00; text-decoration-color: #00af00\">128</span> │\n",
              "│ (<span style=\"color: #0087ff; text-decoration-color: #0087ff\">BatchNormalization</span>)            │                        │               │\n",
              "├─────────────────────────────────┼────────────────────────┼───────────────┤\n",
              "│ dense_3 (<span style=\"color: #0087ff; text-decoration-color: #0087ff\">Dense</span>)                 │ (<span style=\"color: #00d7ff; text-decoration-color: #00d7ff\">None</span>, <span style=\"color: #00af00; text-decoration-color: #00af00\">4</span>)              │           <span style=\"color: #00af00; text-decoration-color: #00af00\">132</span> │\n",
              "└─────────────────────────────────┴────────────────────────┴───────────────┘\n",
              "</pre>\n"
            ]
          },
          "metadata": {}
        },
        {
          "output_type": "display_data",
          "data": {
            "text/plain": [
              "\u001b[1m Total params: \u001b[0m\u001b[38;5;34m13,028\u001b[0m (50.89 KB)\n"
            ],
            "text/html": [
              "<pre style=\"white-space:pre;overflow-x:auto;line-height:normal;font-family:Menlo,'DejaVu Sans Mono',consolas,'Courier New',monospace\"><span style=\"font-weight: bold\"> Total params: </span><span style=\"color: #00af00; text-decoration-color: #00af00\">13,028</span> (50.89 KB)\n",
              "</pre>\n"
            ]
          },
          "metadata": {}
        },
        {
          "output_type": "display_data",
          "data": {
            "text/plain": [
              "\u001b[1m Trainable params: \u001b[0m\u001b[38;5;34m12,580\u001b[0m (49.14 KB)\n"
            ],
            "text/html": [
              "<pre style=\"white-space:pre;overflow-x:auto;line-height:normal;font-family:Menlo,'DejaVu Sans Mono',consolas,'Courier New',monospace\"><span style=\"font-weight: bold\"> Trainable params: </span><span style=\"color: #00af00; text-decoration-color: #00af00\">12,580</span> (49.14 KB)\n",
              "</pre>\n"
            ]
          },
          "metadata": {}
        },
        {
          "output_type": "display_data",
          "data": {
            "text/plain": [
              "\u001b[1m Non-trainable params: \u001b[0m\u001b[38;5;34m448\u001b[0m (1.75 KB)\n"
            ],
            "text/html": [
              "<pre style=\"white-space:pre;overflow-x:auto;line-height:normal;font-family:Menlo,'DejaVu Sans Mono',consolas,'Courier New',monospace\"><span style=\"font-weight: bold\"> Non-trainable params: </span><span style=\"color: #00af00; text-decoration-color: #00af00\">448</span> (1.75 KB)\n",
              "</pre>\n"
            ]
          },
          "metadata": {}
        }
      ],
      "source": [
        "# Define the model architecture\n",
        "model = keras.Sequential([\n",
        "    layers.Dense(128, activation='relu', input_shape=(X_train.shape[1],)),\n",
        "    layers.BatchNormalization(),\n",
        "    layers.Dropout(0.3),\n",
        "    layers.Dense(64, activation='relu'),\n",
        "    layers.BatchNormalization(),\n",
        "    layers.Dropout(0.3),\n",
        "    layers.Dense(32, activation='relu'),\n",
        "    layers.BatchNormalization(),\n",
        "    layers.Dense(4, activation='softmax')  # 4 output classes for medal encoding\n",
        "])\n",
        "\n",
        "# Compile the model\n",
        "model.compile(optimizer='adam',\n",
        "              loss='sparse_categorical_crossentropy',\n",
        "              metrics=['accuracy'])\n",
        "\n",
        "# Display model summary\n",
        "model.summary()"
      ]
    },
    {
      "cell_type": "markdown",
      "metadata": {
        "id": "fj_RIm7DwvSr"
      },
      "source": [
        "# 12. Train Model"
      ]
    },
    {
      "cell_type": "code",
      "execution_count": null,
      "metadata": {
        "colab": {
          "base_uri": "https://localhost:8080/"
        },
        "id": "_TZSJYRrwt7U",
        "outputId": "733d4a84-9f29-4908-fb5a-a13c80b5cf45"
      },
      "outputs": [
        {
          "output_type": "stream",
          "name": "stdout",
          "text": [
            "Epoch 1/50\n",
            "\u001b[1m4290/4290\u001b[0m \u001b[32m━━━━━━━━━━━━━━━━━━━━\u001b[0m\u001b[37m\u001b[0m \u001b[1m19s\u001b[0m 3ms/step - accuracy: 0.7989 - loss: 0.6999 - val_accuracy: 0.8594 - val_loss: 0.5686\n",
            "Epoch 2/50\n",
            "\u001b[1m4290/4290\u001b[0m \u001b[32m━━━━━━━━━━━━━━━━━━━━\u001b[0m\u001b[37m\u001b[0m \u001b[1m11s\u001b[0m 3ms/step - accuracy: 0.8589 - loss: 0.5646 - val_accuracy: 0.8593 - val_loss: 0.5592\n",
            "Epoch 3/50\n",
            "\u001b[1m4290/4290\u001b[0m \u001b[32m━━━━━━━━━━━━━━━━━━━━\u001b[0m\u001b[37m\u001b[0m \u001b[1m11s\u001b[0m 3ms/step - accuracy: 0.8576 - loss: 0.5661 - val_accuracy: 0.8594 - val_loss: 0.5596\n",
            "Epoch 4/50\n",
            "\u001b[1m4290/4290\u001b[0m \u001b[32m━━━━━━━━━━━━━━━━━━━━\u001b[0m\u001b[37m\u001b[0m \u001b[1m11s\u001b[0m 3ms/step - accuracy: 0.8591 - loss: 0.5611 - val_accuracy: 0.8593 - val_loss: 0.5597\n",
            "Epoch 5/50\n",
            "\u001b[1m4290/4290\u001b[0m \u001b[32m━━━━━━━━━━━━━━━━━━━━\u001b[0m\u001b[37m\u001b[0m \u001b[1m11s\u001b[0m 3ms/step - accuracy: 0.8588 - loss: 0.5616 - val_accuracy: 0.8593 - val_loss: 0.5600\n",
            "Epoch 6/50\n",
            "\u001b[1m4290/4290\u001b[0m \u001b[32m━━━━━━━━━━━━━━━━━━━━\u001b[0m\u001b[37m\u001b[0m \u001b[1m11s\u001b[0m 3ms/step - accuracy: 0.8591 - loss: 0.5596 - val_accuracy: 0.8594 - val_loss: 0.5654\n",
            "Epoch 7/50\n",
            "\u001b[1m4290/4290\u001b[0m \u001b[32m━━━━━━━━━━━━━━━━━━━━\u001b[0m\u001b[37m\u001b[0m \u001b[1m11s\u001b[0m 3ms/step - accuracy: 0.8580 - loss: 0.5634 - val_accuracy: 0.8594 - val_loss: 0.5583\n",
            "Epoch 8/50\n",
            "\u001b[1m4290/4290\u001b[0m \u001b[32m━━━━━━━━━━━━━━━━━━━━\u001b[0m\u001b[37m\u001b[0m \u001b[1m11s\u001b[0m 3ms/step - accuracy: 0.8574 - loss: 0.5645 - val_accuracy: 0.8594 - val_loss: 0.5586\n",
            "Epoch 9/50\n",
            "\u001b[1m4290/4290\u001b[0m \u001b[32m━━━━━━━━━━━━━━━━━━━━\u001b[0m\u001b[37m\u001b[0m \u001b[1m11s\u001b[0m 2ms/step - accuracy: 0.8594 - loss: 0.5585 - val_accuracy: 0.8594 - val_loss: 0.5638\n",
            "Epoch 10/50\n",
            "\u001b[1m4290/4290\u001b[0m \u001b[32m━━━━━━━━━━━━━━━━━━━━\u001b[0m\u001b[37m\u001b[0m \u001b[1m11s\u001b[0m 2ms/step - accuracy: 0.8594 - loss: 0.5584 - val_accuracy: 0.8594 - val_loss: 0.5574\n",
            "Epoch 11/50\n",
            "\u001b[1m4290/4290\u001b[0m \u001b[32m━━━━━━━━━━━━━━━━━━━━\u001b[0m\u001b[37m\u001b[0m \u001b[1m11s\u001b[0m 2ms/step - accuracy: 0.8581 - loss: 0.5622 - val_accuracy: 0.8594 - val_loss: 0.5610\n",
            "Epoch 12/50\n",
            "\u001b[1m4290/4290\u001b[0m \u001b[32m━━━━━━━━━━━━━━━━━━━━\u001b[0m\u001b[37m\u001b[0m \u001b[1m11s\u001b[0m 2ms/step - accuracy: 0.8579 - loss: 0.5631 - val_accuracy: 0.8594 - val_loss: 0.5580\n",
            "Epoch 13/50\n",
            "\u001b[1m4290/4290\u001b[0m \u001b[32m━━━━━━━━━━━━━━━━━━━━\u001b[0m\u001b[37m\u001b[0m \u001b[1m11s\u001b[0m 2ms/step - accuracy: 0.8581 - loss: 0.5622 - val_accuracy: 0.8593 - val_loss: 0.5597\n",
            "Epoch 14/50\n",
            "\u001b[1m4290/4290\u001b[0m \u001b[32m━━━━━━━━━━━━━━━━━━━━\u001b[0m\u001b[37m\u001b[0m \u001b[1m11s\u001b[0m 3ms/step - accuracy: 0.8587 - loss: 0.5600 - val_accuracy: 0.8593 - val_loss: 0.5564\n",
            "Epoch 15/50\n",
            "\u001b[1m4290/4290\u001b[0m \u001b[32m━━━━━━━━━━━━━━━━━━━━\u001b[0m\u001b[37m\u001b[0m \u001b[1m11s\u001b[0m 3ms/step - accuracy: 0.8580 - loss: 0.5614 - val_accuracy: 0.8594 - val_loss: 0.5567\n",
            "Epoch 16/50\n",
            "\u001b[1m4290/4290\u001b[0m \u001b[32m━━━━━━━━━━━━━━━━━━━━\u001b[0m\u001b[37m\u001b[0m \u001b[1m11s\u001b[0m 2ms/step - accuracy: 0.8575 - loss: 0.5628 - val_accuracy: 0.8593 - val_loss: 0.5588\n",
            "Epoch 17/50\n",
            "\u001b[1m4290/4290\u001b[0m \u001b[32m━━━━━━━━━━━━━━━━━━━━\u001b[0m\u001b[37m\u001b[0m \u001b[1m11s\u001b[0m 3ms/step - accuracy: 0.8585 - loss: 0.5599 - val_accuracy: 0.8594 - val_loss: 0.5579\n",
            "Epoch 18/50\n",
            "\u001b[1m4290/4290\u001b[0m \u001b[32m━━━━━━━━━━━━━━━━━━━━\u001b[0m\u001b[37m\u001b[0m \u001b[1m11s\u001b[0m 3ms/step - accuracy: 0.8599 - loss: 0.5557 - val_accuracy: 0.8593 - val_loss: 0.5574\n",
            "Epoch 19/50\n",
            "\u001b[1m4290/4290\u001b[0m \u001b[32m━━━━━━━━━━━━━━━━━━━━\u001b[0m\u001b[37m\u001b[0m \u001b[1m11s\u001b[0m 3ms/step - accuracy: 0.8589 - loss: 0.5584 - val_accuracy: 0.8594 - val_loss: 0.5577\n",
            "Epoch 20/50\n",
            "\u001b[1m4290/4290\u001b[0m \u001b[32m━━━━━━━━━━━━━━━━━━━━\u001b[0m\u001b[37m\u001b[0m \u001b[1m11s\u001b[0m 2ms/step - accuracy: 0.8586 - loss: 0.5592 - val_accuracy: 0.8594 - val_loss: 0.5596\n",
            "Epoch 21/50\n",
            "\u001b[1m4290/4290\u001b[0m \u001b[32m━━━━━━━━━━━━━━━━━━━━\u001b[0m\u001b[37m\u001b[0m \u001b[1m11s\u001b[0m 3ms/step - accuracy: 0.8579 - loss: 0.5605 - val_accuracy: 0.8593 - val_loss: 0.5555\n",
            "Epoch 22/50\n",
            "\u001b[1m4290/4290\u001b[0m \u001b[32m━━━━━━━━━━━━━━━━━━━━\u001b[0m\u001b[37m\u001b[0m \u001b[1m11s\u001b[0m 2ms/step - accuracy: 0.8581 - loss: 0.5598 - val_accuracy: 0.8594 - val_loss: 0.5564\n",
            "Epoch 23/50\n",
            "\u001b[1m4290/4290\u001b[0m \u001b[32m━━━━━━━━━━━━━━━━━━━━\u001b[0m\u001b[37m\u001b[0m \u001b[1m11s\u001b[0m 2ms/step - accuracy: 0.8595 - loss: 0.5555 - val_accuracy: 0.8593 - val_loss: 0.5578\n",
            "Epoch 24/50\n",
            "\u001b[1m4290/4290\u001b[0m \u001b[32m━━━━━━━━━━━━━━━━━━━━\u001b[0m\u001b[37m\u001b[0m \u001b[1m11s\u001b[0m 2ms/step - accuracy: 0.8597 - loss: 0.5550 - val_accuracy: 0.8594 - val_loss: 0.5592\n",
            "Epoch 25/50\n",
            "\u001b[1m4290/4290\u001b[0m \u001b[32m━━━━━━━━━━━━━━━━━━━━\u001b[0m\u001b[37m\u001b[0m \u001b[1m11s\u001b[0m 2ms/step - accuracy: 0.8584 - loss: 0.5591 - val_accuracy: 0.8593 - val_loss: 0.5576\n",
            "Epoch 26/50\n",
            "\u001b[1m4290/4290\u001b[0m \u001b[32m━━━━━━━━━━━━━━━━━━━━\u001b[0m\u001b[37m\u001b[0m \u001b[1m11s\u001b[0m 2ms/step - accuracy: 0.8590 - loss: 0.5570 - val_accuracy: 0.8593 - val_loss: 0.5569\n",
            "Epoch 27/50\n",
            "\u001b[1m4290/4290\u001b[0m \u001b[32m━━━━━━━━━━━━━━━━━━━━\u001b[0m\u001b[37m\u001b[0m \u001b[1m11s\u001b[0m 2ms/step - accuracy: 0.8572 - loss: 0.5620 - val_accuracy: 0.8593 - val_loss: 0.5641\n",
            "Epoch 28/50\n",
            "\u001b[1m4290/4290\u001b[0m \u001b[32m━━━━━━━━━━━━━━━━━━━━\u001b[0m\u001b[37m\u001b[0m \u001b[1m11s\u001b[0m 3ms/step - accuracy: 0.8581 - loss: 0.5599 - val_accuracy: 0.8594 - val_loss: 0.5541\n",
            "Epoch 29/50\n",
            "\u001b[1m4290/4290\u001b[0m \u001b[32m━━━━━━━━━━━━━━━━━━━━\u001b[0m\u001b[37m\u001b[0m \u001b[1m11s\u001b[0m 2ms/step - accuracy: 0.8568 - loss: 0.5627 - val_accuracy: 0.8594 - val_loss: 0.5535\n",
            "Epoch 30/50\n",
            "\u001b[1m4290/4290\u001b[0m \u001b[32m━━━━━━━━━━━━━━━━━━━━\u001b[0m\u001b[37m\u001b[0m \u001b[1m11s\u001b[0m 2ms/step - accuracy: 0.8594 - loss: 0.5549 - val_accuracy: 0.8594 - val_loss: 0.5545\n",
            "Epoch 31/50\n",
            "\u001b[1m4290/4290\u001b[0m \u001b[32m━━━━━━━━━━━━━━━━━━━━\u001b[0m\u001b[37m\u001b[0m \u001b[1m10s\u001b[0m 2ms/step - accuracy: 0.8583 - loss: 0.5585 - val_accuracy: 0.8594 - val_loss: 0.5535\n",
            "Epoch 32/50\n",
            "\u001b[1m4290/4290\u001b[0m \u001b[32m━━━━━━━━━━━━━━━━━━━━\u001b[0m\u001b[37m\u001b[0m \u001b[1m11s\u001b[0m 2ms/step - accuracy: 0.8578 - loss: 0.5596 - val_accuracy: 0.8594 - val_loss: 0.5552\n",
            "Epoch 33/50\n",
            "\u001b[1m4290/4290\u001b[0m \u001b[32m━━━━━━━━━━━━━━━━━━━━\u001b[0m\u001b[37m\u001b[0m \u001b[1m11s\u001b[0m 3ms/step - accuracy: 0.8589 - loss: 0.5553 - val_accuracy: 0.8594 - val_loss: 0.5532\n",
            "Epoch 34/50\n",
            "\u001b[1m4290/4290\u001b[0m \u001b[32m━━━━━━━━━━━━━━━━━━━━\u001b[0m\u001b[37m\u001b[0m \u001b[1m11s\u001b[0m 3ms/step - accuracy: 0.8568 - loss: 0.5612 - val_accuracy: 0.8594 - val_loss: 0.5521\n",
            "Epoch 35/50\n",
            "\u001b[1m4290/4290\u001b[0m \u001b[32m━━━━━━━━━━━━━━━━━━━━\u001b[0m\u001b[37m\u001b[0m \u001b[1m11s\u001b[0m 2ms/step - accuracy: 0.8605 - loss: 0.5503 - val_accuracy: 0.8594 - val_loss: 0.5520\n",
            "Epoch 36/50\n",
            "\u001b[1m4290/4290\u001b[0m \u001b[32m━━━━━━━━━━━━━━━━━━━━\u001b[0m\u001b[37m\u001b[0m \u001b[1m11s\u001b[0m 3ms/step - accuracy: 0.8597 - loss: 0.5530 - val_accuracy: 0.8594 - val_loss: 0.5518\n",
            "Epoch 37/50\n",
            "\u001b[1m4290/4290\u001b[0m \u001b[32m━━━━━━━━━━━━━━━━━━━━\u001b[0m\u001b[37m\u001b[0m \u001b[1m11s\u001b[0m 3ms/step - accuracy: 0.8591 - loss: 0.5545 - val_accuracy: 0.8594 - val_loss: 0.5567\n",
            "Epoch 38/50\n",
            "\u001b[1m4290/4290\u001b[0m \u001b[32m━━━━━━━━━━━━━━━━━━━━\u001b[0m\u001b[37m\u001b[0m \u001b[1m11s\u001b[0m 2ms/step - accuracy: 0.8576 - loss: 0.5594 - val_accuracy: 0.8594 - val_loss: 0.5546\n",
            "Epoch 39/50\n",
            "\u001b[1m4290/4290\u001b[0m \u001b[32m━━━━━━━━━━━━━━━━━━━━\u001b[0m\u001b[37m\u001b[0m \u001b[1m10s\u001b[0m 2ms/step - accuracy: 0.8577 - loss: 0.5582 - val_accuracy: 0.8594 - val_loss: 0.5535\n",
            "Epoch 40/50\n",
            "\u001b[1m4290/4290\u001b[0m \u001b[32m━━━━━━━━━━━━━━━━━━━━\u001b[0m\u001b[37m\u001b[0m \u001b[1m11s\u001b[0m 2ms/step - accuracy: 0.8572 - loss: 0.5601 - val_accuracy: 0.8594 - val_loss: 0.5524\n",
            "Epoch 41/50\n",
            "\u001b[1m4290/4290\u001b[0m \u001b[32m━━━━━━━━━━━━━━━━━━━━\u001b[0m\u001b[37m\u001b[0m \u001b[1m11s\u001b[0m 2ms/step - accuracy: 0.8597 - loss: 0.5526 - val_accuracy: 0.8594 - val_loss: 0.5501\n",
            "Epoch 42/50\n",
            "\u001b[1m4290/4290\u001b[0m \u001b[32m━━━━━━━━━━━━━━━━━━━━\u001b[0m\u001b[37m\u001b[0m \u001b[1m11s\u001b[0m 3ms/step - accuracy: 0.8579 - loss: 0.5566 - val_accuracy: 0.8594 - val_loss: 0.5537\n",
            "Epoch 43/50\n",
            "\u001b[1m4290/4290\u001b[0m \u001b[32m━━━━━━━━━━━━━━━━━━━━\u001b[0m\u001b[37m\u001b[0m \u001b[1m11s\u001b[0m 2ms/step - accuracy: 0.8586 - loss: 0.5551 - val_accuracy: 0.8594 - val_loss: 0.5537\n",
            "Epoch 44/50\n",
            "\u001b[1m4290/4290\u001b[0m \u001b[32m━━━━━━━━━━━━━━━━━━━━\u001b[0m\u001b[37m\u001b[0m \u001b[1m11s\u001b[0m 3ms/step - accuracy: 0.8579 - loss: 0.5576 - val_accuracy: 0.8594 - val_loss: 0.5508\n",
            "Epoch 45/50\n",
            "\u001b[1m4290/4290\u001b[0m \u001b[32m━━━━━━━━━━━━━━━━━━━━\u001b[0m\u001b[37m\u001b[0m \u001b[1m11s\u001b[0m 2ms/step - accuracy: 0.8588 - loss: 0.5546 - val_accuracy: 0.8594 - val_loss: 0.5504\n",
            "Epoch 46/50\n",
            "\u001b[1m4290/4290\u001b[0m \u001b[32m━━━━━━━━━━━━━━━━━━━━\u001b[0m\u001b[37m\u001b[0m \u001b[1m11s\u001b[0m 3ms/step - accuracy: 0.8581 - loss: 0.5567 - val_accuracy: 0.8594 - val_loss: 0.5510\n",
            "Epoch 47/50\n",
            "\u001b[1m4290/4290\u001b[0m \u001b[32m━━━━━━━━━━━━━━━━━━━━\u001b[0m\u001b[37m\u001b[0m \u001b[1m11s\u001b[0m 3ms/step - accuracy: 0.8593 - loss: 0.5526 - val_accuracy: 0.8594 - val_loss: 0.5661\n",
            "Epoch 48/50\n",
            "\u001b[1m4290/4290\u001b[0m \u001b[32m━━━━━━━━━━━━━━━━━━━━\u001b[0m\u001b[37m\u001b[0m \u001b[1m11s\u001b[0m 2ms/step - accuracy: 0.8580 - loss: 0.5562 - val_accuracy: 0.8594 - val_loss: 0.5515\n",
            "Epoch 49/50\n",
            "\u001b[1m4290/4290\u001b[0m \u001b[32m━━━━━━━━━━━━━━━━━━━━\u001b[0m\u001b[37m\u001b[0m \u001b[1m11s\u001b[0m 2ms/step - accuracy: 0.8571 - loss: 0.5589 - val_accuracy: 0.8594 - val_loss: 0.5499\n",
            "Epoch 50/50\n",
            "\u001b[1m4290/4290\u001b[0m \u001b[32m━━━━━━━━━━━━━━━━━━━━\u001b[0m\u001b[37m\u001b[0m \u001b[1m11s\u001b[0m 2ms/step - accuracy: 0.8577 - loss: 0.5572 - val_accuracy: 0.8594 - val_loss: 0.5532\n"
          ]
        }
      ],
      "source": [
        "# Train the model\n",
        "history = model.fit(X_train, y_train,\n",
        "                    validation_data=(X_val, y_val),  # Use validation data to monitor performance\n",
        "                    epochs=50,                      # Number of training iterations\n",
        "                    batch_size=32,                  # Number of samples per batch\n",
        "                    verbose=1)                      # Display training progress"
      ]
    },
    {
      "cell_type": "markdown",
      "metadata": {
        "id": "aBRs4Lxdmtdh"
      },
      "source": [
        "# 13a. Measuring Performance"
      ]
    },
    {
      "cell_type": "code",
      "execution_count": null,
      "metadata": {
        "colab": {
          "base_uri": "https://localhost:8080/"
        },
        "id": "3bK7wTQ_nDn_",
        "outputId": "09f96545-2e2d-45e5-ce94-e0b6db567398"
      },
      "outputs": [
        {
          "output_type": "stream",
          "name": "stdout",
          "text": [
            "<bound method NDFrame.head of             ID  Sex       Age    Height    Weight  Team  Year  Season  Sport  \\\n",
            "132319   66597    0 -0.009648 -0.788682 -0.738629   171  2006       1     19   \n",
            "168012   84413    1 -0.374617  2.317273  0.992285   381  1980       0     47   \n",
            "199666  100295    1  0.902774  1.376075  1.476941   153  2004       0     48   \n",
            "156123   78401    1  0.172836  0.717236  0.438392   528  2016       0     40   \n",
            "213068  106989    1  1.450227  0.246637  1.061521   521  2006       1      0   \n",
            "...        ...  ...       ...       ...       ...   ...   ...     ...    ...   \n",
            "100977   51057    1  1.085258 -0.318082  0.576865    27  1960       0     50   \n",
            "141252   70889    1 -0.192132  0.434876  0.230683   433  2000       0     40   \n",
            "260385  130305    1  1.267743  0.434876  0.299919   481  1998       1     11   \n",
            "146714   73639    1  0.720289  1.564315  1.130758   350  1968       1     39   \n",
            "114327   57898    1  0.355321  0.434876  1.476941   381  2014       1      8   \n",
            "\n",
            "        Event  sport_demand  age_sport_interaction  \n",
            "132319    220             4                  100.0  \n",
            "168012    441             3                   69.0  \n",
            "199666    443             4                  120.0  \n",
            "156123    384             4                  104.0  \n",
            "213068      2             4                  132.0  \n",
            "...       ...           ...                    ...  \n",
            "100977    478             5                  155.0  \n",
            "141252    383             4                   96.0  \n",
            "260385    133             5                  160.0  \n",
            "146714    371             4                  116.0  \n",
            "114327     88             4                  108.0  \n",
            "\n",
            "[29413 rows x 12 columns]>\n",
            "ID                         int64\n",
            "Sex                        int64\n",
            "Age                      float64\n",
            "Height                   float64\n",
            "Weight                   float64\n",
            "Team                       int64\n",
            "Year                       int64\n",
            "Season                     int64\n",
            "Sport                      int64\n",
            "Event                      int64\n",
            "sport_demand               int64\n",
            "age_sport_interaction    float64\n",
            "dtype: object\n",
            "\u001b[1m920/920\u001b[0m \u001b[32m━━━━━━━━━━━━━━━━━━━━\u001b[0m\u001b[37m\u001b[0m \u001b[1m2s\u001b[0m 1ms/step\n"
          ]
        }
      ],
      "source": [
        "# Predict on the test set\n",
        "\n",
        "print(X_test.head)\n",
        "print(X_test.dtypes)\n",
        "y_pred_prob = model.predict(X_test)\n",
        "y_pred = np.argmax(y_pred_prob, axis=1)"
      ]
    },
    {
      "cell_type": "markdown",
      "metadata": {
        "id": "j8i4xE9RmxHR"
      },
      "source": [
        "# 13b. Accuracy/MAE"
      ]
    },
    {
      "cell_type": "code",
      "execution_count": null,
      "metadata": {
        "colab": {
          "base_uri": "https://localhost:8080/"
        },
        "id": "PWznCxSJnEDL",
        "outputId": "72f173a0-6f81-4a61-f3ab-5c02bfbd1307"
      },
      "outputs": [
        {
          "output_type": "stream",
          "name": "stdout",
          "text": [
            "Accuracy: 0.8591\n"
          ]
        }
      ],
      "source": [
        "# Calculate accuracy\n",
        "accuracy = accuracy_score(y_test, y_pred)\n",
        "print(f'Accuracy: {accuracy:.4f}')"
      ]
    },
    {
      "cell_type": "markdown",
      "metadata": {
        "id": "hWqFg3l6m5la"
      },
      "source": [
        "# 13c. Confusion matrix"
      ]
    },
    {
      "cell_type": "code",
      "execution_count": null,
      "metadata": {
        "id": "wsflR5B1nEVO",
        "colab": {
          "base_uri": "https://localhost:8080/"
        },
        "outputId": "a756b354-002b-4ded-c45b-59a39200945a"
      },
      "outputs": [
        {
          "output_type": "stream",
          "name": "stdout",
          "text": [
            "Confusion Matrix:\n",
            " [[25269     0     0     0]\n",
            " [ 1419     0     0     0]\n",
            " [ 1371     0     0     0]\n",
            " [ 1354     0     0     0]]\n",
            "Classification Report:\n",
            "               precision    recall  f1-score   support\n",
            "\n",
            "           0       0.86      1.00      0.92     25269\n",
            "           1       0.00      0.00      0.00      1419\n",
            "           2       0.00      0.00      0.00      1371\n",
            "           3       0.00      0.00      0.00      1354\n",
            "\n",
            "    accuracy                           0.86     29413\n",
            "   macro avg       0.21      0.25      0.23     29413\n",
            "weighted avg       0.74      0.86      0.79     29413\n",
            "\n"
          ]
        },
        {
          "output_type": "stream",
          "name": "stderr",
          "text": [
            "/usr/local/lib/python3.11/dist-packages/sklearn/metrics/_classification.py:1565: UndefinedMetricWarning: Precision is ill-defined and being set to 0.0 in labels with no predicted samples. Use `zero_division` parameter to control this behavior.\n",
            "  _warn_prf(average, modifier, f\"{metric.capitalize()} is\", len(result))\n",
            "/usr/local/lib/python3.11/dist-packages/sklearn/metrics/_classification.py:1565: UndefinedMetricWarning: Precision is ill-defined and being set to 0.0 in labels with no predicted samples. Use `zero_division` parameter to control this behavior.\n",
            "  _warn_prf(average, modifier, f\"{metric.capitalize()} is\", len(result))\n",
            "/usr/local/lib/python3.11/dist-packages/sklearn/metrics/_classification.py:1565: UndefinedMetricWarning: Precision is ill-defined and being set to 0.0 in labels with no predicted samples. Use `zero_division` parameter to control this behavior.\n",
            "  _warn_prf(average, modifier, f\"{metric.capitalize()} is\", len(result))\n"
          ]
        }
      ],
      "source": [
        "# Generate confusion matrix\n",
        "conf_matrix = confusion_matrix(y_test, y_pred)\n",
        "print('Confusion Matrix:\\n', conf_matrix)\n",
        "\n",
        "# Classification report\n",
        "print('Classification Report:\\n', classification_report(y_test, y_pred))"
      ]
    },
    {
      "cell_type": "markdown",
      "metadata": {
        "id": "eWsZ3y8wm9Qc"
      },
      "source": [
        "# 13d. ROC curve"
      ]
    },
    {
      "cell_type": "code",
      "execution_count": null,
      "metadata": {
        "id": "Dmb5P9osnEum",
        "colab": {
          "base_uri": "https://localhost:8080/",
          "height": 472
        },
        "outputId": "e102129c-1c61-45cf-8769-ca5ca65ab6e5"
      },
      "outputs": [
        {
          "output_type": "display_data",
          "data": {
            "text/plain": [
              "<Figure size 640x480 with 1 Axes>"
            ],
            "image/png": "[encoded data removed]"
          },
          "metadata": {}
        }
      ],
      "source": [
        "# Compute ROC curve\n",
        "fpr, tpr, _ = roc_curve(y_test, y_pred_prob[:, 1], pos_label=1)\n",
        "roc_auc = auc(fpr, tpr)\n",
        "\n",
        "# Plot ROC curve\n",
        "plt.figure()\n",
        "plt.plot(fpr, tpr, color='blue', label=f'ROC curve (area = {roc_auc:.2f})')\n",
        "plt.plot([0, 1], [0, 1], color='gray', linestyle='--')\n",
        "plt.xlabel('False Positive Rate')\n",
        "plt.ylabel('True Positive Rate')\n",
        "plt.title('Receiver Operating Characteristic (ROC) Curve')\n",
        "plt.legend(loc='lower right')\n",
        "plt.show()"
      ]
    },
    {
      "cell_type": "markdown",
      "metadata": {
        "id": "sJ6ezMoIos6_"
      },
      "source": [
        "# 14. Hyperparameter Tuning"
      ]
    },
    {
      "cell_type": "code",
      "execution_count": null,
      "metadata": {
        "colab": {
          "base_uri": "https://localhost:8080/"
        },
        "id": "m-nSLDczouvS",
        "outputId": "6972ffe6-5103-4189-fb96-59e2a95be247"
      },
      "outputs": [
        {
          "output_type": "stream",
          "name": "stdout",
          "text": [
            "Trial 5 Complete [00h 04m 49s]\n",
            "val_accuracy: 0.859381914138794\n",
            "\n",
            "Best val_accuracy So Far: 0.859381914138794\n",
            "Total elapsed time: 00h 24m 30s\n",
            "Best number of units: 464\n",
            "Best activation: relu\n",
            "Best learning rate: 0.001\n",
            "Epoch 1/20\n"
          ]
        },
        {
          "output_type": "stream",
          "name": "stderr",
          "text": [
            "/usr/local/lib/python3.11/dist-packages/keras/src/layers/core/dense.py:87: UserWarning: Do not pass an `input_shape`/`input_dim` argument to a layer. When using Sequential models, prefer using an `Input(shape)` object as the first layer in the model instead.\n",
            "  super().__init__(activity_regularizer=activity_regularizer, **kwargs)\n"
          ]
        },
        {
          "output_type": "stream",
          "name": "stdout",
          "text": [
            "\u001b[1m4290/4290\u001b[0m \u001b[32m━━━━━━━━━━━━━━━━━━━━\u001b[0m\u001b[37m\u001b[0m \u001b[1m12s\u001b[0m 2ms/step - accuracy: 0.8487 - loss: 25.6969 - val_accuracy: 0.8594 - val_loss: 0.5607\n",
            "Epoch 2/20\n",
            "\u001b[1m4290/4290\u001b[0m \u001b[32m━━━━━━━━━━━━━━━━━━━━\u001b[0m\u001b[37m\u001b[0m \u001b[1m10s\u001b[0m 2ms/step - accuracy: 0.8585 - loss: 0.5631 - val_accuracy: 0.8594 - val_loss: 0.5606\n",
            "Epoch 3/20\n",
            "\u001b[1m4290/4290\u001b[0m \u001b[32m━━━━━━━━━━━━━━━━━━━━\u001b[0m\u001b[37m\u001b[0m \u001b[1m10s\u001b[0m 2ms/step - accuracy: 0.8595 - loss: 0.5602 - val_accuracy: 0.8594 - val_loss: 0.5606\n",
            "Epoch 4/20\n",
            "\u001b[1m4290/4290\u001b[0m \u001b[32m━━━━━━━━━━━━━━━━━━━━\u001b[0m\u001b[37m\u001b[0m \u001b[1m10s\u001b[0m 2ms/step - accuracy: 0.8594 - loss: 0.5605 - val_accuracy: 0.8594 - val_loss: 0.5606\n",
            "Epoch 5/20\n",
            "\u001b[1m4290/4290\u001b[0m \u001b[32m━━━━━━━━━━━━━━━━━━━━\u001b[0m\u001b[37m\u001b[0m \u001b[1m10s\u001b[0m 2ms/step - accuracy: 0.8580 - loss: 0.5646 - val_accuracy: 0.8594 - val_loss: 0.5606\n",
            "Epoch 6/20\n",
            "\u001b[1m4290/4290\u001b[0m \u001b[32m━━━━━━━━━━━━━━━━━━━━\u001b[0m\u001b[37m\u001b[0m \u001b[1m10s\u001b[0m 2ms/step - accuracy: 0.8593 - loss: 0.5608 - val_accuracy: 0.8594 - val_loss: 0.5606\n",
            "Epoch 7/20\n",
            "\u001b[1m4290/4290\u001b[0m \u001b[32m━━━━━━━━━━━━━━━━━━━━\u001b[0m\u001b[37m\u001b[0m \u001b[1m9s\u001b[0m 2ms/step - accuracy: 0.8574 - loss: 0.5663 - val_accuracy: 0.8594 - val_loss: 0.5607\n",
            "Epoch 8/20\n",
            "\u001b[1m4290/4290\u001b[0m \u001b[32m━━━━━━━━━━━━━━━━━━━━\u001b[0m\u001b[37m\u001b[0m \u001b[1m9s\u001b[0m 2ms/step - accuracy: 0.8572 - loss: 0.5669 - val_accuracy: 0.8594 - val_loss: 0.5606\n",
            "Epoch 9/20\n",
            "\u001b[1m4290/4290\u001b[0m \u001b[32m━━━━━━━━━━━━━━━━━━━━\u001b[0m\u001b[37m\u001b[0m \u001b[1m9s\u001b[0m 2ms/step - accuracy: 0.8580 - loss: 0.5647 - val_accuracy: 0.8594 - val_loss: 0.5606\n",
            "Epoch 10/20\n",
            "\u001b[1m4290/4290\u001b[0m \u001b[32m━━━━━━━━━━━━━━━━━━━━\u001b[0m\u001b[37m\u001b[0m \u001b[1m9s\u001b[0m 2ms/step - accuracy: 0.8577 - loss: 0.5656 - val_accuracy: 0.8594 - val_loss: 0.5606\n",
            "Epoch 11/20\n",
            "\u001b[1m4290/4290\u001b[0m \u001b[32m━━━━━━━━━━━━━━━━━━━━\u001b[0m\u001b[37m\u001b[0m \u001b[1m9s\u001b[0m 2ms/step - accuracy: 0.8571 - loss: 0.5674 - val_accuracy: 0.8594 - val_loss: 0.5606\n",
            "Epoch 12/20\n",
            "\u001b[1m4290/4290\u001b[0m \u001b[32m━━━━━━━━━━━━━━━━━━━━\u001b[0m\u001b[37m\u001b[0m \u001b[1m10s\u001b[0m 2ms/step - accuracy: 0.8584 - loss: 0.5635 - val_accuracy: 0.8594 - val_loss: 0.5605\n",
            "Epoch 13/20\n",
            "\u001b[1m4290/4290\u001b[0m \u001b[32m━━━━━━━━━━━━━━━━━━━━\u001b[0m\u001b[37m\u001b[0m \u001b[1m10s\u001b[0m 2ms/step - accuracy: 0.8570 - loss: 0.5675 - val_accuracy: 0.8594 - val_loss: 0.5606\n",
            "Epoch 14/20\n",
            "\u001b[1m4290/4290\u001b[0m \u001b[32m━━━━━━━━━━━━━━━━━━━━\u001b[0m\u001b[37m\u001b[0m \u001b[1m10s\u001b[0m 2ms/step - accuracy: 0.8585 - loss: 0.5632 - val_accuracy: 0.8594 - val_loss: 0.5606\n",
            "Epoch 15/20\n",
            "\u001b[1m4290/4290\u001b[0m \u001b[32m━━━━━━━━━━━━━━━━━━━━\u001b[0m\u001b[37m\u001b[0m \u001b[1m9s\u001b[0m 2ms/step - accuracy: 0.8598 - loss: 0.5593 - val_accuracy: 0.8594 - val_loss: 0.5606\n",
            "Epoch 16/20\n",
            "\u001b[1m4290/4290\u001b[0m \u001b[32m━━━━━━━━━━━━━━━━━━━━\u001b[0m\u001b[37m\u001b[0m \u001b[1m9s\u001b[0m 2ms/step - accuracy: 0.8594 - loss: 0.5606 - val_accuracy: 0.8594 - val_loss: 0.5606\n",
            "Epoch 17/20\n",
            "\u001b[1m4290/4290\u001b[0m \u001b[32m━━━━━━━━━━━━━━━━━━━━\u001b[0m\u001b[37m\u001b[0m \u001b[1m10s\u001b[0m 2ms/step - accuracy: 0.8562 - loss: 0.5698 - val_accuracy: 0.8594 - val_loss: 0.5606\n",
            "Epoch 18/20\n",
            "\u001b[1m4290/4290\u001b[0m \u001b[32m━━━━━━━━━━━━━━━━━━━━\u001b[0m\u001b[37m\u001b[0m \u001b[1m9s\u001b[0m 2ms/step - accuracy: 0.8586 - loss: 0.5629 - val_accuracy: 0.8594 - val_loss: 0.5606\n",
            "Epoch 19/20\n",
            "\u001b[1m4290/4290\u001b[0m \u001b[32m━━━━━━━━━━━━━━━━━━━━\u001b[0m\u001b[37m\u001b[0m \u001b[1m9s\u001b[0m 2ms/step - accuracy: 0.8578 - loss: 0.5652 - val_accuracy: 0.8594 - val_loss: 0.5606\n",
            "Epoch 20/20\n",
            "\u001b[1m4290/4290\u001b[0m \u001b[32m━━━━━━━━━━━━━━━━━━━━\u001b[0m\u001b[37m\u001b[0m \u001b[1m9s\u001b[0m 2ms/step - accuracy: 0.8592 - loss: 0.5612 - val_accuracy: 0.8594 - val_loss: 0.5607\n",
            "\u001b[1m920/920\u001b[0m \u001b[32m━━━━━━━━━━━━━━━━━━━━\u001b[0m\u001b[37m\u001b[0m \u001b[1m2s\u001b[0m 2ms/step - accuracy: 0.8609 - loss: 0.5562\n",
            "Validation Accuracy: 0.8591\n"
          ]
        }
      ],
      "source": [
        "!pip install keras-tuner\n",
        "import keras_tuner as kt\n",
        "from tensorflow import keras\n",
        "\n",
        "# Step 1: Define the model with hyperparameters\n",
        "def build_model(hp):\n",
        "    model = keras.Sequential()\n",
        "    # Tune the number of units in the first Dense layer\n",
        "    model.add(keras.layers.Dense(units=hp.Int('units', min_value=16, max_value=512, step=32),\n",
        "                                 activation=hp.Choice('activation', ['relu', 'tanh']),\n",
        "                                 input_shape=(X_train.shape[1],)))\n",
        "    # Tune the number of hidden layers and units\n",
        "    for i in range(hp.Int('num_layers', 1, 3)):\n",
        "        model.add(keras.layers.Dense(units=hp.Int(f'layer_{i}_units', min_value=16, max_value=512, step=32),\n",
        "                                     activation=hp.Choice('activation', ['relu', 'tanh'])))\n",
        "    # Output layer\n",
        "    model.add(keras.layers.Dense(len(np.unique(y_train)), activation='softmax'))\n",
        "\n",
        "    # Tune the learning rate for the optimizer\n",
        "    model.compile(\n",
        "        optimizer=keras.optimizers.Adam(learning_rate=hp.Choice('learning_rate', [1e-2, 1e-3, 1e-4])),\n",
        "        loss='sparse_categorical_crossentropy',\n",
        "        metrics=['accuracy']\n",
        "    )\n",
        "    return model\n",
        "\n",
        "# Step 2: Set up the tuner\n",
        "tuner = kt.RandomSearch(\n",
        "    build_model,\n",
        "    objective='val_accuracy',\n",
        "    max_trials=5,  # Number of hyperparameter configurations to try\n",
        "    executions_per_trial=3,  # Repeat each configuration 3 times for robustness\n",
        "    directory='my_tuner',\n",
        "    project_name='olympic_model_tuning'\n",
        ")\n",
        "\n",
        "# Step 3: Search for the best hyperparameters\n",
        "tuner.search(X_train, y_train, epochs=10, validation_data=(X_val, y_val))\n",
        "\n",
        "# Step 4: Get the best model\n",
        "best_hps = tuner.get_best_hyperparameters(num_trials=1)[0]\n",
        "print(f\"Best number of units: {best_hps.get('units')}\")\n",
        "print(f\"Best activation: {best_hps.get('activation')}\")\n",
        "print(f\"Best learning rate: {best_hps.get('learning_rate')}\")\n",
        "\n",
        "# Step 5: Train the best model\n",
        "model = tuner.hypermodel.build(best_hps)\n",
        "history = model.fit(X_train, y_train, epochs=20, validation_data=(X_val, y_val))\n",
        "\n",
        "# Evaluate the model\n",
        "val_loss, val_acc = model.evaluate(X_test, y_test)\n",
        "print(f\"Validation Accuracy: {val_acc:.4f}\")"
      ]
    },
    {
      "cell_type": "markdown",
      "metadata": {
        "id": "bHBub0EUifyv"
      },
      "source": [
        "# 15. F1 Score"
      ]
    },
    {
      "cell_type": "code",
      "execution_count": null,
      "metadata": {
        "colab": {
          "base_uri": "https://localhost:8080/"
        },
        "id": "OYR_SEn8ikyr",
        "outputId": "cc1ebfcd-50a9-4406-ad7c-dbc410d1e411"
      },
      "outputs": [
        {
          "output_type": "stream",
          "name": "stdout",
          "text": [
            "F1 Score: 0.7940\n"
          ]
        }
      ],
      "source": [
        "from sklearn.metrics import f1_score\n",
        "\n",
        "f1 = f1_score(y_test, y_pred, average='weighted')\n",
        "print(f\"F1 Score: {f1:.4f}\")"
      ]
    },
    {
      "cell_type": "markdown",
      "metadata": {
        "id": "hsvnEYejlVzp"
      },
      "source": [
        "# 16. Feature Importance"
      ]
    },
    {
      "cell_type": "code",
      "execution_count": null,
      "metadata": {
        "id": "08ridS8VlfIp",
        "colab": {
          "base_uri": "https://localhost:8080/",
          "height": 811
        },
        "outputId": "e7209320-e6a8-43e3-f5f7-d885a9fa8ed5"
      },
      "outputs": [
        {
          "output_type": "stream",
          "name": "stderr",
          "text": [
            "/usr/local/lib/python3.11/dist-packages/shap/explainers/_deep/deep_tf.py:94: UserWarning: Your TensorFlow version is newer than 2.4.0 and so graph support has been removed in eager mode and some static graphs may not be supported. See PR #1483 for discussion.\n",
            "  warnings.warn(\n",
            "/usr/local/lib/python3.11/dist-packages/keras/src/models/functional.py:237: UserWarning: The structure of `inputs` doesn't match the expected structure.\n",
            "Expected: keras_tensor_7\n",
            "Received: inputs=['Tensor(shape=(1000, 12))']\n",
            "  warnings.warn(msg)\n",
            "/usr/local/lib/python3.11/dist-packages/keras/src/models/functional.py:237: UserWarning: The structure of `inputs` doesn't match the expected structure.\n",
            "Expected: keras_tensor_7\n",
            "Received: inputs=['Tensor(shape=(2000, 12))']\n",
            "  warnings.warn(msg)\n"
          ]
        },
        {
          "output_type": "display_data",
          "data": {
            "text/plain": [
              "<Figure size 800x630 with 2 Axes>"
            ],
            "image/png": "[encoded data removed]"
          },
          "metadata": {}
        }
      ],
      "source": [
        "import shap\n",
        "\n",
        "# Randomly sample 1000 examples (set a seed for reproducibility)\n",
        "X_explain = X_train.sample(n=1000, random_state=42)\n",
        "\n",
        "# Convert to float32 numpy array for SHAP compatibility\n",
        "X_explain_array = X_explain.values.astype(np.float32)\n",
        "\n",
        "# Initialize SHAP DeepExplainer\n",
        "explainer = shap.DeepExplainer(model, X_explain_array)\n",
        "\n",
        "# Compute SHAP values (output shape: [samples, features, classes])\n",
        "shap_values = explainer.shap_values(X_explain_array)  # This will be a single ndarray, not a list\n",
        "\n",
        "# Choose class 0 for visualization (e.g., class index 0)\n",
        "shap_values_class_0 = shap_values[:, :, 0]  # Shape: (100, 12)\n",
        "\n",
        "# SHAP summary plot\n",
        "shap.summary_plot(shap_values_class_0, X_explain, feature_names=X.columns)"
      ]
    },
    {
      "cell_type": "markdown",
      "source": [
        "# Performance Visualization In Different Epochs"
      ],
      "metadata": {
        "id": "dar5oGLsQY9a"
      }
    },
    {
      "cell_type": "code",
      "source": [
        "# Plot training & validation accuracy values\n",
        "plt.figure(figsize=(12, 4))\n",
        "plt.subplot(1, 2, 1)\n",
        "plt.plot(history.history['accuracy'], label='Training Accuracy')\n",
        "plt.plot(history.history['val_accuracy'], label='Validation Accuracy')\n",
        "plt.title('Model Accuracy')\n",
        "plt.xlabel('Epoch')\n",
        "plt.ylabel('Accuracy')\n",
        "plt.legend()\n",
        "\n",
        "# Plot training & validation loss values\n",
        "plt.subplot(1, 2, 2)\n",
        "plt.plot(history.history['loss'], label='Training Loss')\n",
        "plt.plot(history.history['val_loss'], label='Validation Loss')\n",
        "plt.title('Model Loss')\n",
        "plt.xlabel('Epoch')\n",
        "plt.ylabel('Loss')\n",
        "plt.legend()\n",
        "\n",
        "plt.tight_layout()\n",
        "plt.show()\n"
      ],
      "metadata": {
        "colab": {
          "base_uri": "https://localhost:8080/",
          "height": 407
        },
        "id": "xCuwwkQvO65G",
        "outputId": "c316e166-9d03-4c93-b9d3-b988d2022883"
      },
      "execution_count": null,
      "outputs": [
        {
          "output_type": "display_data",
          "data": {
            "text/plain": [
              "<Figure size 1200x400 with 2 Axes>"
            ],
            "image/png": "[encoded data removed]"
          },
          "metadata": {}
        }
      ]
    },
    {
      "cell_type": "markdown",
      "source": [
        "# Decision Boundary Visualization"
      ],
      "metadata": {
        "id": "412WOaoXVwhl"
      }
    },
    {
      "cell_type": "code",
      "source": [
        "from sklearn.inspection import DecisionBoundaryDisplay\n",
        "from sklearn.linear_model import LogisticRegression\n",
        "from sklearn.preprocessing import StandardScaler\n",
        "import matplotlib.pyplot as plt\n",
        "import numpy as np\n",
        "\n",
        "# Select two features for visualization (e.g., Age and sport_demand)\n",
        "features_to_use = ['Age', 'sport_demand']\n",
        "X_vis = df[features_to_use].values\n",
        "y_vis = df['Medal'].values  # still 0 to 3 (multi-class)\n",
        "\n",
        "# Reduce to only 2 classes for clean boundary (e.g., 0 = No Medal, 3 = Gold)\n",
        "mask = (y_vis == 0) | (y_vis == 3)\n",
        "X_vis = X_vis[mask]\n",
        "y_vis = y_vis[mask]\n",
        "\n",
        "# Standardize\n",
        "scaler = StandardScaler()\n",
        "X_vis_scaled = scaler.fit_transform(X_vis)\n",
        "\n",
        "# Train logistic regression on just these two features\n",
        "clf = LogisticRegression()\n",
        "clf.fit(X_vis_scaled, y_vis)\n",
        "\n",
        "# Create meshgrid\n",
        "x_min, x_max = X_vis_scaled[:, 0].min() - 1, X_vis_scaled[:, 0].max() + 1\n",
        "y_min, y_max = X_vis_scaled[:, 1].min() - 1, X_vis_scaled[:, 1].max() + 1\n",
        "xx, yy = np.meshgrid(np.linspace(x_min, x_max, 500),\n",
        "                     np.linspace(y_min, y_max, 500))\n",
        "Z = clf.predict(np.c_[xx.ravel(), yy.ravel()])\n",
        "Z = Z.reshape(xx.shape)\n",
        "\n",
        "# Plot decision boundary\n",
        "plt.contourf(xx, yy, Z, alpha=0.3, cmap=plt.cm.coolwarm)\n",
        "scatter = plt.scatter(X_vis_scaled[:, 0], X_vis_scaled[:, 1], c=y_vis, cmap=plt.cm.coolwarm, edgecolors='k')\n",
        "plt.xlabel(features_to_use[0])\n",
        "plt.ylabel(features_to_use[1])\n",
        "plt.title('Decision Boundary (LogReg - No Medal vs Gold)')\n",
        "plt.legend(*scatter.legend_elements(), title=\"Medal\")\n",
        "plt.show()"
      ],
      "metadata": {
        "colab": {
          "base_uri": "https://localhost:8080/",
          "height": 472
        },
        "id": "jXAItd-aV3hV",
        "outputId": "6f559615-80e7-4df8-defd-56be9d8595de"
      },
      "execution_count": null,
      "outputs": [
        {
          "output_type": "display_data",
          "data": {
            "text/plain": [
              "<Figure size 640x480 with 1 Axes>"
            ],
            "image/png": "[encoded data removed]"
          },
          "metadata": {}
        }
      ]
    }
  ],
  "metadata": {
    "accelerator": "GPU",
    "colab": {
      "gpuType": "T4",
      "machine_shape": "hm",
      "provenance": []
    },
    "kernelspec": {
      "display_name": "Python 3",
      "name": "python3"
    },
    "language_info": {
      "name": "python"
    }
  },
  "nbformat": 4,
  "nbformat_minor": 0
}