{
  "nbformat": 4,
  "nbformat_minor": 0,
  "metadata": {
    "colab": {
      "provenance": [],
      "machine_shape": "hm",
      "gpuType": "T4"
    },
    "kernelspec": {
      "name": "python3",
      "display_name": "Python 3"
    },
    "language_info": {
      "name": "python"
    },
    "accelerator": "GPU"
  },
  "cells": [
    {
      "cell_type": "markdown",
      "source": [
        "Project Phase 5\n",
        "\n",
        "You designed and implemented your project in the previous phases. This phase enables you to\n",
        "enhance the performance of your model. It is a good idea to reevaluate your model after the initial\n",
        "set up with the aim of finding a way to improve the performance of your model. This process is\n",
        "commonly known as an optimization process and can be consider as an umbrella term. The\n",
        "following bullet points describe a few ways that probably can enhance the performance of your\n",
        "model:\n",
        "a. Feature engineering\n",
        "i. Different splitting strategy\n",
        "- https://keras.io/api/keras_tuner/tuners/sklearn/\n",
        "- https://scikit-\n",
        "learn.org/stable/modules/classes.html#module-\n",
        "sklearn.model_selection\n",
        "ii. Creating/ using new features/samples\n",
        "iii. Feature reduction\n",
        "1. Feature selection\n",
        "a. You can use either feature importance or any feature\n",
        "selection, say sequential feature selection. You can find\n",
        "variety of these algorithms through\n",
        "- https://towardsdatascience.com/feature-\n",
        "importance-with-time-series-and-recurrent-neural-\n",
        "network-27346d500b9c\n",
        "- https://scikit-\n",
        "learn.org/stable/modules/feature_selection.html#f\n",
        "eature-selection\n",
        "b. Dimension reduction, e.g., PCA\n",
        "- https://scikit-\n",
        "learn.org/stable/modules/generated/sklearn.decom\n",
        "position.PCA.html\n",
        "- https://www.kaggle.com/code/saivarunk/dimensio\n",
        "nality-reduction-using-keras-auto-encoder\n",
        "c. Removing undiscovered outliers\n",
        "iv. Changing the structure of your model\n",
        "1. For traditional classifiers you can add weight to minority category\n",
        "of samples, e.g., weighted SVM\n",
        "- https://scikit-\n",
        "learn.org/stable/auto_examples/svm/plot_weighte\n",
        "d_samples.html\n",
        "- model.weights:\n",
        "https://keras.io/api/models/sequential/\n",
        "2. For regression methods you can go with higher regularization\n",
        "penalty. For instance, you can use elastic net instead of ordinary\n",
        "least squared model\n",
        "- https://keras.io/api/layers/regularizers/\n",
        "- https://scikit-\n",
        "learn.org/stable/modules/generated/sklearn.linear_\n",
        "model.ElasticNet.html\n",
        "3. For deep learning models, you have variety of options such as\n",
        "changing the structure of layers, the initialization function, and\n",
        "activation function. E.g., https://keras.io/examples/\n",
        "b. Tunning the hyper-parameters of your model.\n",
        "- In summary, to tune the hyperparameters in\n",
        "your custom training loop, you just\n",
        "override HyperModel.fit() to train the model\n",
        "and return the evaluation results. With the\n",
        "provided callbacks, you can easily save the\n",
        "trained models at their best epochs and load\n",
        "the best models later.\n",
        "- E.g., adjustments for SVM https://scikit-\n",
        "learn.org/stable/modules/grid_search.html\n",
        "c. Adjusting performance metrics:\n",
        "- Keras Metrics: https://keras.io/api/metrics/\n",
        "- For instance, it would be a great idea to use F1\n",
        "score instead of accuracy. Code: https://scikit-\n",
        "learn.org/stable/modules/generated/sklearn.metric\n",
        "s.f1_score.html\n",
        "d. Using alternative models.\n",
        "- Keras layers API https://keras.io/api/layers/\n",
        "- Please help yourself with all models provided in\n",
        "sklearn https://scikit-learn.org/stable/index.html"
      ],
      "metadata": {
        "id": "eX0io5SMd3Nc"
      }
    },
    {
      "cell_type": "code",
      "execution_count": null,
      "metadata": {
        "id": "aUS2LOaFdtVk"
      },
      "outputs": [],
      "source": [
        "# Import libraries and data\n",
        "import tensorflow as tf\n",
        "from tensorflow import keras\n",
        "import os\n",
        "import shutil\n",
        "import zipfile\n",
        "import shutil\n",
        "import matplotlib.pyplot as plt\n",
        "import numpy as np\n",
        "import pandas as pd\n",
        "import matplotlib.pyplot as plt\n",
        "import seaborn as sns\n",
        "import kagglehub\n",
        "from sklearn.preprocessing import LabelEncoder, OneHotEncoder, StandardScaler\n",
        "from sklearn.metrics import accuracy_score, confusion_matrix, classification_report, roc_curve, auc\n",
        "from tensorflow.keras import layers\n",
        "from sklearn.model_selection import train_test_split"
      ]
    },
    {
      "cell_type": "markdown",
      "source": [
        "# 1. Imports dataset and stores it in a data frame"
      ],
      "metadata": {
        "id": "vPAeMrM2hrtn"
      }
    },
    {
      "cell_type": "code",
      "source": [
        "# Download latest version\n",
        "path = kagglehub.dataset_download(\"heesoo37/120-years-of-olympic-history-athletes-and-results\")\n",
        "\n",
        "# Load the CSV file into a DataFrame\n",
        "csv_path = os.path.join(path, \"athlete_events.csv\")\n",
        "df = pd.read_csv(csv_path)"
      ],
      "metadata": {
        "id": "FNwAgOMvkaSr"
      },
      "execution_count": null,
      "outputs": []
    },
    {
      "cell_type": "markdown",
      "source": [
        "# 2. Remove data prior to 1960\n",
        "*   Remove all data before 1960\n",
        "*   Remove columns: 'Name', 'NOC' , 'Games' ,  'Season', 'Team', 'Medal'"
      ],
      "metadata": {
        "id": "kzgTufwAlWrl"
      }
    },
    {
      "cell_type": "code",
      "source": [
        "df = df[df['Year'] >= 1960]\n",
        "df = df.drop(['Name', 'NOC', 'City', 'Games'], axis=1)"
      ],
      "metadata": {
        "id": "AAy3oleVl2Lz"
      },
      "execution_count": null,
      "outputs": []
    },
    {
      "cell_type": "markdown",
      "source": [
        "# 3 Add new columns: [Sport Demand] and [Age Sport Interaction]\n"
      ],
      "metadata": {
        "id": "-uOeau96uc_h"
      }
    },
    {
      "cell_type": "code",
      "source": [
        "# Define physical demand dictionary\n",
        "physical_demand = {\n",
        "    'Athletics': 5, 'Boxing': 5, 'Canoeing': 5, 'Cross Country Skiing': 5, 'Gymnastics': 5,\n",
        "    'Judo': 5, 'Modern Pentathlon': 5, 'Nordic Combined': 5, 'Rhythmic Gymnastics': 5,\n",
        "    'Rowing': 5, 'Taekwondo': 5, 'Triathlon': 5, 'Weightlifting': 5, 'Wrestling': 5,\n",
        "    'Alpine Skiing': 4, 'Basketball': 4, 'Biathlon': 4, 'Bobsleigh': 4, 'Cycling': 4,\n",
        "    'Figure Skating': 4, 'Football': 4, 'Freestyle Skiing': 4, 'Handball': 4, 'Hockey': 4,\n",
        "    'Ice Hockey': 4, 'Rugby Sevens': 4, 'Short Track Speed Skating': 4, 'Skeleton': 4,\n",
        "    'Snowboarding': 4, 'Speed Skating': 4, 'Swimming': 4, 'Synchronized Swimming': 4,\n",
        "    'Trampolining': 4, 'Water Polo': 4,\n",
        "    'Baseball': 3, 'Beach Volleyball': 3, 'Diving': 3, 'Fencing': 3, 'Luge': 3, 'Ski Jumping': 3,\n",
        "    'Softball': 3, 'Table Tennis': 3, 'Tennis': 3, 'Volleyball': 3,\n",
        "    'Archery': 2, 'Badminton': 2, 'Curling': 2, 'Equestrianism': 2, 'Sailing': 2,\n",
        "    'Golf': 1, 'Shooting': 1\n",
        "}\n",
        "\n",
        "# Apply to dataset\n",
        "df['sport_demand'] = df['Sport'].map(physical_demand)\n",
        "df['age_sport_interaction'] = df['Age'] * df['sport_demand']"
      ],
      "metadata": {
        "id": "4El8B9iWsr1c"
      },
      "execution_count": null,
      "outputs": []
    },
    {
      "cell_type": "markdown",
      "source": [],
      "metadata": {
        "id": "62RKCSR8lSpM"
      }
    },
    {
      "cell_type": "markdown",
      "source": [
        "# 4. Convert Object Columns to Numerical"
      ],
      "metadata": {
        "id": "YqKBNCrRyPyT"
      }
    },
    {
      "cell_type": "code",
      "source": [
        "# Dictionary to store LabelEncoders for reverse transformation\n",
        "label_encoders = {}\n",
        "\n",
        "# Encode 'Medal' feature manually\n",
        "medal_mapping = {\n",
        "     np.nan: 0,     # No Medal\n",
        "    'Bronze': 1,\n",
        "    'Silver': 2,\n",
        "    'Gold': 3\n",
        "}\n",
        "df['Medal'] = df['Medal'].map(medal_mapping)\n",
        "\n",
        "# Save reverse mapping for 'Medal'\n",
        "label_encoders['Medal'] = {v: k for k, v in medal_mapping.items()}\n",
        "\n",
        "# List of categorical columns to encode\n",
        "categorical_cols = ['Sex', 'Season', 'Sport', 'Event', 'Team']\n",
        "\n",
        "for col in categorical_cols:\n",
        "    le = LabelEncoder()\n",
        "    df[col] = le.fit_transform(df[col])  # Convert categorical values to numbers\n",
        "    label_encoders[col] = le  # Save encoder for future decoding"
      ],
      "metadata": {
        "id": "hLNKcwzUezJQ"
      },
      "execution_count": null,
      "outputs": []
    },
    {
      "cell_type": "markdown",
      "source": [
        "# 5. Explores the number of samples and features in the dataset"
      ],
      "metadata": {
        "id": "VsLNunjLloTF"
      }
    },
    {
      "cell_type": "code",
      "source": [
        "# Display dataset info\n",
        "df.info()"
      ],
      "metadata": {
        "colab": {
          "base_uri": "https://localhost:8080/"
        },
        "id": "87cOYArw1A3n",
        "outputId": "418c7967-9939-449f-d158-ab5dc4515eec"
      },
      "execution_count": null,
      "outputs": [
        {
          "output_type": "stream",
          "name": "stdout",
          "text": [
            "<class 'pandas.core.frame.DataFrame'>\n",
            "Index: 209072 entries, 0 to 271115\n",
            "Data columns (total 13 columns):\n",
            " #   Column                 Non-Null Count   Dtype  \n",
            "---  ------                 --------------   -----  \n",
            " 0   ID                     209072 non-null  int64  \n",
            " 1   Sex                    209072 non-null  int64  \n",
            " 2   Age                    207957 non-null  float64\n",
            " 3   Height                 197953 non-null  float64\n",
            " 4   Weight                 197248 non-null  float64\n",
            " 5   Team                   209072 non-null  int64  \n",
            " 6   Year                   209072 non-null  int64  \n",
            " 7   Season                 209072 non-null  int64  \n",
            " 8   Sport                  209072 non-null  int64  \n",
            " 9   Event                  209072 non-null  int64  \n",
            " 10  Medal                  209072 non-null  int64  \n",
            " 11  sport_demand           209072 non-null  int64  \n",
            " 12  age_sport_interaction  207957 non-null  float64\n",
            "dtypes: float64(4), int64(9)\n",
            "memory usage: 22.3 MB\n"
          ]
        }
      ]
    },
    {
      "cell_type": "markdown",
      "source": [
        "# 6. Discovers the data type of our features"
      ],
      "metadata": {
        "id": "-HdYN76tiR91"
      }
    },
    {
      "cell_type": "code",
      "source": [
        "print(df.dtypes)"
      ],
      "metadata": {
        "colab": {
          "base_uri": "https://localhost:8080/"
        },
        "id": "diaQgofpiOrB",
        "outputId": "459edefb-3f96-4c73-d613-b38e3993be88"
      },
      "execution_count": null,
      "outputs": [
        {
          "output_type": "stream",
          "name": "stdout",
          "text": [
            "ID                         int64\n",
            "Sex                        int64\n",
            "Age                      float64\n",
            "Height                   float64\n",
            "Weight                   float64\n",
            "Team                       int64\n",
            "Year                       int64\n",
            "Season                     int64\n",
            "Sport                      int64\n",
            "Event                      int64\n",
            "Medal                      int64\n",
            "sport_demand               int64\n",
            "age_sport_interaction    float64\n",
            "dtype: object\n"
          ]
        }
      ]
    },
    {
      "cell_type": "markdown",
      "source": [
        "# 7. Explores the number of samples with N/A value"
      ],
      "metadata": {
        "id": "e5BfGlJnicaC"
      }
    },
    {
      "cell_type": "code",
      "source": [
        "df.isnull()"
      ],
      "metadata": {
        "colab": {
          "base_uri": "https://localhost:8080/",
          "height": 424
        },
        "id": "U1pFD7Gsivio",
        "outputId": "39e43274-4c5b-474e-aaa9-195f121aca9d"
      },
      "execution_count": null,
      "outputs": [
        {
          "output_type": "execute_result",
          "data": {
            "text/plain": [
              "           ID    Sex    Age  Height  Weight   Team   Year  Season  Sport  \\\n",
              "0       False  False  False   False   False  False  False   False  False   \n",
              "1       False  False  False   False   False  False  False   False  False   \n",
              "4       False  False  False   False   False  False  False   False  False   \n",
              "5       False  False  False   False   False  False  False   False  False   \n",
              "6       False  False  False   False   False  False  False   False  False   \n",
              "...       ...    ...    ...     ...     ...    ...    ...     ...    ...   \n",
              "271111  False  False  False   False   False  False  False   False  False   \n",
              "271112  False  False  False   False   False  False  False   False  False   \n",
              "271113  False  False  False   False   False  False  False   False  False   \n",
              "271114  False  False  False   False   False  False  False   False  False   \n",
              "271115  False  False  False   False   False  False  False   False  False   \n",
              "\n",
              "        Event  Medal  sport_demand  age_sport_interaction  \n",
              "0       False  False         False                  False  \n",
              "1       False  False         False                  False  \n",
              "4       False  False         False                  False  \n",
              "5       False  False         False                  False  \n",
              "6       False  False         False                  False  \n",
              "...       ...    ...           ...                    ...  \n",
              "271111  False  False         False                  False  \n",
              "271112  False  False         False                  False  \n",
              "271113  False  False         False                  False  \n",
              "271114  False  False         False                  False  \n",
              "271115  False  False         False                  False  \n",
              "\n",
              "[209072 rows x 13 columns]"
            ],
            "text/html": [
              "\n",
              "  <div id=\"df-42ddeec1-ab32-4d15-b429-82d4aba4d991\" class=\"colab-df-container\">\n",
              "    <div>\n",
              "<style scoped>\n",
              "    .dataframe tbody tr th:only-of-type {\n",
              "        vertical-align: middle;\n",
              "    }\n",
              "\n",
              "    .dataframe tbody tr th {\n",
              "        vertical-align: top;\n",
              "    }\n",
              "\n",
              "    .dataframe thead th {\n",
              "        text-align: right;\n",
              "    }\n",
              "</style>\n",
              "<table border=\"1\" class=\"dataframe\">\n",
              "  <thead>\n",
              "    <tr style=\"text-align: right;\">\n",
              "      <th></th>\n",
              "      <th>ID</th>\n",
              "      <th>Sex</th>\n",
              "      <th>Age</th>\n",
              "      <th>Height</th>\n",
              "      <th>Weight</th>\n",
              "      <th>Team</th>\n",
              "      <th>Year</th>\n",
              "      <th>Season</th>\n",
              "      <th>Sport</th>\n",
              "      <th>Event</th>\n",
              "      <th>Medal</th>\n",
              "      <th>sport_demand</th>\n",
              "      <th>age_sport_interaction</th>\n",
              "    </tr>\n",
              "  </thead>\n",
              "  <tbody>\n",
              "    <tr>\n",
              "      <th>0</th>\n",
              "      <td>False</td>\n",
              "      <td>False</td>\n",
              "      <td>False</td>\n",
              "      <td>False</td>\n",
              "      <td>False</td>\n",
              "      <td>False</td>\n",
              "      <td>False</td>\n",
              "      <td>False</td>\n",
              "      <td>False</td>\n",
              "      <td>False</td>\n",
              "      <td>False</td>\n",
              "      <td>False</td>\n",
              "      <td>False</td>\n",
              "    </tr>\n",
              "    <tr>\n",
              "      <th>1</th>\n",
              "      <td>False</td>\n",
              "      <td>False</td>\n",
              "      <td>False</td>\n",
              "      <td>False</td>\n",
              "      <td>False</td>\n",
              "      <td>False</td>\n",
              "      <td>False</td>\n",
              "      <td>False</td>\n",
              "      <td>False</td>\n",
              "      <td>False</td>\n",
              "      <td>False</td>\n",
              "      <td>False</td>\n",
              "      <td>False</td>\n",
              "    </tr>\n",
              "    <tr>\n",
              "      <th>4</th>\n",
              "      <td>False</td>\n",
              "      <td>False</td>\n",
              "      <td>False</td>\n",
              "      <td>False</td>\n",
              "      <td>False</td>\n",
              "      <td>False</td>\n",
              "      <td>False</td>\n",
              "      <td>False</td>\n",
              "      <td>False</td>\n",
              "      <td>False</td>\n",
              "      <td>False</td>\n",
              "      <td>False</td>\n",
              "      <td>False</td>\n",
              "    </tr>\n",
              "    <tr>\n",
              "      <th>5</th>\n",
              "      <td>False</td>\n",
              "      <td>False</td>\n",
              "      <td>False</td>\n",
              "      <td>False</td>\n",
              "      <td>False</td>\n",
              "      <td>False</td>\n",
              "      <td>False</td>\n",
              "      <td>False</td>\n",
              "      <td>False</td>\n",
              "      <td>False</td>\n",
              "      <td>False</td>\n",
              "      <td>False</td>\n",
              "      <td>False</td>\n",
              "    </tr>\n",
              "    <tr>\n",
              "      <th>6</th>\n",
              "      <td>False</td>\n",
              "      <td>False</td>\n",
              "      <td>False</td>\n",
              "      <td>False</td>\n",
              "      <td>False</td>\n",
              "      <td>False</td>\n",
              "      <td>False</td>\n",
              "      <td>False</td>\n",
              "      <td>False</td>\n",
              "      <td>False</td>\n",
              "      <td>False</td>\n",
              "      <td>False</td>\n",
              "      <td>False</td>\n",
              "    </tr>\n",
              "    <tr>\n",
              "      <th>...</th>\n",
              "      <td>...</td>\n",
              "      <td>...</td>\n",
              "      <td>...</td>\n",
              "      <td>...</td>\n",
              "      <td>...</td>\n",
              "      <td>...</td>\n",
              "      <td>...</td>\n",
              "      <td>...</td>\n",
              "      <td>...</td>\n",
              "      <td>...</td>\n",
              "      <td>...</td>\n",
              "      <td>...</td>\n",
              "      <td>...</td>\n",
              "    </tr>\n",
              "    <tr>\n",
              "      <th>271111</th>\n",
              "      <td>False</td>\n",
              "      <td>False</td>\n",
              "      <td>False</td>\n",
              "      <td>False</td>\n",
              "      <td>False</td>\n",
              "      <td>False</td>\n",
              "      <td>False</td>\n",
              "      <td>False</td>\n",
              "      <td>False</td>\n",
              "      <td>False</td>\n",
              "      <td>False</td>\n",
              "      <td>False</td>\n",
              "      <td>False</td>\n",
              "    </tr>\n",
              "    <tr>\n",
              "      <th>271112</th>\n",
              "      <td>False</td>\n",
              "      <td>False</td>\n",
              "      <td>False</td>\n",
              "      <td>False</td>\n",
              "      <td>False</td>\n",
              "      <td>False</td>\n",
              "      <td>False</td>\n",
              "      <td>False</td>\n",
              "      <td>False</td>\n",
              "      <td>False</td>\n",
              "      <td>False</td>\n",
              "      <td>False</td>\n",
              "      <td>False</td>\n",
              "    </tr>\n",
              "    <tr>\n",
              "      <th>271113</th>\n",
              "      <td>False</td>\n",
              "      <td>False</td>\n",
              "      <td>False</td>\n",
              "      <td>False</td>\n",
              "      <td>False</td>\n",
              "      <td>False</td>\n",
              "      <td>False</td>\n",
              "      <td>False</td>\n",
              "      <td>False</td>\n",
              "      <td>False</td>\n",
              "      <td>False</td>\n",
              "      <td>False</td>\n",
              "      <td>False</td>\n",
              "    </tr>\n",
              "    <tr>\n",
              "      <th>271114</th>\n",
              "      <td>False</td>\n",
              "      <td>False</td>\n",
              "      <td>False</td>\n",
              "      <td>False</td>\n",
              "      <td>False</td>\n",
              "      <td>False</td>\n",
              "      <td>False</td>\n",
              "      <td>False</td>\n",
              "      <td>False</td>\n",
              "      <td>False</td>\n",
              "      <td>False</td>\n",
              "      <td>False</td>\n",
              "      <td>False</td>\n",
              "    </tr>\n",
              "    <tr>\n",
              "      <th>271115</th>\n",
              "      <td>False</td>\n",
              "      <td>False</td>\n",
              "      <td>False</td>\n",
              "      <td>False</td>\n",
              "      <td>False</td>\n",
              "      <td>False</td>\n",
              "      <td>False</td>\n",
              "      <td>False</td>\n",
              "      <td>False</td>\n",
              "      <td>False</td>\n",
              "      <td>False</td>\n",
              "      <td>False</td>\n",
              "      <td>False</td>\n",
              "    </tr>\n",
              "  </tbody>\n",
              "</table>\n",
              "<p>209072 rows × 13 columns</p>\n",
              "</div>\n",
              "    <div class=\"colab-df-buttons\">\n",
              "\n",
              "  <div class=\"colab-df-container\">\n",
              "    <button class=\"colab-df-convert\" onclick=\"convertToInteractive('df-42ddeec1-ab32-4d15-b429-82d4aba4d991')\"\n",
              "            title=\"Convert this dataframe to an interactive table.\"\n",
              "            style=\"display:none;\">\n",
              "\n",
              "  <svg xmlns=\"http://www.w3.org/2000/svg\" height=\"24px\" viewBox=\"0 -960 960 960\">\n",
              "    <path d=\"M120-120v-720h720v720H120Zm60-500h600v-160H180v160Zm220 220h160v-160H400v160Zm0 220h160v-160H400v160ZM180-400h160v-160H180v160Zm440 0h160v-160H620v160ZM180-180h160v-160H180v160Zm440 0h160v-160H620v160Z\"/>\n",
              "  </svg>\n",
              "    </button>\n",
              "\n",
              "  <style>\n",
              "    .colab-df-container {\n",
              "      display:flex;\n",
              "      gap: 12px;\n",
              "    }\n",
              "\n",
              "    .colab-df-convert {\n",
              "      background-color: #E8F0FE;\n",
              "      border: none;\n",
              "      border-radius: 50%;\n",
              "      cursor: pointer;\n",
              "      display: none;\n",
              "      fill: #1967D2;\n",
              "      height: 32px;\n",
              "      padding: 0 0 0 0;\n",
              "      width: 32px;\n",
              "    }\n",
              "\n",
              "    .colab-df-convert:hover {\n",
              "      background-color: #E2EBFA;\n",
              "      box-shadow: 0px 1px 2px rgba(60, 64, 67, 0.3), 0px 1px 3px 1px rgba(60, 64, 67, 0.15);\n",
              "      fill: #174EA6;\n",
              "    }\n",
              "\n",
              "    .colab-df-buttons div {\n",
              "      margin-bottom: 4px;\n",
              "    }\n",
              "\n",
              "    [theme=dark] .colab-df-convert {\n",
              "      background-color: #3B4455;\n",
              "      fill: #D2E3FC;\n",
              "    }\n",
              "\n",
              "    [theme=dark] .colab-df-convert:hover {\n",
              "      background-color: #434B5C;\n",
              "      box-shadow: 0px 1px 3px 1px rgba(0, 0, 0, 0.15);\n",
              "      filter: drop-shadow(0px 1px 2px rgba(0, 0, 0, 0.3));\n",
              "      fill: #FFFFFF;\n",
              "    }\n",
              "  </style>\n",
              "\n",
              "    <script>\n",
              "      const buttonEl =\n",
              "        document.querySelector('#df-42ddeec1-ab32-4d15-b429-82d4aba4d991 button.colab-df-convert');\n",
              "      buttonEl.style.display =\n",
              "        google.colab.kernel.accessAllowed ? 'block' : 'none';\n",
              "\n",
              "      async function convertToInteractive(key) {\n",
              "        const element = document.querySelector('#df-42ddeec1-ab32-4d15-b429-82d4aba4d991');\n",
              "        const dataTable =\n",
              "          await google.colab.kernel.invokeFunction('convertToInteractive',\n",
              "                                                    [key], {});\n",
              "        if (!dataTable) return;\n",
              "\n",
              "        const docLinkHtml = 'Like what you see? Visit the ' +\n",
              "          '<a target=\"_blank\" href=https://colab.research.google.com/notebooks/data_table.ipynb>data table notebook</a>'\n",
              "          + ' to learn more about interactive tables.';\n",
              "        element.innerHTML = '';\n",
              "        dataTable['output_type'] = 'display_data';\n",
              "        await google.colab.output.renderOutput(dataTable, element);\n",
              "        const docLink = document.createElement('div');\n",
              "        docLink.innerHTML = docLinkHtml;\n",
              "        element.appendChild(docLink);\n",
              "      }\n",
              "    </script>\n",
              "  </div>\n",
              "\n",
              "\n",
              "<div id=\"df-d985f063-7212-4bb4-b5af-a2dc4568afd1\">\n",
              "  <button class=\"colab-df-quickchart\" onclick=\"quickchart('df-d985f063-7212-4bb4-b5af-a2dc4568afd1')\"\n",
              "            title=\"Suggest charts\"\n",
              "            style=\"display:none;\">\n",
              "\n",
              "<svg xmlns=\"http://www.w3.org/2000/svg\" height=\"24px\"viewBox=\"0 0 24 24\"\n",
              "     width=\"24px\">\n",
              "    <g>\n",
              "        <path d=\"M19 3H5c-1.1 0-2 .9-2 2v14c0 1.1.9 2 2 2h14c1.1 0 2-.9 2-2V5c0-1.1-.9-2-2-2zM9 17H7v-7h2v7zm4 0h-2V7h2v10zm4 0h-2v-4h2v4z\"/>\n",
              "    </g>\n",
              "</svg>\n",
              "  </button>\n",
              "\n",
              "<style>\n",
              "  .colab-df-quickchart {\n",
              "      --bg-color: #E8F0FE;\n",
              "      --fill-color: #1967D2;\n",
              "      --hover-bg-color: #E2EBFA;\n",
              "      --hover-fill-color: #174EA6;\n",
              "      --disabled-fill-color: #AAA;\n",
              "      --disabled-bg-color: #DDD;\n",
              "  }\n",
              "\n",
              "  [theme=dark] .colab-df-quickchart {\n",
              "      --bg-color: #3B4455;\n",
              "      --fill-color: #D2E3FC;\n",
              "      --hover-bg-color: #434B5C;\n",
              "      --hover-fill-color: #FFFFFF;\n",
              "      --disabled-bg-color: #3B4455;\n",
              "      --disabled-fill-color: #666;\n",
              "  }\n",
              "\n",
              "  .colab-df-quickchart {\n",
              "    background-color: var(--bg-color);\n",
              "    border: none;\n",
              "    border-radius: 50%;\n",
              "    cursor: pointer;\n",
              "    display: none;\n",
              "    fill: var(--fill-color);\n",
              "    height: 32px;\n",
              "    padding: 0;\n",
              "    width: 32px;\n",
              "  }\n",
              "\n",
              "  .colab-df-quickchart:hover {\n",
              "    background-color: var(--hover-bg-color);\n",
              "    box-shadow: 0 1px 2px rgba(60, 64, 67, 0.3), 0 1px 3px 1px rgba(60, 64, 67, 0.15);\n",
              "    fill: var(--button-hover-fill-color);\n",
              "  }\n",
              "\n",
              "  .colab-df-quickchart-complete:disabled,\n",
              "  .colab-df-quickchart-complete:disabled:hover {\n",
              "    background-color: var(--disabled-bg-color);\n",
              "    fill: var(--disabled-fill-color);\n",
              "    box-shadow: none;\n",
              "  }\n",
              "\n",
              "  .colab-df-spinner {\n",
              "    border: 2px solid var(--fill-color);\n",
              "    border-color: transparent;\n",
              "    border-bottom-color: var(--fill-color);\n",
              "    animation:\n",
              "      spin 1s steps(1) infinite;\n",
              "  }\n",
              "\n",
              "  @keyframes spin {\n",
              "    0% {\n",
              "      border-color: transparent;\n",
              "      border-bottom-color: var(--fill-color);\n",
              "      border-left-color: var(--fill-color);\n",
              "    }\n",
              "    20% {\n",
              "      border-color: transparent;\n",
              "      border-left-color: var(--fill-color);\n",
              "      border-top-color: var(--fill-color);\n",
              "    }\n",
              "    30% {\n",
              "      border-color: transparent;\n",
              "      border-left-color: var(--fill-color);\n",
              "      border-top-color: var(--fill-color);\n",
              "      border-right-color: var(--fill-color);\n",
              "    }\n",
              "    40% {\n",
              "      border-color: transparent;\n",
              "      border-right-color: var(--fill-color);\n",
              "      border-top-color: var(--fill-color);\n",
              "    }\n",
              "    60% {\n",
              "      border-color: transparent;\n",
              "      border-right-color: var(--fill-color);\n",
              "    }\n",
              "    80% {\n",
              "      border-color: transparent;\n",
              "      border-right-color: var(--fill-color);\n",
              "      border-bottom-color: var(--fill-color);\n",
              "    }\n",
              "    90% {\n",
              "      border-color: transparent;\n",
              "      border-bottom-color: var(--fill-color);\n",
              "    }\n",
              "  }\n",
              "</style>\n",
              "\n",
              "  <script>\n",
              "    async function quickchart(key) {\n",
              "      const quickchartButtonEl =\n",
              "        document.querySelector('#' + key + ' button');\n",
              "      quickchartButtonEl.disabled = true;  // To prevent multiple clicks.\n",
              "      quickchartButtonEl.classList.add('colab-df-spinner');\n",
              "      try {\n",
              "        const charts = await google.colab.kernel.invokeFunction(\n",
              "            'suggestCharts', [key], {});\n",
              "      } catch (error) {\n",
              "        console.error('Error during call to suggestCharts:', error);\n",
              "      }\n",
              "      quickchartButtonEl.classList.remove('colab-df-spinner');\n",
              "      quickchartButtonEl.classList.add('colab-df-quickchart-complete');\n",
              "    }\n",
              "    (() => {\n",
              "      let quickchartButtonEl =\n",
              "        document.querySelector('#df-d985f063-7212-4bb4-b5af-a2dc4568afd1 button');\n",
              "      quickchartButtonEl.style.display =\n",
              "        google.colab.kernel.accessAllowed ? 'block' : 'none';\n",
              "    })();\n",
              "  </script>\n",
              "</div>\n",
              "\n",
              "    </div>\n",
              "  </div>\n"
            ],
            "application/vnd.google.colaboratory.intrinsic+json": {
              "type": "dataframe"
            }
          },
          "metadata": {},
          "execution_count": 20
        }
      ]
    },
    {
      "cell_type": "markdown",
      "source": [
        "# 8. Identifies duplicated samples"
      ],
      "metadata": {
        "id": "zBEGr8XWknbU"
      }
    },
    {
      "cell_type": "code",
      "source": [
        "# Identify duplicate rows\n",
        "duplicates = df[df.duplicated()]\n",
        "\n",
        "# Display duplicates\n",
        "print(duplicates)\n",
        "\n",
        "# Removes all N/A values\n",
        "df = df.dropna()"
      ],
      "metadata": {
        "colab": {
          "base_uri": "https://localhost:8080/"
        },
        "id": "Jpwm-qPFkmRr",
        "outputId": "5b726d07-1f37-49c3-ca81-60c4f65c2257"
      },
      "execution_count": null,
      "outputs": [
        {
          "output_type": "stream",
          "name": "stdout",
          "text": [
            "Empty DataFrame\n",
            "Columns: [ID, Sex, Age, Height, Weight, Team, Year, Season, Sport, Event, Medal, sport_demand, age_sport_interaction]\n",
            "Index: []\n"
          ]
        }
      ]
    },
    {
      "cell_type": "markdown",
      "source": [
        "# 9. Preprocessing"
      ],
      "metadata": {
        "id": "BG_kw6Eimf7o"
      }
    },
    {
      "cell_type": "markdown",
      "source": [
        "# 9b. Standardize Numerical Features"
      ],
      "metadata": {
        "id": "bB-3Uk30oPFD"
      }
    },
    {
      "cell_type": "code",
      "source": [
        "# Standardize numerical features\n",
        "numerical_features = ['Height', 'Weight', 'Age']\n",
        "scaler = StandardScaler()\n",
        "df[numerical_features] = scaler.fit_transform(df[numerical_features])"
      ],
      "metadata": {
        "id": "XXgT2KQRnCKn"
      },
      "execution_count": null,
      "outputs": []
    },
    {
      "cell_type": "markdown",
      "source": [
        "# 10. Data Splitting"
      ],
      "metadata": {
        "id": "nE0n5MrlmkqR"
      }
    },
    {
      "cell_type": "code",
      "source": [
        "print(df.isna().sum())  # Check for missing values\n",
        "print(np.isinf(df).sum())  # Check for infinite values\n",
        "\n",
        "# Splitting dataset into training and testing\n",
        "X = df.drop(columns=['Medal'])\n",
        "y = df['Medal']\n",
        "print(df.shape)\n",
        "X_train, X_temp, y_train, y_temp = train_test_split(X, y, test_size=0.3, random_state=42)\n",
        "X_val, X_test, y_val, y_test = train_test_split(X_temp, y_temp, test_size=0.5, random_state=42)"
      ],
      "metadata": {
        "id": "ODwZhHzqnCrL",
        "colab": {
          "base_uri": "https://localhost:8080/"
        },
        "outputId": "1c942c3f-13f5-43b9-ef5b-1aec0af64643"
      },
      "execution_count": null,
      "outputs": [
        {
          "output_type": "stream",
          "name": "stdout",
          "text": [
            "ID                       0\n",
            "Sex                      0\n",
            "Age                      0\n",
            "Height                   0\n",
            "Weight                   0\n",
            "Team                     0\n",
            "Year                     0\n",
            "Season                   0\n",
            "Sport                    0\n",
            "Event                    0\n",
            "Medal                    0\n",
            "sport_demand             0\n",
            "age_sport_interaction    0\n",
            "dtype: int64\n",
            "ID                       0\n",
            "Sex                      0\n",
            "Age                      0\n",
            "Height                   0\n",
            "Weight                   0\n",
            "Team                     0\n",
            "Year                     0\n",
            "Season                   0\n",
            "Sport                    0\n",
            "Event                    0\n",
            "Medal                    0\n",
            "sport_demand             0\n",
            "age_sport_interaction    0\n",
            "dtype: int64\n",
            "(196084, 13)\n"
          ]
        }
      ]
    },
    {
      "cell_type": "code",
      "source": [
        "# Display dataset info\n",
        "df.info()"
      ],
      "metadata": {
        "id": "BCKdXzE9pKKO",
        "colab": {
          "base_uri": "https://localhost:8080/"
        },
        "outputId": "299faa52-ea0f-4100-89cb-bf3ea6fc4a37"
      },
      "execution_count": null,
      "outputs": [
        {
          "output_type": "stream",
          "name": "stdout",
          "text": [
            "<class 'pandas.core.frame.DataFrame'>\n",
            "Index: 196084 entries, 0 to 271115\n",
            "Data columns (total 13 columns):\n",
            " #   Column                 Non-Null Count   Dtype  \n",
            "---  ------                 --------------   -----  \n",
            " 0   ID                     196084 non-null  int64  \n",
            " 1   Sex                    196084 non-null  int64  \n",
            " 2   Age                    196084 non-null  float64\n",
            " 3   Height                 196084 non-null  float64\n",
            " 4   Weight                 196084 non-null  float64\n",
            " 5   Team                   196084 non-null  int64  \n",
            " 6   Year                   196084 non-null  int64  \n",
            " 7   Season                 196084 non-null  int64  \n",
            " 8   Sport                  196084 non-null  int64  \n",
            " 9   Event                  196084 non-null  int64  \n",
            " 10  Medal                  196084 non-null  int64  \n",
            " 11  sport_demand           196084 non-null  int64  \n",
            " 12  age_sport_interaction  196084 non-null  float64\n",
            "dtypes: float64(4), int64(9)\n",
            "memory usage: 20.9 MB\n"
          ]
        }
      ]
    },
    {
      "cell_type": "markdown",
      "source": [
        "# 11. Fitting the model"
      ],
      "metadata": {
        "id": "LZfO_MHImpK0"
      }
    },
    {
      "cell_type": "code",
      "source": [
        "# Define the model architecture\n",
        "model = keras.Sequential([\n",
        "    layers.Dense(128, activation='relu', input_shape=(X_train.shape[1],)),\n",
        "    layers.BatchNormalization(),\n",
        "    layers.Dropout(0.3),\n",
        "    layers.Dense(64, activation='relu'),\n",
        "    layers.BatchNormalization(),\n",
        "    layers.Dropout(0.3),\n",
        "    layers.Dense(32, activation='relu'),\n",
        "    layers.BatchNormalization(),\n",
        "    layers.Dense(4, activation='softmax')  # 4 output classes for medal encoding\n",
        "])\n",
        "\n",
        "# Compile the model\n",
        "model.compile(optimizer='adam',\n",
        "              loss='sparse_categorical_crossentropy',\n",
        "              metrics=['accuracy'])\n",
        "\n",
        "# Display model summary\n",
        "model.summary()"
      ],
      "metadata": {
        "id": "66g0KDXRnDPm",
        "colab": {
          "base_uri": "https://localhost:8080/",
          "height": 535
        },
        "outputId": "faa2f327-3ef1-4365-8780-90b313e5414e"
      },
      "execution_count": null,
      "outputs": [
        {
          "output_type": "stream",
          "name": "stderr",
          "text": [
            "/usr/local/lib/python3.11/dist-packages/keras/src/layers/core/dense.py:87: UserWarning: Do not pass an `input_shape`/`input_dim` argument to a layer. When using Sequential models, prefer using an `Input(shape)` object as the first layer in the model instead.\n",
            "  super().__init__(activity_regularizer=activity_regularizer, **kwargs)\n"
          ]
        },
        {
          "output_type": "display_data",
          "data": {
            "text/plain": [
              "\u001b[1mModel: \"sequential\"\u001b[0m\n"
            ],
            "text/html": [
              "<pre style=\"white-space:pre;overflow-x:auto;line-height:normal;font-family:Menlo,'DejaVu Sans Mono',consolas,'Courier New',monospace\"><span style=\"font-weight: bold\">Model: \"sequential\"</span>\n",
              "</pre>\n"
            ]
          },
          "metadata": {}
        },
        {
          "output_type": "display_data",
          "data": {
            "text/plain": [
              "┏━━━━━━━━━━━━━━━━━━━━━━━━━━━━━━━━━━━━━━┳━━━━━━━━━━━━━━━━━━━━━━━━━━━━━┳━━━━━━━━━━━━━━━━━┓\n",
              "┃\u001b[1m \u001b[0m\u001b[1mLayer (type)                        \u001b[0m\u001b[1m \u001b[0m┃\u001b[1m \u001b[0m\u001b[1mOutput Shape               \u001b[0m\u001b[1m \u001b[0m┃\u001b[1m \u001b[0m\u001b[1m        Param #\u001b[0m\u001b[1m \u001b[0m┃\n",
              "┡━━━━━━━━━━━━━━━━━━━━━━━━━━━━━━━━━━━━━━╇━━━━━━━━━━━━━━━━━━━━━━━━━━━━━╇━━━━━━━━━━━━━━━━━┩\n",
              "│ dense (\u001b[38;5;33mDense\u001b[0m)                        │ (\u001b[38;5;45mNone\u001b[0m, \u001b[38;5;34m128\u001b[0m)                 │           \u001b[38;5;34m1,664\u001b[0m │\n",
              "├──────────────────────────────────────┼─────────────────────────────┼─────────────────┤\n",
              "│ batch_normalization                  │ (\u001b[38;5;45mNone\u001b[0m, \u001b[38;5;34m128\u001b[0m)                 │             \u001b[38;5;34m512\u001b[0m │\n",
              "│ (\u001b[38;5;33mBatchNormalization\u001b[0m)                 │                             │                 │\n",
              "├──────────────────────────────────────┼─────────────────────────────┼─────────────────┤\n",
              "│ dropout (\u001b[38;5;33mDropout\u001b[0m)                    │ (\u001b[38;5;45mNone\u001b[0m, \u001b[38;5;34m128\u001b[0m)                 │               \u001b[38;5;34m0\u001b[0m │\n",
              "├──────────────────────────────────────┼─────────────────────────────┼─────────────────┤\n",
              "│ dense_1 (\u001b[38;5;33mDense\u001b[0m)                      │ (\u001b[38;5;45mNone\u001b[0m, \u001b[38;5;34m64\u001b[0m)                  │           \u001b[38;5;34m8,256\u001b[0m │\n",
              "├──────────────────────────────────────┼─────────────────────────────┼─────────────────┤\n",
              "│ batch_normalization_1                │ (\u001b[38;5;45mNone\u001b[0m, \u001b[38;5;34m64\u001b[0m)                  │             \u001b[38;5;34m256\u001b[0m │\n",
              "│ (\u001b[38;5;33mBatchNormalization\u001b[0m)                 │                             │                 │\n",
              "├──────────────────────────────────────┼─────────────────────────────┼─────────────────┤\n",
              "│ dropout_1 (\u001b[38;5;33mDropout\u001b[0m)                  │ (\u001b[38;5;45mNone\u001b[0m, \u001b[38;5;34m64\u001b[0m)                  │               \u001b[38;5;34m0\u001b[0m │\n",
              "├──────────────────────────────────────┼─────────────────────────────┼─────────────────┤\n",
              "│ dense_2 (\u001b[38;5;33mDense\u001b[0m)                      │ (\u001b[38;5;45mNone\u001b[0m, \u001b[38;5;34m32\u001b[0m)                  │           \u001b[38;5;34m2,080\u001b[0m │\n",
              "├──────────────────────────────────────┼─────────────────────────────┼─────────────────┤\n",
              "│ batch_normalization_2                │ (\u001b[38;5;45mNone\u001b[0m, \u001b[38;5;34m32\u001b[0m)                  │             \u001b[38;5;34m128\u001b[0m │\n",
              "│ (\u001b[38;5;33mBatchNormalization\u001b[0m)                 │                             │                 │\n",
              "├──────────────────────────────────────┼─────────────────────────────┼─────────────────┤\n",
              "│ dense_3 (\u001b[38;5;33mDense\u001b[0m)                      │ (\u001b[38;5;45mNone\u001b[0m, \u001b[38;5;34m4\u001b[0m)                   │             \u001b[38;5;34m132\u001b[0m │\n",
              "└──────────────────────────────────────┴─────────────────────────────┴─────────────────┘\n"
            ],
            "text/html": [
              "<pre style=\"white-space:pre;overflow-x:auto;line-height:normal;font-family:Menlo,'DejaVu Sans Mono',consolas,'Courier New',monospace\">┏━━━━━━━━━━━━━━━━━━━━━━━━━━━━━━━━━━━━━━┳━━━━━━━━━━━━━━━━━━━━━━━━━━━━━┳━━━━━━━━━━━━━━━━━┓\n",
              "┃<span style=\"font-weight: bold\"> Layer (type)                         </span>┃<span style=\"font-weight: bold\"> Output Shape                </span>┃<span style=\"font-weight: bold\">         Param # </span>┃\n",
              "┡━━━━━━━━━━━━━━━━━━━━━━━━━━━━━━━━━━━━━━╇━━━━━━━━━━━━━━━━━━━━━━━━━━━━━╇━━━━━━━━━━━━━━━━━┩\n",
              "│ dense (<span style=\"color: #0087ff; text-decoration-color: #0087ff\">Dense</span>)                        │ (<span style=\"color: #00d7ff; text-decoration-color: #00d7ff\">None</span>, <span style=\"color: #00af00; text-decoration-color: #00af00\">128</span>)                 │           <span style=\"color: #00af00; text-decoration-color: #00af00\">1,664</span> │\n",
              "├──────────────────────────────────────┼─────────────────────────────┼─────────────────┤\n",
              "│ batch_normalization                  │ (<span style=\"color: #00d7ff; text-decoration-color: #00d7ff\">None</span>, <span style=\"color: #00af00; text-decoration-color: #00af00\">128</span>)                 │             <span style=\"color: #00af00; text-decoration-color: #00af00\">512</span> │\n",
              "│ (<span style=\"color: #0087ff; text-decoration-color: #0087ff\">BatchNormalization</span>)                 │                             │                 │\n",
              "├──────────────────────────────────────┼─────────────────────────────┼─────────────────┤\n",
              "│ dropout (<span style=\"color: #0087ff; text-decoration-color: #0087ff\">Dropout</span>)                    │ (<span style=\"color: #00d7ff; text-decoration-color: #00d7ff\">None</span>, <span style=\"color: #00af00; text-decoration-color: #00af00\">128</span>)                 │               <span style=\"color: #00af00; text-decoration-color: #00af00\">0</span> │\n",
              "├──────────────────────────────────────┼─────────────────────────────┼─────────────────┤\n",
              "│ dense_1 (<span style=\"color: #0087ff; text-decoration-color: #0087ff\">Dense</span>)                      │ (<span style=\"color: #00d7ff; text-decoration-color: #00d7ff\">None</span>, <span style=\"color: #00af00; text-decoration-color: #00af00\">64</span>)                  │           <span style=\"color: #00af00; text-decoration-color: #00af00\">8,256</span> │\n",
              "├──────────────────────────────────────┼─────────────────────────────┼─────────────────┤\n",
              "│ batch_normalization_1                │ (<span style=\"color: #00d7ff; text-decoration-color: #00d7ff\">None</span>, <span style=\"color: #00af00; text-decoration-color: #00af00\">64</span>)                  │             <span style=\"color: #00af00; text-decoration-color: #00af00\">256</span> │\n",
              "│ (<span style=\"color: #0087ff; text-decoration-color: #0087ff\">BatchNormalization</span>)                 │                             │                 │\n",
              "├──────────────────────────────────────┼─────────────────────────────┼─────────────────┤\n",
              "│ dropout_1 (<span style=\"color: #0087ff; text-decoration-color: #0087ff\">Dropout</span>)                  │ (<span style=\"color: #00d7ff; text-decoration-color: #00d7ff\">None</span>, <span style=\"color: #00af00; text-decoration-color: #00af00\">64</span>)                  │               <span style=\"color: #00af00; text-decoration-color: #00af00\">0</span> │\n",
              "├──────────────────────────────────────┼─────────────────────────────┼─────────────────┤\n",
              "│ dense_2 (<span style=\"color: #0087ff; text-decoration-color: #0087ff\">Dense</span>)                      │ (<span style=\"color: #00d7ff; text-decoration-color: #00d7ff\">None</span>, <span style=\"color: #00af00; text-decoration-color: #00af00\">32</span>)                  │           <span style=\"color: #00af00; text-decoration-color: #00af00\">2,080</span> │\n",
              "├──────────────────────────────────────┼─────────────────────────────┼─────────────────┤\n",
              "│ batch_normalization_2                │ (<span style=\"color: #00d7ff; text-decoration-color: #00d7ff\">None</span>, <span style=\"color: #00af00; text-decoration-color: #00af00\">32</span>)                  │             <span style=\"color: #00af00; text-decoration-color: #00af00\">128</span> │\n",
              "│ (<span style=\"color: #0087ff; text-decoration-color: #0087ff\">BatchNormalization</span>)                 │                             │                 │\n",
              "├──────────────────────────────────────┼─────────────────────────────┼─────────────────┤\n",
              "│ dense_3 (<span style=\"color: #0087ff; text-decoration-color: #0087ff\">Dense</span>)                      │ (<span style=\"color: #00d7ff; text-decoration-color: #00d7ff\">None</span>, <span style=\"color: #00af00; text-decoration-color: #00af00\">4</span>)                   │             <span style=\"color: #00af00; text-decoration-color: #00af00\">132</span> │\n",
              "└──────────────────────────────────────┴─────────────────────────────┴─────────────────┘\n",
              "</pre>\n"
            ]
          },
          "metadata": {}
        },
        {
          "output_type": "display_data",
          "data": {
            "text/plain": [
              "\u001b[1m Total params: \u001b[0m\u001b[38;5;34m13,028\u001b[0m (50.89 KB)\n"
            ],
            "text/html": [
              "<pre style=\"white-space:pre;overflow-x:auto;line-height:normal;font-family:Menlo,'DejaVu Sans Mono',consolas,'Courier New',monospace\"><span style=\"font-weight: bold\"> Total params: </span><span style=\"color: #00af00; text-decoration-color: #00af00\">13,028</span> (50.89 KB)\n",
              "</pre>\n"
            ]
          },
          "metadata": {}
        },
        {
          "output_type": "display_data",
          "data": {
            "text/plain": [
              "\u001b[1m Trainable params: \u001b[0m\u001b[38;5;34m12,580\u001b[0m (49.14 KB)\n"
            ],
            "text/html": [
              "<pre style=\"white-space:pre;overflow-x:auto;line-height:normal;font-family:Menlo,'DejaVu Sans Mono',consolas,'Courier New',monospace\"><span style=\"font-weight: bold\"> Trainable params: </span><span style=\"color: #00af00; text-decoration-color: #00af00\">12,580</span> (49.14 KB)\n",
              "</pre>\n"
            ]
          },
          "metadata": {}
        },
        {
          "output_type": "display_data",
          "data": {
            "text/plain": [
              "\u001b[1m Non-trainable params: \u001b[0m\u001b[38;5;34m448\u001b[0m (1.75 KB)\n"
            ],
            "text/html": [
              "<pre style=\"white-space:pre;overflow-x:auto;line-height:normal;font-family:Menlo,'DejaVu Sans Mono',consolas,'Courier New',monospace\"><span style=\"font-weight: bold\"> Non-trainable params: </span><span style=\"color: #00af00; text-decoration-color: #00af00\">448</span> (1.75 KB)\n",
              "</pre>\n"
            ]
          },
          "metadata": {}
        }
      ]
    },
    {
      "cell_type": "markdown",
      "source": [
        "# 10 Train Model"
      ],
      "metadata": {
        "id": "fj_RIm7DwvSr"
      }
    },
    {
      "cell_type": "code",
      "source": [
        "# Train the model\n",
        "history = model.fit(X_train, y_train,\n",
        "                    validation_data=(X_val, y_val),  # Use validation data to monitor performance\n",
        "                    epochs=50,                      # Number of training iterations\n",
        "                    batch_size=32,                  # Number of samples per batch\n",
        "                    verbose=1)                      # Display training progress"
      ],
      "metadata": {
        "colab": {
          "base_uri": "https://localhost:8080/"
        },
        "id": "_TZSJYRrwt7U",
        "outputId": "e758f077-b147-4a5c-fe35-a2ba75b5a9f2"
      },
      "execution_count": null,
      "outputs": [
        {
          "output_type": "stream",
          "name": "stdout",
          "text": [
            "Epoch 1/50\n",
            "\u001b[1m4290/4290\u001b[0m \u001b[32m━━━━━━━━━━━━━━━━━━━━\u001b[0m\u001b[37m\u001b[0m \u001b[1m18s\u001b[0m 3ms/step - accuracy: 0.8040 - loss: 0.6921 - val_accuracy: 0.8594 - val_loss: 0.5620\n",
            "Epoch 2/50\n",
            "\u001b[1m4290/4290\u001b[0m \u001b[32m━━━━━━━━━━━━━━━━━━━━\u001b[0m\u001b[37m\u001b[0m \u001b[1m11s\u001b[0m 3ms/step - accuracy: 0.8574 - loss: 0.5692 - val_accuracy: 0.8592 - val_loss: 0.5647\n",
            "Epoch 3/50\n",
            "\u001b[1m4290/4290\u001b[0m \u001b[32m━━━━━━━━━━━━━━━━━━━━\u001b[0m\u001b[37m\u001b[0m \u001b[1m11s\u001b[0m 3ms/step - accuracy: 0.8584 - loss: 0.5649 - val_accuracy: 0.8593 - val_loss: 0.5623\n",
            "Epoch 4/50\n",
            "\u001b[1m4290/4290\u001b[0m \u001b[32m━━━━━━━━━━━━━━━━━━━━\u001b[0m\u001b[37m\u001b[0m \u001b[1m11s\u001b[0m 3ms/step - accuracy: 0.8573 - loss: 0.5667 - val_accuracy: 0.8592 - val_loss: 0.5638\n",
            "Epoch 5/50\n",
            "\u001b[1m4290/4290\u001b[0m \u001b[32m━━━━━━━━━━━━━━━━━━━━\u001b[0m\u001b[37m\u001b[0m \u001b[1m11s\u001b[0m 3ms/step - accuracy: 0.8589 - loss: 0.5617 - val_accuracy: 0.8594 - val_loss: 0.5596\n",
            "Epoch 6/50\n",
            "\u001b[1m4290/4290\u001b[0m \u001b[32m━━━━━━━━━━━━━━━━━━━━\u001b[0m\u001b[37m\u001b[0m \u001b[1m11s\u001b[0m 3ms/step - accuracy: 0.8582 - loss: 0.5630 - val_accuracy: 0.8594 - val_loss: 0.5592\n",
            "Epoch 7/50\n",
            "\u001b[1m4290/4290\u001b[0m \u001b[32m━━━━━━━━━━━━━━━━━━━━\u001b[0m\u001b[37m\u001b[0m \u001b[1m11s\u001b[0m 3ms/step - accuracy: 0.8582 - loss: 0.5629 - val_accuracy: 0.8594 - val_loss: 0.5623\n",
            "Epoch 8/50\n",
            "\u001b[1m4290/4290\u001b[0m \u001b[32m━━━━━━━━━━━━━━━━━━━━\u001b[0m\u001b[37m\u001b[0m \u001b[1m11s\u001b[0m 3ms/step - accuracy: 0.8585 - loss: 0.5621 - val_accuracy: 0.8593 - val_loss: 0.5636\n",
            "Epoch 9/50\n",
            "\u001b[1m4290/4290\u001b[0m \u001b[32m━━━━━━━━━━━━━━━━━━━━\u001b[0m\u001b[37m\u001b[0m \u001b[1m11s\u001b[0m 3ms/step - accuracy: 0.8581 - loss: 0.5621 - val_accuracy: 0.8594 - val_loss: 0.5584\n",
            "Epoch 10/50\n",
            "\u001b[1m4290/4290\u001b[0m \u001b[32m━━━━━━━━━━━━━━━━━━━━\u001b[0m\u001b[37m\u001b[0m \u001b[1m11s\u001b[0m 3ms/step - accuracy: 0.8569 - loss: 0.5654 - val_accuracy: 0.8594 - val_loss: 0.5581\n",
            "Epoch 11/50\n",
            "\u001b[1m4290/4290\u001b[0m \u001b[32m━━━━━━━━━━━━━━━━━━━━\u001b[0m\u001b[37m\u001b[0m \u001b[1m11s\u001b[0m 3ms/step - accuracy: 0.8599 - loss: 0.5574 - val_accuracy: 0.8594 - val_loss: 0.5578\n",
            "Epoch 12/50\n",
            "\u001b[1m4290/4290\u001b[0m \u001b[32m━━━━━━━━━━━━━━━━━━━━\u001b[0m\u001b[37m\u001b[0m \u001b[1m11s\u001b[0m 3ms/step - accuracy: 0.8564 - loss: 0.5675 - val_accuracy: 0.8594 - val_loss: 0.5576\n",
            "Epoch 13/50\n",
            "\u001b[1m4290/4290\u001b[0m \u001b[32m━━━━━━━━━━━━━━━━━━━━\u001b[0m\u001b[37m\u001b[0m \u001b[1m11s\u001b[0m 3ms/step - accuracy: 0.8580 - loss: 0.5624 - val_accuracy: 0.8592 - val_loss: 0.5637\n",
            "Epoch 14/50\n",
            "\u001b[1m4290/4290\u001b[0m \u001b[32m━━━━━━━━━━━━━━━━━━━━\u001b[0m\u001b[37m\u001b[0m \u001b[1m11s\u001b[0m 3ms/step - accuracy: 0.8571 - loss: 0.5649 - val_accuracy: 0.8593 - val_loss: 0.5597\n",
            "Epoch 15/50\n",
            "\u001b[1m4290/4290\u001b[0m \u001b[32m━━━━━━━━━━━━━━━━━━━━\u001b[0m\u001b[37m\u001b[0m \u001b[1m12s\u001b[0m 3ms/step - accuracy: 0.8592 - loss: 0.5587 - val_accuracy: 0.8593 - val_loss: 0.5573\n",
            "Epoch 16/50\n",
            "\u001b[1m4290/4290\u001b[0m \u001b[32m━━━━━━━━━━━━━━━━━━━━\u001b[0m\u001b[37m\u001b[0m \u001b[1m11s\u001b[0m 3ms/step - accuracy: 0.8591 - loss: 0.5591 - val_accuracy: 0.8593 - val_loss: 0.5615\n",
            "Epoch 17/50\n",
            "\u001b[1m4290/4290\u001b[0m \u001b[32m━━━━━━━━━━━━━━━━━━━━\u001b[0m\u001b[37m\u001b[0m \u001b[1m11s\u001b[0m 3ms/step - accuracy: 0.8577 - loss: 0.5624 - val_accuracy: 0.8594 - val_loss: 0.5614\n",
            "Epoch 18/50\n",
            "\u001b[1m4290/4290\u001b[0m \u001b[32m━━━━━━━━━━━━━━━━━━━━\u001b[0m\u001b[37m\u001b[0m \u001b[1m11s\u001b[0m 3ms/step - accuracy: 0.8584 - loss: 0.5616 - val_accuracy: 0.8594 - val_loss: 0.5570\n",
            "Epoch 19/50\n",
            "\u001b[1m4290/4290\u001b[0m \u001b[32m━━━━━━━━━━━━━━━━━━━━\u001b[0m\u001b[37m\u001b[0m \u001b[1m11s\u001b[0m 3ms/step - accuracy: 0.8569 - loss: 0.5646 - val_accuracy: 0.8593 - val_loss: 0.5570\n",
            "Epoch 20/50\n",
            "\u001b[1m4290/4290\u001b[0m \u001b[32m━━━━━━━━━━━━━━━━━━━━\u001b[0m\u001b[37m\u001b[0m \u001b[1m11s\u001b[0m 3ms/step - accuracy: 0.8593 - loss: 0.5572 - val_accuracy: 0.8594 - val_loss: 0.5587\n",
            "Epoch 21/50\n",
            "\u001b[1m4290/4290\u001b[0m \u001b[32m━━━━━━━━━━━━━━━━━━━━\u001b[0m\u001b[37m\u001b[0m \u001b[1m11s\u001b[0m 3ms/step - accuracy: 0.8593 - loss: 0.5579 - val_accuracy: 0.8592 - val_loss: 0.5713\n",
            "Epoch 22/50\n",
            "\u001b[1m4290/4290\u001b[0m \u001b[32m━━━━━━━━━━━━━━━━━━━━\u001b[0m\u001b[37m\u001b[0m \u001b[1m11s\u001b[0m 3ms/step - accuracy: 0.8567 - loss: 0.5652 - val_accuracy: 0.8592 - val_loss: 0.5920\n",
            "Epoch 23/50\n",
            "\u001b[1m4290/4290\u001b[0m \u001b[32m━━━━━━━━━━━━━━━━━━━━\u001b[0m\u001b[37m\u001b[0m \u001b[1m11s\u001b[0m 3ms/step - accuracy: 0.8581 - loss: 0.5613 - val_accuracy: 0.8594 - val_loss: 0.5571\n",
            "Epoch 24/50\n",
            "\u001b[1m4290/4290\u001b[0m \u001b[32m━━━━━━━━━━━━━━━━━━━━\u001b[0m\u001b[37m\u001b[0m \u001b[1m11s\u001b[0m 3ms/step - accuracy: 0.8584 - loss: 0.5601 - val_accuracy: 0.8594 - val_loss: 0.5607\n",
            "Epoch 25/50\n",
            "\u001b[1m4290/4290\u001b[0m \u001b[32m━━━━━━━━━━━━━━━━━━━━\u001b[0m\u001b[37m\u001b[0m \u001b[1m11s\u001b[0m 3ms/step - accuracy: 0.8580 - loss: 0.5608 - val_accuracy: 0.8594 - val_loss: 0.5576\n",
            "Epoch 26/50\n",
            "\u001b[1m4290/4290\u001b[0m \u001b[32m━━━━━━━━━━━━━━━━━━━━\u001b[0m\u001b[37m\u001b[0m \u001b[1m11s\u001b[0m 3ms/step - accuracy: 0.8586 - loss: 0.5593 - val_accuracy: 0.8593 - val_loss: 0.5593\n",
            "Epoch 27/50\n",
            "\u001b[1m4290/4290\u001b[0m \u001b[32m━━━━━━━━━━━━━━━━━━━━\u001b[0m\u001b[37m\u001b[0m \u001b[1m11s\u001b[0m 3ms/step - accuracy: 0.8592 - loss: 0.5573 - val_accuracy: 0.8594 - val_loss: 0.5551\n",
            "Epoch 28/50\n",
            "\u001b[1m4290/4290\u001b[0m \u001b[32m━━━━━━━━━━━━━━━━━━━━\u001b[0m\u001b[37m\u001b[0m \u001b[1m11s\u001b[0m 3ms/step - accuracy: 0.8578 - loss: 0.5613 - val_accuracy: 0.8594 - val_loss: 0.5559\n",
            "Epoch 29/50\n",
            "\u001b[1m4290/4290\u001b[0m \u001b[32m━━━━━━━━━━━━━━━━━━━━\u001b[0m\u001b[37m\u001b[0m \u001b[1m11s\u001b[0m 3ms/step - accuracy: 0.8581 - loss: 0.5601 - val_accuracy: 0.8594 - val_loss: 0.5770\n",
            "Epoch 30/50\n",
            "\u001b[1m4290/4290\u001b[0m \u001b[32m━━━━━━━━━━━━━━━━━━━━\u001b[0m\u001b[37m\u001b[0m \u001b[1m11s\u001b[0m 3ms/step - accuracy: 0.8583 - loss: 0.5601 - val_accuracy: 0.8594 - val_loss: 0.5624\n",
            "Epoch 31/50\n",
            "\u001b[1m4290/4290\u001b[0m \u001b[32m━━━━━━━━━━━━━━━━━━━━\u001b[0m\u001b[37m\u001b[0m \u001b[1m11s\u001b[0m 3ms/step - accuracy: 0.8600 - loss: 0.5542 - val_accuracy: 0.8593 - val_loss: 0.5558\n",
            "Epoch 32/50\n",
            "\u001b[1m4290/4290\u001b[0m \u001b[32m━━━━━━━━━━━━━━━━━━━━\u001b[0m\u001b[37m\u001b[0m \u001b[1m11s\u001b[0m 3ms/step - accuracy: 0.8585 - loss: 0.5588 - val_accuracy: 0.8594 - val_loss: 0.5548\n",
            "Epoch 33/50\n",
            "\u001b[1m4290/4290\u001b[0m \u001b[32m━━━━━━━━━━━━━━━━━━━━\u001b[0m\u001b[37m\u001b[0m \u001b[1m11s\u001b[0m 3ms/step - accuracy: 0.8567 - loss: 0.5642 - val_accuracy: 0.8594 - val_loss: 0.5541\n",
            "Epoch 34/50\n",
            "\u001b[1m4290/4290\u001b[0m \u001b[32m━━━━━━━━━━━━━━━━━━━━\u001b[0m\u001b[37m\u001b[0m \u001b[1m11s\u001b[0m 3ms/step - accuracy: 0.8586 - loss: 0.5585 - val_accuracy: 0.8594 - val_loss: 0.5539\n",
            "Epoch 35/50\n",
            "\u001b[1m4290/4290\u001b[0m \u001b[32m━━━━━━━━━━━━━━━━━━━━\u001b[0m\u001b[37m\u001b[0m \u001b[1m11s\u001b[0m 3ms/step - accuracy: 0.8586 - loss: 0.5581 - val_accuracy: 0.8593 - val_loss: 0.5564\n",
            "Epoch 36/50\n",
            "\u001b[1m4290/4290\u001b[0m \u001b[32m━━━━━━━━━━━━━━━━━━━━\u001b[0m\u001b[37m\u001b[0m \u001b[1m11s\u001b[0m 3ms/step - accuracy: 0.8596 - loss: 0.5553 - val_accuracy: 0.8593 - val_loss: 0.5563\n",
            "Epoch 37/50\n",
            "\u001b[1m4290/4290\u001b[0m \u001b[32m━━━━━━━━━━━━━━━━━━━━\u001b[0m\u001b[37m\u001b[0m \u001b[1m11s\u001b[0m 3ms/step - accuracy: 0.8568 - loss: 0.5634 - val_accuracy: 0.8593 - val_loss: 0.5582\n",
            "Epoch 38/50\n",
            "\u001b[1m4290/4290\u001b[0m \u001b[32m━━━━━━━━━━━━━━━━━━━━\u001b[0m\u001b[37m\u001b[0m \u001b[1m11s\u001b[0m 3ms/step - accuracy: 0.8585 - loss: 0.5584 - val_accuracy: 0.8592 - val_loss: 0.5624\n",
            "Epoch 39/50\n",
            "\u001b[1m4290/4290\u001b[0m \u001b[32m━━━━━━━━━━━━━━━━━━━━\u001b[0m\u001b[37m\u001b[0m \u001b[1m11s\u001b[0m 3ms/step - accuracy: 0.8577 - loss: 0.5601 - val_accuracy: 0.8594 - val_loss: 0.5549\n",
            "Epoch 40/50\n",
            "\u001b[1m4290/4290\u001b[0m \u001b[32m━━━━━━━━━━━━━━━━━━━━\u001b[0m\u001b[37m\u001b[0m \u001b[1m11s\u001b[0m 3ms/step - accuracy: 0.8575 - loss: 0.5607 - val_accuracy: 0.8593 - val_loss: 0.5571\n",
            "Epoch 41/50\n",
            "\u001b[1m4290/4290\u001b[0m \u001b[32m━━━━━━━━━━━━━━━━━━━━\u001b[0m\u001b[37m\u001b[0m \u001b[1m11s\u001b[0m 3ms/step - accuracy: 0.8591 - loss: 0.5560 - val_accuracy: 0.8593 - val_loss: 0.5606\n",
            "Epoch 42/50\n",
            "\u001b[1m4290/4290\u001b[0m \u001b[32m━━━━━━━━━━━━━━━━━━━━\u001b[0m\u001b[37m\u001b[0m \u001b[1m11s\u001b[0m 3ms/step - accuracy: 0.8580 - loss: 0.5587 - val_accuracy: 0.8593 - val_loss: 0.5569\n",
            "Epoch 43/50\n",
            "\u001b[1m4290/4290\u001b[0m \u001b[32m━━━━━━━━━━━━━━━━━━━━\u001b[0m\u001b[37m\u001b[0m \u001b[1m12s\u001b[0m 3ms/step - accuracy: 0.8583 - loss: 0.5581 - val_accuracy: 0.8593 - val_loss: 0.5726\n",
            "Epoch 44/50\n",
            "\u001b[1m4290/4290\u001b[0m \u001b[32m━━━━━━━━━━━━━━━━━━━━\u001b[0m\u001b[37m\u001b[0m \u001b[1m11s\u001b[0m 3ms/step - accuracy: 0.8585 - loss: 0.5575 - val_accuracy: 0.8593 - val_loss: 0.5554\n",
            "Epoch 45/50\n",
            "\u001b[1m4290/4290\u001b[0m \u001b[32m━━━━━━━━━━━━━━━━━━━━\u001b[0m\u001b[37m\u001b[0m \u001b[1m11s\u001b[0m 3ms/step - accuracy: 0.8586 - loss: 0.5579 - val_accuracy: 0.8593 - val_loss: 0.5556\n",
            "Epoch 46/50\n",
            "\u001b[1m4290/4290\u001b[0m \u001b[32m━━━━━━━━━━━━━━━━━━━━\u001b[0m\u001b[37m\u001b[0m \u001b[1m11s\u001b[0m 3ms/step - accuracy: 0.8591 - loss: 0.5550 - val_accuracy: 0.8593 - val_loss: 0.5558\n",
            "Epoch 47/50\n",
            "\u001b[1m4290/4290\u001b[0m \u001b[32m━━━━━━━━━━━━━━━━━━━━\u001b[0m\u001b[37m\u001b[0m \u001b[1m11s\u001b[0m 3ms/step - accuracy: 0.8587 - loss: 0.5565 - val_accuracy: 0.8593 - val_loss: 0.5584\n",
            "Epoch 48/50\n",
            "\u001b[1m4290/4290\u001b[0m \u001b[32m━━━━━━━━━━━━━━━━━━━━\u001b[0m\u001b[37m\u001b[0m \u001b[1m11s\u001b[0m 3ms/step - accuracy: 0.8576 - loss: 0.5597 - val_accuracy: 0.8593 - val_loss: 0.5524\n",
            "Epoch 49/50\n",
            "\u001b[1m4290/4290\u001b[0m \u001b[32m━━━━━━━━━━━━━━━━━━━━\u001b[0m\u001b[37m\u001b[0m \u001b[1m11s\u001b[0m 3ms/step - accuracy: 0.8561 - loss: 0.5632 - val_accuracy: 0.8593 - val_loss: 0.5551\n",
            "Epoch 50/50\n",
            "\u001b[1m4290/4290\u001b[0m \u001b[32m━━━━━━━━━━━━━━━━━━━━\u001b[0m\u001b[37m\u001b[0m \u001b[1m11s\u001b[0m 3ms/step - accuracy: 0.8578 - loss: 0.5589 - val_accuracy: 0.8593 - val_loss: 0.5539\n"
          ]
        }
      ]
    },
    {
      "cell_type": "markdown",
      "source": [
        "# 10a. Measuring Performance"
      ],
      "metadata": {
        "id": "aBRs4Lxdmtdh"
      }
    },
    {
      "cell_type": "code",
      "source": [
        "# Predict on the test set\n",
        "\n",
        "print(X_test.head)\n",
        "print(X_test.dtypes)\n",
        "y_pred_prob = model.predict(X_test)\n",
        "y_pred = np.argmax(y_pred_prob, axis=1)"
      ],
      "metadata": {
        "id": "3bK7wTQ_nDn_",
        "colab": {
          "base_uri": "https://localhost:8080/"
        },
        "outputId": "2f869586-6d76-4995-eea2-5b78fbeadf94"
      },
      "execution_count": null,
      "outputs": [
        {
          "output_type": "stream",
          "name": "stdout",
          "text": [
            "<bound method NDFrame.head of             ID  Sex       Age    Height    Weight  Team  Year  Season  Sport  \\\n",
            "132319   66597    0 -0.009648 -0.788682 -0.738629   171  2006       1     19   \n",
            "168012   84413    1 -0.374617  2.317273  0.992285   381  1980       0     47   \n",
            "199666  100295    1  0.902774  1.376075  1.476941   153  2004       0     48   \n",
            "156123   78401    1  0.172836  0.717236  0.438392   528  2016       0     40   \n",
            "213068  106989    1  1.450227  0.246637  1.061521   521  2006       1      0   \n",
            "...        ...  ...       ...       ...       ...   ...   ...     ...    ...   \n",
            "100977   51057    1  1.085258 -0.318082  0.576865    27  1960       0     50   \n",
            "141252   70889    1 -0.192132  0.434876  0.230683   433  2000       0     40   \n",
            "260385  130305    1  1.267743  0.434876  0.299919   481  1998       1     11   \n",
            "146714   73639    1  0.720289  1.564315  1.130758   350  1968       1     39   \n",
            "114327   57898    1  0.355321  0.434876  1.476941   381  2014       1      8   \n",
            "\n",
            "        Event  sport_demand  age_sport_interaction  \n",
            "132319    220             4                  100.0  \n",
            "168012    441             3                   69.0  \n",
            "199666    443             4                  120.0  \n",
            "156123    384             4                  104.0  \n",
            "213068      2             4                  132.0  \n",
            "...       ...           ...                    ...  \n",
            "100977    478             5                  155.0  \n",
            "141252    383             4                   96.0  \n",
            "260385    133             5                  160.0  \n",
            "146714    371             4                  116.0  \n",
            "114327     88             4                  108.0  \n",
            "\n",
            "[29413 rows x 12 columns]>\n",
            "ID                         int64\n",
            "Sex                        int64\n",
            "Age                      float64\n",
            "Height                   float64\n",
            "Weight                   float64\n",
            "Team                       int64\n",
            "Year                       int64\n",
            "Season                     int64\n",
            "Sport                      int64\n",
            "Event                      int64\n",
            "sport_demand               int64\n",
            "age_sport_interaction    float64\n",
            "dtype: object\n",
            "\u001b[1m920/920\u001b[0m \u001b[32m━━━━━━━━━━━━━━━━━━━━\u001b[0m\u001b[37m\u001b[0m \u001b[1m2s\u001b[0m 2ms/step\n"
          ]
        }
      ]
    },
    {
      "cell_type": "markdown",
      "source": [
        "# 10b. Accuracy/MAE"
      ],
      "metadata": {
        "id": "j8i4xE9RmxHR"
      }
    },
    {
      "cell_type": "code",
      "source": [
        "# Calculate accuracy\n",
        "accuracy = accuracy_score(y_test, y_pred)\n",
        "print(f'Accuracy: {accuracy:.4f}')"
      ],
      "metadata": {
        "id": "PWznCxSJnEDL",
        "colab": {
          "base_uri": "https://localhost:8080/"
        },
        "outputId": "0de7eb29-f397-49a4-d648-fbe3817df103"
      },
      "execution_count": null,
      "outputs": [
        {
          "output_type": "stream",
          "name": "stdout",
          "text": [
            "Accuracy: 0.8591\n"
          ]
        }
      ]
    },
    {
      "cell_type": "markdown",
      "source": [
        "# 10c. Confusion matrix"
      ],
      "metadata": {
        "id": "hWqFg3l6m5la"
      }
    },
    {
      "cell_type": "code",
      "source": [
        "# Generate confusion matrix\n",
        "conf_matrix = confusion_matrix(y_test, y_pred)\n",
        "print('Confusion Matrix:\\n', conf_matrix)\n",
        "\n",
        "# Classification report\n",
        "print('Classification Report:\\n', classification_report(y_test, y_pred))"
      ],
      "metadata": {
        "id": "wsflR5B1nEVO",
        "colab": {
          "base_uri": "https://localhost:8080/"
        },
        "outputId": "596097fb-8baa-415f-f7ed-db0ff3006617"
      },
      "execution_count": null,
      "outputs": [
        {
          "output_type": "stream",
          "name": "stdout",
          "text": [
            "Confusion Matrix:\n",
            " [[25269     0     0     0]\n",
            " [ 1419     0     0     0]\n",
            " [ 1371     0     0     0]\n",
            " [ 1354     0     0     0]]\n",
            "Classification Report:\n",
            "               precision    recall  f1-score   support\n",
            "\n",
            "           0       0.86      1.00      0.92     25269\n",
            "           1       0.00      0.00      0.00      1419\n",
            "           2       0.00      0.00      0.00      1371\n",
            "           3       0.00      0.00      0.00      1354\n",
            "\n",
            "    accuracy                           0.86     29413\n",
            "   macro avg       0.21      0.25      0.23     29413\n",
            "weighted avg       0.74      0.86      0.79     29413\n",
            "\n"
          ]
        },
        {
          "output_type": "stream",
          "name": "stderr",
          "text": [
            "/usr/local/lib/python3.11/dist-packages/sklearn/metrics/_classification.py:1565: UndefinedMetricWarning: Precision is ill-defined and being set to 0.0 in labels with no predicted samples. Use `zero_division` parameter to control this behavior.\n",
            "  _warn_prf(average, modifier, f\"{metric.capitalize()} is\", len(result))\n",
            "/usr/local/lib/python3.11/dist-packages/sklearn/metrics/_classification.py:1565: UndefinedMetricWarning: Precision is ill-defined and being set to 0.0 in labels with no predicted samples. Use `zero_division` parameter to control this behavior.\n",
            "  _warn_prf(average, modifier, f\"{metric.capitalize()} is\", len(result))\n",
            "/usr/local/lib/python3.11/dist-packages/sklearn/metrics/_classification.py:1565: UndefinedMetricWarning: Precision is ill-defined and being set to 0.0 in labels with no predicted samples. Use `zero_division` parameter to control this behavior.\n",
            "  _warn_prf(average, modifier, f\"{metric.capitalize()} is\", len(result))\n"
          ]
        }
      ]
    },
    {
      "cell_type": "markdown",
      "source": [
        "# 10d. ROC curve"
      ],
      "metadata": {
        "id": "eWsZ3y8wm9Qc"
      }
    },
    {
      "cell_type": "code",
      "source": [
        "# Compute ROC curve\n",
        "fpr, tpr, _ = roc_curve(y_test, y_pred_prob[:, 1], pos_label=1)\n",
        "roc_auc = auc(fpr, tpr)\n",
        "\n",
        "# Plot ROC curve\n",
        "plt.figure()\n",
        "plt.plot(fpr, tpr, color='blue', label=f'ROC curve (area = {roc_auc:.2f})')\n",
        "plt.plot([0, 1], [0, 1], color='gray', linestyle='--')\n",
        "plt.xlabel('False Positive Rate')\n",
        "plt.ylabel('True Positive Rate')\n",
        "plt.title('Receiver Operating Characteristic (ROC) Curve')\n",
        "plt.legend(loc='lower right')\n",
        "plt.show()"
      ],
      "metadata": {
        "id": "Dmb5P9osnEum",
        "colab": {
          "base_uri": "https://localhost:8080/",
          "height": 472
        },
        "outputId": "b98f5c1b-7e83-4ae3-9fef-a7e70d05cbed"
      },
      "execution_count": null,
      "outputs": [
        {
          "output_type": "display_data",
          "data": {
            "text/plain": [
              "<Figure size 640x480 with 1 Axes>"
            ],
            "image/png": "[encoded data removed]"
          },
          "metadata": {}
        }
      ]
    },
    {
      "cell_type": "markdown",
      "source": [
        "# Hyperparameter Tuning"
      ],
      "metadata": {
        "id": "sJ6ezMoIos6_"
      }
    },
    {
      "cell_type": "code",
      "source": [
        "!pip install keras-tuner\n",
        "import keras_tuner as kt\n",
        "from tensorflow import keras\n",
        "\n",
        "# Step 1: Define the model with hyperparameters\n",
        "def build_model(hp):\n",
        "    model = keras.Sequential()\n",
        "    # Tune the number of units in the first Dense layer\n",
        "    model.add(keras.layers.Dense(units=hp.Int('units', min_value=16, max_value=512, step=32),\n",
        "                                 activation=hp.Choice('activation', ['relu', 'tanh']),\n",
        "                                 input_shape=(X_train.shape[1],)))\n",
        "    # Tune the number of hidden layers and units\n",
        "    for i in range(hp.Int('num_layers', 1, 3)):\n",
        "        model.add(keras.layers.Dense(units=hp.Int(f'layer_{i}_units', min_value=16, max_value=512, step=32),\n",
        "                                     activation=hp.Choice('activation', ['relu', 'tanh'])))\n",
        "    # Output layer\n",
        "    model.add(keras.layers.Dense(len(np.unique(y_train)), activation='softmax'))\n",
        "\n",
        "    # Tune the learning rate for the optimizer\n",
        "    model.compile(\n",
        "        optimizer=keras.optimizers.Adam(learning_rate=hp.Choice('learning_rate', [1e-2, 1e-3, 1e-4])),\n",
        "        loss='sparse_categorical_crossentropy',\n",
        "        metrics=['accuracy']\n",
        "    )\n",
        "    return model\n",
        "\n",
        "# Step 2: Set up the tuner\n",
        "tuner = kt.RandomSearch(\n",
        "    build_model,\n",
        "    objective='val_accuracy',\n",
        "    max_trials=5,  # Number of hyperparameter configurations to try\n",
        "    executions_per_trial=3,  # Repeat each configuration 3 times for robustness\n",
        "    directory='my_tuner',\n",
        "    project_name='olympic_model_tuning'\n",
        ")\n",
        "\n",
        "# Step 3: Search for the best hyperparameters\n",
        "tuner.search(X_train, y_train, epochs=10, validation_data=(X_val, y_val))\n",
        "\n",
        "# Step 4: Get the best model\n",
        "best_hps = tuner.get_best_hyperparameters(num_trials=1)[0]\n",
        "print(f\"Best number of units: {best_hps.get('units')}\")\n",
        "print(f\"Best activation: {best_hps.get('activation')}\")\n",
        "print(f\"Best learning rate: {best_hps.get('learning_rate')}\")\n",
        "\n",
        "# Step 5: Train the best model\n",
        "model = tuner.hypermodel.build(best_hps)\n",
        "history = model.fit(X_train, y_train, epochs=20, validation_data=(X_val, y_val))\n",
        "\n",
        "# Evaluate the model\n",
        "val_loss, val_acc = model.evaluate(X_test, y_test)\n",
        "print(f\"Validation Accuracy: {val_acc:.4f}\")"
      ],
      "metadata": {
        "colab": {
          "base_uri": "https://localhost:8080/"
        },
        "id": "m-nSLDczouvS",
        "outputId": "58dc91c7-6da9-46d9-8d9c-96b5fc9e63b0"
      },
      "execution_count": null,
      "outputs": [
        {
          "output_type": "stream",
          "name": "stdout",
          "text": [
            "Trial 5 Complete [00h 05m 15s]\n",
            "val_accuracy: 0.859381914138794\n",
            "\n",
            "Best val_accuracy So Far: 0.859381914138794\n",
            "Total elapsed time: 00h 25m 21s\n",
            "Best number of units: 304\n",
            "Best activation: relu\n",
            "Best learning rate: 0.01\n",
            "Epoch 1/20\n"
          ]
        },
        {
          "output_type": "stream",
          "name": "stderr",
          "text": [
            "/usr/local/lib/python3.11/dist-packages/keras/src/layers/core/dense.py:87: UserWarning: Do not pass an `input_shape`/`input_dim` argument to a layer. When using Sequential models, prefer using an `Input(shape)` object as the first layer in the model instead.\n",
            "  super().__init__(activity_regularizer=activity_regularizer, **kwargs)\n"
          ]
        },
        {
          "output_type": "stream",
          "name": "stdout",
          "text": [
            "\u001b[1m4290/4290\u001b[0m \u001b[32m━━━━━━━━━━━━━━━━━━━━\u001b[0m\u001b[37m\u001b[0m \u001b[1m11s\u001b[0m 2ms/step - accuracy: 0.8390 - loss: 318.3744 - val_accuracy: 0.8594 - val_loss: 0.5610\n",
            "Epoch 2/20\n",
            "\u001b[1m4290/4290\u001b[0m \u001b[32m━━━━━━━━━━━━━━━━━━━━\u001b[0m\u001b[37m\u001b[0m \u001b[1m9s\u001b[0m 2ms/step - accuracy: 0.8600 - loss: 0.5604 - val_accuracy: 0.8594 - val_loss: 0.5620\n",
            "Epoch 3/20\n",
            "\u001b[1m4290/4290\u001b[0m \u001b[32m━━━━━━━━━━━━━━━━━━━━\u001b[0m\u001b[37m\u001b[0m \u001b[1m9s\u001b[0m 2ms/step - accuracy: 0.8565 - loss: 0.5697 - val_accuracy: 0.8594 - val_loss: 0.5607\n",
            "Epoch 4/20\n",
            "\u001b[1m4290/4290\u001b[0m \u001b[32m━━━━━━━━━━━━━━━━━━━━\u001b[0m\u001b[37m\u001b[0m \u001b[1m9s\u001b[0m 2ms/step - accuracy: 0.8585 - loss: 0.5641 - val_accuracy: 0.8594 - val_loss: 0.5612\n",
            "Epoch 5/20\n",
            "\u001b[1m4290/4290\u001b[0m \u001b[32m━━━━━━━━━━━━━━━━━━━━\u001b[0m\u001b[37m\u001b[0m \u001b[1m9s\u001b[0m 2ms/step - accuracy: 0.8594 - loss: 0.5617 - val_accuracy: 0.8594 - val_loss: 0.5612\n",
            "Epoch 6/20\n",
            "\u001b[1m4290/4290\u001b[0m \u001b[32m━━━━━━━━━━━━━━━━━━━━\u001b[0m\u001b[37m\u001b[0m \u001b[1m9s\u001b[0m 2ms/step - accuracy: 0.8575 - loss: 0.5666 - val_accuracy: 0.8594 - val_loss: 0.5615\n",
            "Epoch 7/20\n",
            "\u001b[1m4290/4290\u001b[0m \u001b[32m━━━━━━━━━━━━━━━━━━━━\u001b[0m\u001b[37m\u001b[0m \u001b[1m9s\u001b[0m 2ms/step - accuracy: 0.8580 - loss: 0.5653 - val_accuracy: 0.8594 - val_loss: 0.5607\n",
            "Epoch 8/20\n",
            "\u001b[1m4290/4290\u001b[0m \u001b[32m━━━━━━━━━━━━━━━━━━━━\u001b[0m\u001b[37m\u001b[0m \u001b[1m9s\u001b[0m 2ms/step - accuracy: 0.8603 - loss: 0.5585 - val_accuracy: 0.8594 - val_loss: 0.5608\n",
            "Epoch 9/20\n",
            "\u001b[1m4290/4290\u001b[0m \u001b[32m━━━━━━━━━━━━━━━━━━━━\u001b[0m\u001b[37m\u001b[0m \u001b[1m9s\u001b[0m 2ms/step - accuracy: 0.8573 - loss: 0.5672 - val_accuracy: 0.8594 - val_loss: 0.5607\n",
            "Epoch 10/20\n",
            "\u001b[1m4290/4290\u001b[0m \u001b[32m━━━━━━━━━━━━━━━━━━━━\u001b[0m\u001b[37m\u001b[0m \u001b[1m9s\u001b[0m 2ms/step - accuracy: 0.8592 - loss: 0.5615 - val_accuracy: 0.8594 - val_loss: 0.5610\n",
            "Epoch 11/20\n",
            "\u001b[1m4290/4290\u001b[0m \u001b[32m━━━━━━━━━━━━━━━━━━━━\u001b[0m\u001b[37m\u001b[0m \u001b[1m10s\u001b[0m 2ms/step - accuracy: 0.8593 - loss: 0.5611 - val_accuracy: 0.8594 - val_loss: 0.5607\n",
            "Epoch 12/20\n",
            "\u001b[1m4290/4290\u001b[0m \u001b[32m━━━━━━━━━━━━━━━━━━━━\u001b[0m\u001b[37m\u001b[0m \u001b[1m10s\u001b[0m 2ms/step - accuracy: 0.8575 - loss: 0.5665 - val_accuracy: 0.8594 - val_loss: 0.5610\n",
            "Epoch 13/20\n",
            "\u001b[1m4290/4290\u001b[0m \u001b[32m━━━━━━━━━━━━━━━━━━━━\u001b[0m\u001b[37m\u001b[0m \u001b[1m9s\u001b[0m 2ms/step - accuracy: 0.8579 - loss: 0.5652 - val_accuracy: 0.8594 - val_loss: 0.5608\n",
            "Epoch 14/20\n",
            "\u001b[1m4290/4290\u001b[0m \u001b[32m━━━━━━━━━━━━━━━━━━━━\u001b[0m\u001b[37m\u001b[0m \u001b[1m9s\u001b[0m 2ms/step - accuracy: 0.8586 - loss: 0.5632 - val_accuracy: 0.8594 - val_loss: 0.5606\n",
            "Epoch 15/20\n",
            "\u001b[1m4290/4290\u001b[0m \u001b[32m━━━━━━━━━━━━━━━━━━━━\u001b[0m\u001b[37m\u001b[0m \u001b[1m10s\u001b[0m 2ms/step - accuracy: 0.8575 - loss: 0.5663 - val_accuracy: 0.8594 - val_loss: 0.5606\n",
            "Epoch 16/20\n",
            "\u001b[1m4290/4290\u001b[0m \u001b[32m━━━━━━━━━━━━━━━━━━━━\u001b[0m\u001b[37m\u001b[0m \u001b[1m10s\u001b[0m 2ms/step - accuracy: 0.8589 - loss: 0.5622 - val_accuracy: 0.8594 - val_loss: 0.5611\n",
            "Epoch 17/20\n",
            "\u001b[1m4290/4290\u001b[0m \u001b[32m━━━━━━━━━━━━━━━━━━━━\u001b[0m\u001b[37m\u001b[0m \u001b[1m9s\u001b[0m 2ms/step - accuracy: 0.8578 - loss: 0.5656 - val_accuracy: 0.8594 - val_loss: 0.5609\n",
            "Epoch 18/20\n",
            "\u001b[1m4290/4290\u001b[0m \u001b[32m━━━━━━━━━━━━━━━━━━━━\u001b[0m\u001b[37m\u001b[0m \u001b[1m10s\u001b[0m 2ms/step - accuracy: 0.8581 - loss: 0.5645 - val_accuracy: 0.8594 - val_loss: 0.5611\n",
            "Epoch 19/20\n",
            "\u001b[1m4290/4290\u001b[0m \u001b[32m━━━━━━━━━━━━━━━━━━━━\u001b[0m\u001b[37m\u001b[0m \u001b[1m9s\u001b[0m 2ms/step - accuracy: 0.8586 - loss: 0.5635 - val_accuracy: 0.8594 - val_loss: 0.5609\n",
            "Epoch 20/20\n",
            "\u001b[1m4290/4290\u001b[0m \u001b[32m━━━━━━━━━━━━━━━━━━━━\u001b[0m\u001b[37m\u001b[0m \u001b[1m9s\u001b[0m 2ms/step - accuracy: 0.8571 - loss: 0.5673 - val_accuracy: 0.8594 - val_loss: 0.5629\n",
            "\u001b[1m920/920\u001b[0m \u001b[32m━━━━━━━━━━━━━━━━━━━━\u001b[0m\u001b[37m\u001b[0m \u001b[1m2s\u001b[0m 2ms/step - accuracy: 0.8609 - loss: 0.5587\n",
            "Validation Accuracy: 0.8591\n"
          ]
        }
      ]
    },
    {
      "cell_type": "markdown",
      "source": [
        "# F1 Score"
      ],
      "metadata": {
        "id": "bHBub0EUifyv"
      }
    },
    {
      "cell_type": "code",
      "source": [
        "from sklearn.metrics import f1_score\n",
        "\n",
        "f1 = f1_score(y_test, y_pred, average='weighted')\n",
        "print(f\"F1 Score: {f1:.4f}\")"
      ],
      "metadata": {
        "colab": {
          "base_uri": "https://localhost:8080/"
        },
        "id": "OYR_SEn8ikyr",
        "outputId": "4247f606-abb1-4a87-85f9-83d99ea2c8ef"
      },
      "execution_count": null,
      "outputs": [
        {
          "output_type": "stream",
          "name": "stdout",
          "text": [
            "F1 Score: 0.7940\n"
          ]
        }
      ]
    }
  ]
}