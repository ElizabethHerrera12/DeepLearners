{
  "nbformat": 4,
  "nbformat_minor": 0,
  "metadata": {
    "colab": {
      "provenance": [],
      "machine_shape": "hm",
      "gpuType": "A100"
    },
    "kernelspec": {
      "name": "python3",
      "display_name": "Python 3"
    },
    "language_info": {
      "name": "python"
    },
    "accelerator": "GPU"
  },
  "cells": [
    {
      "cell_type": "markdown",
      "source": [
        "Project Phase 04\n",
        "You identified your research question and explored the characteristics of your desired dataset as\n",
        "the outcome of the last project phases. It is the time to complete the previous phases by providing\n",
        "a prediction strategy for unseen data and provide an educated guess regarding the probable\n",
        "successfulness of our suggested model. To provide a successful predictive model, please follow\n",
        "the steps below:\n",
        "1. Most AI/ML algorithms accept the input data in a specific form. As a result, preprocessing\n",
        "the input samples shape an important step of working with data. Keras and scikit-learn\n",
        "provide an enriched library of preprocessing [1]. Please apply the required transformations\n",
        "on your data. The following steps describe some of the required transformations:\n",
        "a. It is a good idea to transform your categorical features to numerical ones using\n",
        "encoding methods. You can use either to_categorical function in Keras or the\n",
        "methods provided in Scikit-learn [3].\n",
        "b. AI/ML algorithms are interested to weight more to the features that better separate\n",
        "samples in respect to the target feature. So, it is a common pitfall for these\n",
        "algorithms to tend to provide more weight to features with higher diversity. Also,\n",
        "non-scaled features can disrupt the optimization process. Say, the zig-zag behavior\n",
        "of gradient decent optimization To avoid such behaviors, you can transform\n",
        "features to a standard scale using Batch normalization layer or StandardScalar()\n",
        "function over direct data [4].\n",
        "c. If you are working with tabular data, you must be able to recognize the highly\n",
        "related features form the previous project phase. Please remember to just use one\n",
        "of the related features in further analysis.\n",
        "d. If you are using an image dataset, usually your algorithm requires to use images in\n",
        "the same size, you can use image preprocessing layers [5].\n",
        "2. To have a fare evaluation, you are recommended to break your data to three parts of\n",
        "train, validation, and test.\n",
        "3. Design and create your initial model based on your research plan\n",
        "4. Measure the performance of your model by calling predict method from you created\n",
        "model. Following this pass the predicted values and the real values to your performance\n",
        "measure metric. Say, accuracy for the classification task and MES for regression.\n",
        "5. Investigate the performance of your modules using different metrics including\n",
        "Accuracy/MAE, Confusion Matrix, Receiver Operating Characteristic plot using\n",
        "roc_curve() method."
      ],
      "metadata": {
        "id": "eX0io5SMd3Nc"
      }
    },
    {
      "cell_type": "code",
      "execution_count": null,
      "metadata": {
        "id": "aUS2LOaFdtVk"
      },
      "outputs": [],
      "source": [
        "# Import libraries and data\n",
        "import tensorflow as tf\n",
        "from tensorflow import keras\n",
        "import os\n",
        "import shutil\n",
        "import zipfile\n",
        "import shutil\n",
        "import matplotlib.pyplot as plt\n",
        "import numpy as np\n",
        "import pandas as pd\n",
        "import matplotlib.pyplot as plt\n",
        "import seaborn as sns\n",
        "from sklearn.preprocessing import LabelEncoder, OneHotEncoder, StandardScaler\n",
        "from sklearn.metrics import accuracy_score, confusion_matrix, classification_report, roc_curve, auc\n",
        "from tensorflow.keras import layers\n",
        "from sklearn.model_selection import train_test_split"
      ]
    },
    {
      "cell_type": "markdown",
      "source": [
        "# 1. Imports dataset and stores it in a data frame"
      ],
      "metadata": {
        "id": "vPAeMrM2hrtn"
      }
    },
    {
      "cell_type": "code",
      "source": [
        "# Install Kaggle\n",
        "! pip install kaggle\n",
        "\n",
        "# Download dataset\n",
        "!kaggle datasets download heesoo37/120-years-of-olympic-history-athletes-and-results\n",
        "\n",
        "# Extract dataset from zip file\n",
        "with zipfile.ZipFile('120-years-of-olympic-history-athletes-and-results.zip', 'r') as zip_ref:\n",
        "    zip_ref.extractall('dataset')\n",
        "df = pd.read_csv('dataset/athlete_events.csv')"
      ],
      "metadata": {
        "colab": {
          "base_uri": "https://localhost:8080/"
        },
        "id": "pUzZXi0RefD1",
        "outputId": "48e1b478-2b56-4664-f84d-1dfd6212f18a"
      },
      "execution_count": null,
      "outputs": [
        {
          "output_type": "stream",
          "name": "stdout",
          "text": [
            "Requirement already satisfied: kaggle in /usr/local/lib/python3.11/dist-packages (1.6.17)\n",
            "Requirement already satisfied: six>=1.10 in /usr/local/lib/python3.11/dist-packages (from kaggle) (1.17.0)\n",
            "Requirement already satisfied: certifi>=2023.7.22 in /usr/local/lib/python3.11/dist-packages (from kaggle) (2025.1.31)\n",
            "Requirement already satisfied: python-dateutil in /usr/local/lib/python3.11/dist-packages (from kaggle) (2.8.2)\n",
            "Requirement already satisfied: requests in /usr/local/lib/python3.11/dist-packages (from kaggle) (2.32.3)\n",
            "Requirement already satisfied: tqdm in /usr/local/lib/python3.11/dist-packages (from kaggle) (4.67.1)\n",
            "Requirement already satisfied: python-slugify in /usr/local/lib/python3.11/dist-packages (from kaggle) (8.0.4)\n",
            "Requirement already satisfied: urllib3 in /usr/local/lib/python3.11/dist-packages (from kaggle) (2.3.0)\n",
            "Requirement already satisfied: bleach in /usr/local/lib/python3.11/dist-packages (from kaggle) (6.2.0)\n",
            "Requirement already satisfied: webencodings in /usr/local/lib/python3.11/dist-packages (from bleach->kaggle) (0.5.1)\n",
            "Requirement already satisfied: text-unidecode>=1.3 in /usr/local/lib/python3.11/dist-packages (from python-slugify->kaggle) (1.3)\n",
            "Requirement already satisfied: charset-normalizer<4,>=2 in /usr/local/lib/python3.11/dist-packages (from requests->kaggle) (3.4.1)\n",
            "Requirement already satisfied: idna<4,>=2.5 in /usr/local/lib/python3.11/dist-packages (from requests->kaggle) (3.10)\n",
            "Warning: Looks like you're using an outdated API Version, please consider updating (server 1.7.4 / client 1.6.17)\n",
            "Dataset URL: https://www.kaggle.com/datasets/heesoo37/120-years-of-olympic-history-athletes-and-results\n",
            "License(s): CC0-1.0\n",
            "Downloading 120-years-of-olympic-history-athletes-and-results.zip to /content\n",
            " 74% 4.00M/5.43M [00:01<00:00, 4.36MB/s]\n",
            "100% 5.43M/5.43M [00:01<00:00, 4.10MB/s]\n"
          ]
        }
      ]
    },
    {
      "cell_type": "markdown",
      "source": [],
      "metadata": {
        "id": "62RKCSR8lSpM"
      }
    },
    {
      "cell_type": "markdown",
      "source": [
        "#2 Convert Object Columns to Numerical"
      ],
      "metadata": {
        "id": "YqKBNCrRyPyT"
      }
    },
    {
      "cell_type": "code",
      "source": [
        "# Dictionary to store LabelEncoders for reverse transformation\n",
        "label_encoders = {}\n",
        "\n",
        "# Encode 'Medal' feature manually\n",
        "medal_mapping = {\n",
        "     np.NaN: 0,     # No Medal\n",
        "    'Bronze': 1,\n",
        "    'Silver': 2,\n",
        "    'Gold': 3\n",
        "}\n",
        "df['Medal'] = df['Medal'].map(medal_mapping)\n",
        "\n",
        "# Save reverse mapping for 'Medal'\n",
        "label_encoders['Medal'] = {v: k for k, v in medal_mapping.items()}\n",
        "\n",
        "# List of categorical columns to encode\n",
        "categorical_cols = ['Sex', 'Season', 'Sport', 'Event', 'Team']\n",
        "\n",
        "for col in categorical_cols:\n",
        "    le = LabelEncoder()\n",
        "    df[col] = le.fit_transform(df[col])  # Convert categorical values to numbers\n",
        "    label_encoders[col] = le  # Save encoder for future decoding"
      ],
      "metadata": {
        "id": "hLNKcwzUezJQ"
      },
      "execution_count": null,
      "outputs": []
    },
    {
      "cell_type": "markdown",
      "source": [
        "# 3. Explores the number of samples and features in the dataset"
      ],
      "metadata": {
        "id": "VsLNunjLloTF"
      }
    },
    {
      "cell_type": "code",
      "source": [
        "# Display dataset info\n",
        "df.info()"
      ],
      "metadata": {
        "colab": {
          "base_uri": "https://localhost:8080/"
        },
        "id": "87cOYArw1A3n",
        "outputId": "a9fd2dae-0adf-4d19-c981-9f6e3f64427b"
      },
      "execution_count": null,
      "outputs": [
        {
          "output_type": "stream",
          "name": "stdout",
          "text": [
            "<class 'pandas.core.frame.DataFrame'>\n",
            "RangeIndex: 271116 entries, 0 to 271115\n",
            "Data columns (total 15 columns):\n",
            " #   Column  Non-Null Count   Dtype  \n",
            "---  ------  --------------   -----  \n",
            " 0   ID      271116 non-null  int64  \n",
            " 1   Name    271116 non-null  object \n",
            " 2   Sex     271116 non-null  int64  \n",
            " 3   Age     261642 non-null  float64\n",
            " 4   Height  210945 non-null  float64\n",
            " 5   Weight  208241 non-null  float64\n",
            " 6   Team    271116 non-null  int64  \n",
            " 7   NOC     271116 non-null  object \n",
            " 8   Games   271116 non-null  object \n",
            " 9   Year    271116 non-null  int64  \n",
            " 10  Season  271116 non-null  int64  \n",
            " 11  City    271116 non-null  object \n",
            " 12  Sport   271116 non-null  int64  \n",
            " 13  Event   271116 non-null  int64  \n",
            " 14  Medal   271116 non-null  int64  \n",
            "dtypes: float64(3), int64(8), object(4)\n",
            "memory usage: 31.0+ MB\n"
          ]
        }
      ]
    },
    {
      "cell_type": "markdown",
      "source": [
        "# 4. Remove data prior to 1960\n",
        "*   Remove all data before 1960\n",
        "*   Remove columns: 'Name', 'NOC' , 'Games' ,  'Season', 'Team', 'Medal'"
      ],
      "metadata": {
        "id": "kzgTufwAlWrl"
      }
    },
    {
      "cell_type": "code",
      "source": [
        "df = df[df['Year'] >= 1960]\n",
        "df = df.drop(['Name', 'NOC', 'City', 'Games'], axis=1)"
      ],
      "metadata": {
        "id": "AAy3oleVl2Lz"
      },
      "execution_count": null,
      "outputs": []
    },
    {
      "cell_type": "markdown",
      "source": [
        "# 4. Discovers the data type of our features"
      ],
      "metadata": {
        "id": "-HdYN76tiR91"
      }
    },
    {
      "cell_type": "code",
      "source": [
        "print(df.dtypes)"
      ],
      "metadata": {
        "colab": {
          "base_uri": "https://localhost:8080/"
        },
        "id": "diaQgofpiOrB",
        "outputId": "b3c77cbb-71b3-45c2-de9e-ff4ddbb408c8"
      },
      "execution_count": null,
      "outputs": [
        {
          "output_type": "stream",
          "name": "stdout",
          "text": [
            "ID          int64\n",
            "Sex         int64\n",
            "Age       float64\n",
            "Height    float64\n",
            "Weight    float64\n",
            "Team        int64\n",
            "Year        int64\n",
            "Season      int64\n",
            "Sport       int64\n",
            "Event       int64\n",
            "Medal       int64\n",
            "dtype: object\n"
          ]
        }
      ]
    },
    {
      "cell_type": "markdown",
      "source": [
        "# 5. Explores the number of samples with N/A value"
      ],
      "metadata": {
        "id": "e5BfGlJnicaC"
      }
    },
    {
      "cell_type": "code",
      "source": [
        "df.isnull()"
      ],
      "metadata": {
        "colab": {
          "base_uri": "https://localhost:8080/",
          "height": 423
        },
        "id": "U1pFD7Gsivio",
        "outputId": "c3b0e44a-8e89-4d74-df8b-d2941fbab8e4"
      },
      "execution_count": null,
      "outputs": [
        {
          "output_type": "execute_result",
          "data": {
            "text/plain": [
              "           ID    Sex    Age  Height  Weight   Team   Year  Season  Sport  \\\n",
              "0       False  False  False   False   False  False  False   False  False   \n",
              "1       False  False  False   False   False  False  False   False  False   \n",
              "4       False  False  False   False   False  False  False   False  False   \n",
              "5       False  False  False   False   False  False  False   False  False   \n",
              "6       False  False  False   False   False  False  False   False  False   \n",
              "...       ...    ...    ...     ...     ...    ...    ...     ...    ...   \n",
              "271111  False  False  False   False   False  False  False   False  False   \n",
              "271112  False  False  False   False   False  False  False   False  False   \n",
              "271113  False  False  False   False   False  False  False   False  False   \n",
              "271114  False  False  False   False   False  False  False   False  False   \n",
              "271115  False  False  False   False   False  False  False   False  False   \n",
              "\n",
              "        Event  Medal  \n",
              "0       False  False  \n",
              "1       False  False  \n",
              "4       False  False  \n",
              "5       False  False  \n",
              "6       False  False  \n",
              "...       ...    ...  \n",
              "271111  False  False  \n",
              "271112  False  False  \n",
              "271113  False  False  \n",
              "271114  False  False  \n",
              "271115  False  False  \n",
              "\n",
              "[209072 rows x 11 columns]"
            ],
            "text/html": [
              "\n",
              "  <div id=\"df-694809bc-95a6-4ca4-8280-f119356ad15e\" class=\"colab-df-container\">\n",
              "    <div>\n",
              "<style scoped>\n",
              "    .dataframe tbody tr th:only-of-type {\n",
              "        vertical-align: middle;\n",
              "    }\n",
              "\n",
              "    .dataframe tbody tr th {\n",
              "        vertical-align: top;\n",
              "    }\n",
              "\n",
              "    .dataframe thead th {\n",
              "        text-align: right;\n",
              "    }\n",
              "</style>\n",
              "<table border=\"1\" class=\"dataframe\">\n",
              "  <thead>\n",
              "    <tr style=\"text-align: right;\">\n",
              "      <th></th>\n",
              "      <th>ID</th>\n",
              "      <th>Sex</th>\n",
              "      <th>Age</th>\n",
              "      <th>Height</th>\n",
              "      <th>Weight</th>\n",
              "      <th>Team</th>\n",
              "      <th>Year</th>\n",
              "      <th>Season</th>\n",
              "      <th>Sport</th>\n",
              "      <th>Event</th>\n",
              "      <th>Medal</th>\n",
              "    </tr>\n",
              "  </thead>\n",
              "  <tbody>\n",
              "    <tr>\n",
              "      <th>0</th>\n",
              "      <td>False</td>\n",
              "      <td>False</td>\n",
              "      <td>False</td>\n",
              "      <td>False</td>\n",
              "      <td>False</td>\n",
              "      <td>False</td>\n",
              "      <td>False</td>\n",
              "      <td>False</td>\n",
              "      <td>False</td>\n",
              "      <td>False</td>\n",
              "      <td>False</td>\n",
              "    </tr>\n",
              "    <tr>\n",
              "      <th>1</th>\n",
              "      <td>False</td>\n",
              "      <td>False</td>\n",
              "      <td>False</td>\n",
              "      <td>False</td>\n",
              "      <td>False</td>\n",
              "      <td>False</td>\n",
              "      <td>False</td>\n",
              "      <td>False</td>\n",
              "      <td>False</td>\n",
              "      <td>False</td>\n",
              "      <td>False</td>\n",
              "    </tr>\n",
              "    <tr>\n",
              "      <th>4</th>\n",
              "      <td>False</td>\n",
              "      <td>False</td>\n",
              "      <td>False</td>\n",
              "      <td>False</td>\n",
              "      <td>False</td>\n",
              "      <td>False</td>\n",
              "      <td>False</td>\n",
              "      <td>False</td>\n",
              "      <td>False</td>\n",
              "      <td>False</td>\n",
              "      <td>False</td>\n",
              "    </tr>\n",
              "    <tr>\n",
              "      <th>5</th>\n",
              "      <td>False</td>\n",
              "      <td>False</td>\n",
              "      <td>False</td>\n",
              "      <td>False</td>\n",
              "      <td>False</td>\n",
              "      <td>False</td>\n",
              "      <td>False</td>\n",
              "      <td>False</td>\n",
              "      <td>False</td>\n",
              "      <td>False</td>\n",
              "      <td>False</td>\n",
              "    </tr>\n",
              "    <tr>\n",
              "      <th>6</th>\n",
              "      <td>False</td>\n",
              "      <td>False</td>\n",
              "      <td>False</td>\n",
              "      <td>False</td>\n",
              "      <td>False</td>\n",
              "      <td>False</td>\n",
              "      <td>False</td>\n",
              "      <td>False</td>\n",
              "      <td>False</td>\n",
              "      <td>False</td>\n",
              "      <td>False</td>\n",
              "    </tr>\n",
              "    <tr>\n",
              "      <th>...</th>\n",
              "      <td>...</td>\n",
              "      <td>...</td>\n",
              "      <td>...</td>\n",
              "      <td>...</td>\n",
              "      <td>...</td>\n",
              "      <td>...</td>\n",
              "      <td>...</td>\n",
              "      <td>...</td>\n",
              "      <td>...</td>\n",
              "      <td>...</td>\n",
              "      <td>...</td>\n",
              "    </tr>\n",
              "    <tr>\n",
              "      <th>271111</th>\n",
              "      <td>False</td>\n",
              "      <td>False</td>\n",
              "      <td>False</td>\n",
              "      <td>False</td>\n",
              "      <td>False</td>\n",
              "      <td>False</td>\n",
              "      <td>False</td>\n",
              "      <td>False</td>\n",
              "      <td>False</td>\n",
              "      <td>False</td>\n",
              "      <td>False</td>\n",
              "    </tr>\n",
              "    <tr>\n",
              "      <th>271112</th>\n",
              "      <td>False</td>\n",
              "      <td>False</td>\n",
              "      <td>False</td>\n",
              "      <td>False</td>\n",
              "      <td>False</td>\n",
              "      <td>False</td>\n",
              "      <td>False</td>\n",
              "      <td>False</td>\n",
              "      <td>False</td>\n",
              "      <td>False</td>\n",
              "      <td>False</td>\n",
              "    </tr>\n",
              "    <tr>\n",
              "      <th>271113</th>\n",
              "      <td>False</td>\n",
              "      <td>False</td>\n",
              "      <td>False</td>\n",
              "      <td>False</td>\n",
              "      <td>False</td>\n",
              "      <td>False</td>\n",
              "      <td>False</td>\n",
              "      <td>False</td>\n",
              "      <td>False</td>\n",
              "      <td>False</td>\n",
              "      <td>False</td>\n",
              "    </tr>\n",
              "    <tr>\n",
              "      <th>271114</th>\n",
              "      <td>False</td>\n",
              "      <td>False</td>\n",
              "      <td>False</td>\n",
              "      <td>False</td>\n",
              "      <td>False</td>\n",
              "      <td>False</td>\n",
              "      <td>False</td>\n",
              "      <td>False</td>\n",
              "      <td>False</td>\n",
              "      <td>False</td>\n",
              "      <td>False</td>\n",
              "    </tr>\n",
              "    <tr>\n",
              "      <th>271115</th>\n",
              "      <td>False</td>\n",
              "      <td>False</td>\n",
              "      <td>False</td>\n",
              "      <td>False</td>\n",
              "      <td>False</td>\n",
              "      <td>False</td>\n",
              "      <td>False</td>\n",
              "      <td>False</td>\n",
              "      <td>False</td>\n",
              "      <td>False</td>\n",
              "      <td>False</td>\n",
              "    </tr>\n",
              "  </tbody>\n",
              "</table>\n",
              "<p>209072 rows × 11 columns</p>\n",
              "</div>\n",
              "    <div class=\"colab-df-buttons\">\n",
              "\n",
              "  <div class=\"colab-df-container\">\n",
              "    <button class=\"colab-df-convert\" onclick=\"convertToInteractive('df-694809bc-95a6-4ca4-8280-f119356ad15e')\"\n",
              "            title=\"Convert this dataframe to an interactive table.\"\n",
              "            style=\"display:none;\">\n",
              "\n",
              "  <svg xmlns=\"http://www.w3.org/2000/svg\" height=\"24px\" viewBox=\"0 -960 960 960\">\n",
              "    <path d=\"M120-120v-720h720v720H120Zm60-500h600v-160H180v160Zm220 220h160v-160H400v160Zm0 220h160v-160H400v160ZM180-400h160v-160H180v160Zm440 0h160v-160H620v160ZM180-180h160v-160H180v160Zm440 0h160v-160H620v160Z\"/>\n",
              "  </svg>\n",
              "    </button>\n",
              "\n",
              "  <style>\n",
              "    .colab-df-container {\n",
              "      display:flex;\n",
              "      gap: 12px;\n",
              "    }\n",
              "\n",
              "    .colab-df-convert {\n",
              "      background-color: #E8F0FE;\n",
              "      border: none;\n",
              "      border-radius: 50%;\n",
              "      cursor: pointer;\n",
              "      display: none;\n",
              "      fill: #1967D2;\n",
              "      height: 32px;\n",
              "      padding: 0 0 0 0;\n",
              "      width: 32px;\n",
              "    }\n",
              "\n",
              "    .colab-df-convert:hover {\n",
              "      background-color: #E2EBFA;\n",
              "      box-shadow: 0px 1px 2px rgba(60, 64, 67, 0.3), 0px 1px 3px 1px rgba(60, 64, 67, 0.15);\n",
              "      fill: #174EA6;\n",
              "    }\n",
              "\n",
              "    .colab-df-buttons div {\n",
              "      margin-bottom: 4px;\n",
              "    }\n",
              "\n",
              "    [theme=dark] .colab-df-convert {\n",
              "      background-color: #3B4455;\n",
              "      fill: #D2E3FC;\n",
              "    }\n",
              "\n",
              "    [theme=dark] .colab-df-convert:hover {\n",
              "      background-color: #434B5C;\n",
              "      box-shadow: 0px 1px 3px 1px rgba(0, 0, 0, 0.15);\n",
              "      filter: drop-shadow(0px 1px 2px rgba(0, 0, 0, 0.3));\n",
              "      fill: #FFFFFF;\n",
              "    }\n",
              "  </style>\n",
              "\n",
              "    <script>\n",
              "      const buttonEl =\n",
              "        document.querySelector('#df-694809bc-95a6-4ca4-8280-f119356ad15e button.colab-df-convert');\n",
              "      buttonEl.style.display =\n",
              "        google.colab.kernel.accessAllowed ? 'block' : 'none';\n",
              "\n",
              "      async function convertToInteractive(key) {\n",
              "        const element = document.querySelector('#df-694809bc-95a6-4ca4-8280-f119356ad15e');\n",
              "        const dataTable =\n",
              "          await google.colab.kernel.invokeFunction('convertToInteractive',\n",
              "                                                    [key], {});\n",
              "        if (!dataTable) return;\n",
              "\n",
              "        const docLinkHtml = 'Like what you see? Visit the ' +\n",
              "          '<a target=\"_blank\" href=https://colab.research.google.com/notebooks/data_table.ipynb>data table notebook</a>'\n",
              "          + ' to learn more about interactive tables.';\n",
              "        element.innerHTML = '';\n",
              "        dataTable['output_type'] = 'display_data';\n",
              "        await google.colab.output.renderOutput(dataTable, element);\n",
              "        const docLink = document.createElement('div');\n",
              "        docLink.innerHTML = docLinkHtml;\n",
              "        element.appendChild(docLink);\n",
              "      }\n",
              "    </script>\n",
              "  </div>\n",
              "\n",
              "\n",
              "<div id=\"df-1d72cb18-038c-408e-a450-ab137cec1644\">\n",
              "  <button class=\"colab-df-quickchart\" onclick=\"quickchart('df-1d72cb18-038c-408e-a450-ab137cec1644')\"\n",
              "            title=\"Suggest charts\"\n",
              "            style=\"display:none;\">\n",
              "\n",
              "<svg xmlns=\"http://www.w3.org/2000/svg\" height=\"24px\"viewBox=\"0 0 24 24\"\n",
              "     width=\"24px\">\n",
              "    <g>\n",
              "        <path d=\"M19 3H5c-1.1 0-2 .9-2 2v14c0 1.1.9 2 2 2h14c1.1 0 2-.9 2-2V5c0-1.1-.9-2-2-2zM9 17H7v-7h2v7zm4 0h-2V7h2v10zm4 0h-2v-4h2v4z\"/>\n",
              "    </g>\n",
              "</svg>\n",
              "  </button>\n",
              "\n",
              "<style>\n",
              "  .colab-df-quickchart {\n",
              "      --bg-color: #E8F0FE;\n",
              "      --fill-color: #1967D2;\n",
              "      --hover-bg-color: #E2EBFA;\n",
              "      --hover-fill-color: #174EA6;\n",
              "      --disabled-fill-color: #AAA;\n",
              "      --disabled-bg-color: #DDD;\n",
              "  }\n",
              "\n",
              "  [theme=dark] .colab-df-quickchart {\n",
              "      --bg-color: #3B4455;\n",
              "      --fill-color: #D2E3FC;\n",
              "      --hover-bg-color: #434B5C;\n",
              "      --hover-fill-color: #FFFFFF;\n",
              "      --disabled-bg-color: #3B4455;\n",
              "      --disabled-fill-color: #666;\n",
              "  }\n",
              "\n",
              "  .colab-df-quickchart {\n",
              "    background-color: var(--bg-color);\n",
              "    border: none;\n",
              "    border-radius: 50%;\n",
              "    cursor: pointer;\n",
              "    display: none;\n",
              "    fill: var(--fill-color);\n",
              "    height: 32px;\n",
              "    padding: 0;\n",
              "    width: 32px;\n",
              "  }\n",
              "\n",
              "  .colab-df-quickchart:hover {\n",
              "    background-color: var(--hover-bg-color);\n",
              "    box-shadow: 0 1px 2px rgba(60, 64, 67, 0.3), 0 1px 3px 1px rgba(60, 64, 67, 0.15);\n",
              "    fill: var(--button-hover-fill-color);\n",
              "  }\n",
              "\n",
              "  .colab-df-quickchart-complete:disabled,\n",
              "  .colab-df-quickchart-complete:disabled:hover {\n",
              "    background-color: var(--disabled-bg-color);\n",
              "    fill: var(--disabled-fill-color);\n",
              "    box-shadow: none;\n",
              "  }\n",
              "\n",
              "  .colab-df-spinner {\n",
              "    border: 2px solid var(--fill-color);\n",
              "    border-color: transparent;\n",
              "    border-bottom-color: var(--fill-color);\n",
              "    animation:\n",
              "      spin 1s steps(1) infinite;\n",
              "  }\n",
              "\n",
              "  @keyframes spin {\n",
              "    0% {\n",
              "      border-color: transparent;\n",
              "      border-bottom-color: var(--fill-color);\n",
              "      border-left-color: var(--fill-color);\n",
              "    }\n",
              "    20% {\n",
              "      border-color: transparent;\n",
              "      border-left-color: var(--fill-color);\n",
              "      border-top-color: var(--fill-color);\n",
              "    }\n",
              "    30% {\n",
              "      border-color: transparent;\n",
              "      border-left-color: var(--fill-color);\n",
              "      border-top-color: var(--fill-color);\n",
              "      border-right-color: var(--fill-color);\n",
              "    }\n",
              "    40% {\n",
              "      border-color: transparent;\n",
              "      border-right-color: var(--fill-color);\n",
              "      border-top-color: var(--fill-color);\n",
              "    }\n",
              "    60% {\n",
              "      border-color: transparent;\n",
              "      border-right-color: var(--fill-color);\n",
              "    }\n",
              "    80% {\n",
              "      border-color: transparent;\n",
              "      border-right-color: var(--fill-color);\n",
              "      border-bottom-color: var(--fill-color);\n",
              "    }\n",
              "    90% {\n",
              "      border-color: transparent;\n",
              "      border-bottom-color: var(--fill-color);\n",
              "    }\n",
              "  }\n",
              "</style>\n",
              "\n",
              "  <script>\n",
              "    async function quickchart(key) {\n",
              "      const quickchartButtonEl =\n",
              "        document.querySelector('#' + key + ' button');\n",
              "      quickchartButtonEl.disabled = true;  // To prevent multiple clicks.\n",
              "      quickchartButtonEl.classList.add('colab-df-spinner');\n",
              "      try {\n",
              "        const charts = await google.colab.kernel.invokeFunction(\n",
              "            'suggestCharts', [key], {});\n",
              "      } catch (error) {\n",
              "        console.error('Error during call to suggestCharts:', error);\n",
              "      }\n",
              "      quickchartButtonEl.classList.remove('colab-df-spinner');\n",
              "      quickchartButtonEl.classList.add('colab-df-quickchart-complete');\n",
              "    }\n",
              "    (() => {\n",
              "      let quickchartButtonEl =\n",
              "        document.querySelector('#df-1d72cb18-038c-408e-a450-ab137cec1644 button');\n",
              "      quickchartButtonEl.style.display =\n",
              "        google.colab.kernel.accessAllowed ? 'block' : 'none';\n",
              "    })();\n",
              "  </script>\n",
              "</div>\n",
              "\n",
              "    </div>\n",
              "  </div>\n"
            ],
            "application/vnd.google.colaboratory.intrinsic+json": {
              "type": "dataframe"
            }
          },
          "metadata": {},
          "execution_count": 7
        }
      ]
    },
    {
      "cell_type": "markdown",
      "source": [
        "# 6. Identifies duplicated samples"
      ],
      "metadata": {
        "id": "zBEGr8XWknbU"
      }
    },
    {
      "cell_type": "code",
      "source": [
        "# Identify duplicate rows\n",
        "duplicates = df[df.duplicated()]\n",
        "\n",
        "# Display duplicates\n",
        "print(duplicates)\n",
        "\n",
        "# Removes all N/A values\n",
        "df = df.dropna()"
      ],
      "metadata": {
        "colab": {
          "base_uri": "https://localhost:8080/"
        },
        "id": "Jpwm-qPFkmRr",
        "outputId": "b42a7a95-1f54-413a-dd4d-128772550786"
      },
      "execution_count": null,
      "outputs": [
        {
          "output_type": "stream",
          "name": "stdout",
          "text": [
            "Empty DataFrame\n",
            "Columns: [ID, Sex, Age, Height, Weight, Team, Year, Season, Sport, Event, Medal]\n",
            "Index: []\n"
          ]
        }
      ]
    },
    {
      "cell_type": "markdown",
      "source": [
        "# 7. Preprocessing"
      ],
      "metadata": {
        "id": "BG_kw6Eimf7o"
      }
    },
    {
      "cell_type": "markdown",
      "source": [
        "# 7b. Standardize Numerical Features"
      ],
      "metadata": {
        "id": "bB-3Uk30oPFD"
      }
    },
    {
      "cell_type": "code",
      "source": [
        "# Standardize numerical features\n",
        "numerical_features = ['Height', 'Weight', 'Age']\n",
        "scaler = StandardScaler()\n",
        "df[numerical_features] = scaler.fit_transform(df[numerical_features])"
      ],
      "metadata": {
        "id": "XXgT2KQRnCKn",
        "colab": {
          "base_uri": "https://localhost:8080/"
        },
        "outputId": "b284b77e-9234-452e-f4bc-8ea91a8556cb"
      },
      "execution_count": null,
      "outputs": [
        {
          "output_type": "stream",
          "name": "stderr",
          "text": [
            "<ipython-input-9-36a7f5c10f88>:4: SettingWithCopyWarning: \n",
            "A value is trying to be set on a copy of a slice from a DataFrame.\n",
            "Try using .loc[row_indexer,col_indexer] = value instead\n",
            "\n",
            "See the caveats in the documentation: https://pandas.pydata.org/pandas-docs/stable/user_guide/indexing.html#returning-a-view-versus-a-copy\n",
            "  df[numerical_features] = scaler.fit_transform(df[numerical_features])\n"
          ]
        }
      ]
    },
    {
      "cell_type": "markdown",
      "source": [
        "# 8. Data Splitting"
      ],
      "metadata": {
        "id": "nE0n5MrlmkqR"
      }
    },
    {
      "cell_type": "code",
      "source": [
        "print(df.isna().sum())  # Check for missing values\n",
        "print(np.isinf(df).sum())  # Check for infinite values\n",
        "\n",
        "# Splitting dataset into training and testing\n",
        "X = df.drop(columns=['Medal'])\n",
        "y = df['Medal']\n",
        "print(df.shape)\n",
        "X_train, X_temp, y_train, y_temp = train_test_split(X, y, test_size=0.3, random_state=42)\n",
        "X_val, X_test, y_val, y_test = train_test_split(X_temp, y_temp, test_size=0.5, random_state=42)"
      ],
      "metadata": {
        "id": "ODwZhHzqnCrL",
        "colab": {
          "base_uri": "https://localhost:8080/"
        },
        "outputId": "ae1fc9d0-1c59-408c-be69-8c4ba019b86b"
      },
      "execution_count": null,
      "outputs": [
        {
          "output_type": "stream",
          "name": "stdout",
          "text": [
            "ID        0\n",
            "Sex       0\n",
            "Age       0\n",
            "Height    0\n",
            "Weight    0\n",
            "Team      0\n",
            "Year      0\n",
            "Season    0\n",
            "Sport     0\n",
            "Event     0\n",
            "Medal     0\n",
            "dtype: int64\n",
            "ID        0\n",
            "Sex       0\n",
            "Age       0\n",
            "Height    0\n",
            "Weight    0\n",
            "Team      0\n",
            "Year      0\n",
            "Season    0\n",
            "Sport     0\n",
            "Event     0\n",
            "Medal     0\n",
            "dtype: int64\n",
            "(196084, 11)\n"
          ]
        }
      ]
    },
    {
      "cell_type": "code",
      "source": [
        "# Display dataset info\n",
        "df.info()"
      ],
      "metadata": {
        "id": "BCKdXzE9pKKO",
        "colab": {
          "base_uri": "https://localhost:8080/"
        },
        "outputId": "db9fada9-3c9b-485f-a166-b366747f66c0"
      },
      "execution_count": null,
      "outputs": [
        {
          "output_type": "stream",
          "name": "stdout",
          "text": [
            "<class 'pandas.core.frame.DataFrame'>\n",
            "Index: 196084 entries, 0 to 271115\n",
            "Data columns (total 11 columns):\n",
            " #   Column  Non-Null Count   Dtype  \n",
            "---  ------  --------------   -----  \n",
            " 0   ID      196084 non-null  int64  \n",
            " 1   Sex     196084 non-null  int64  \n",
            " 2   Age     196084 non-null  float64\n",
            " 3   Height  196084 non-null  float64\n",
            " 4   Weight  196084 non-null  float64\n",
            " 5   Team    196084 non-null  int64  \n",
            " 6   Year    196084 non-null  int64  \n",
            " 7   Season  196084 non-null  int64  \n",
            " 8   Sport   196084 non-null  int64  \n",
            " 9   Event   196084 non-null  int64  \n",
            " 10  Medal   196084 non-null  int64  \n",
            "dtypes: float64(3), int64(8)\n",
            "memory usage: 18.0 MB\n"
          ]
        }
      ]
    },
    {
      "cell_type": "markdown",
      "source": [
        "# 9. Fitting the model"
      ],
      "metadata": {
        "id": "LZfO_MHImpK0"
      }
    },
    {
      "cell_type": "code",
      "source": [
        "# Define the model architecture\n",
        "model = keras.Sequential([\n",
        "    layers.Dense(128, activation='relu', input_shape=(X_train.shape[1],)),\n",
        "    layers.BatchNormalization(),\n",
        "    layers.Dropout(0.3),\n",
        "    layers.Dense(64, activation='relu'),\n",
        "    layers.BatchNormalization(),\n",
        "    layers.Dropout(0.3),\n",
        "    layers.Dense(32, activation='relu'),\n",
        "    layers.BatchNormalization(),\n",
        "    layers.Dense(4, activation='softmax')  # 4 output classes for medal encoding\n",
        "])\n",
        "\n",
        "# Compile the model\n",
        "model.compile(optimizer='adam',\n",
        "              loss='sparse_categorical_crossentropy',\n",
        "              metrics=['accuracy'])\n",
        "\n",
        "# Display model summary\n",
        "model.summary()"
      ],
      "metadata": {
        "id": "66g0KDXRnDPm",
        "colab": {
          "base_uri": "https://localhost:8080/",
          "height": 515
        },
        "outputId": "bd1f38f3-f805-454a-ade0-58b90c44dcac"
      },
      "execution_count": null,
      "outputs": [
        {
          "output_type": "stream",
          "name": "stderr",
          "text": [
            "/usr/local/lib/python3.11/dist-packages/keras/src/layers/core/dense.py:87: UserWarning: Do not pass an `input_shape`/`input_dim` argument to a layer. When using Sequential models, prefer using an `Input(shape)` object as the first layer in the model instead.\n",
            "  super().__init__(activity_regularizer=activity_regularizer, **kwargs)\n"
          ]
        },
        {
          "output_type": "display_data",
          "data": {
            "text/plain": [
              "\u001b[1mModel: \"sequential\"\u001b[0m\n"
            ],
            "text/html": [
              "<pre style=\"white-space:pre;overflow-x:auto;line-height:normal;font-family:Menlo,'DejaVu Sans Mono',consolas,'Courier New',monospace\"><span style=\"font-weight: bold\">Model: \"sequential\"</span>\n",
              "</pre>\n"
            ]
          },
          "metadata": {}
        },
        {
          "output_type": "display_data",
          "data": {
            "text/plain": [
              "┏━━━━━━━━━━━━━━━━━━━━━━━━━━━━━━━━━━━━━━┳━━━━━━━━━━━━━━━━━━━━━━━━━━━━━┳━━━━━━━━━━━━━━━━━┓\n",
              "┃\u001b[1m \u001b[0m\u001b[1mLayer (type)                        \u001b[0m\u001b[1m \u001b[0m┃\u001b[1m \u001b[0m\u001b[1mOutput Shape               \u001b[0m\u001b[1m \u001b[0m┃\u001b[1m \u001b[0m\u001b[1m        Param #\u001b[0m\u001b[1m \u001b[0m┃\n",
              "┡━━━━━━━━━━━━━━━━━━━━━━━━━━━━━━━━━━━━━━╇━━━━━━━━━━━━━━━━━━━━━━━━━━━━━╇━━━━━━━━━━━━━━━━━┩\n",
              "│ dense (\u001b[38;5;33mDense\u001b[0m)                        │ (\u001b[38;5;45mNone\u001b[0m, \u001b[38;5;34m128\u001b[0m)                 │           \u001b[38;5;34m1,408\u001b[0m │\n",
              "├──────────────────────────────────────┼─────────────────────────────┼─────────────────┤\n",
              "│ batch_normalization                  │ (\u001b[38;5;45mNone\u001b[0m, \u001b[38;5;34m128\u001b[0m)                 │             \u001b[38;5;34m512\u001b[0m │\n",
              "│ (\u001b[38;5;33mBatchNormalization\u001b[0m)                 │                             │                 │\n",
              "├──────────────────────────────────────┼─────────────────────────────┼─────────────────┤\n",
              "│ dropout (\u001b[38;5;33mDropout\u001b[0m)                    │ (\u001b[38;5;45mNone\u001b[0m, \u001b[38;5;34m128\u001b[0m)                 │               \u001b[38;5;34m0\u001b[0m │\n",
              "├──────────────────────────────────────┼─────────────────────────────┼─────────────────┤\n",
              "│ dense_1 (\u001b[38;5;33mDense\u001b[0m)                      │ (\u001b[38;5;45mNone\u001b[0m, \u001b[38;5;34m64\u001b[0m)                  │           \u001b[38;5;34m8,256\u001b[0m │\n",
              "├──────────────────────────────────────┼─────────────────────────────┼─────────────────┤\n",
              "│ batch_normalization_1                │ (\u001b[38;5;45mNone\u001b[0m, \u001b[38;5;34m64\u001b[0m)                  │             \u001b[38;5;34m256\u001b[0m │\n",
              "│ (\u001b[38;5;33mBatchNormalization\u001b[0m)                 │                             │                 │\n",
              "├──────────────────────────────────────┼─────────────────────────────┼─────────────────┤\n",
              "│ dropout_1 (\u001b[38;5;33mDropout\u001b[0m)                  │ (\u001b[38;5;45mNone\u001b[0m, \u001b[38;5;34m64\u001b[0m)                  │               \u001b[38;5;34m0\u001b[0m │\n",
              "├──────────────────────────────────────┼─────────────────────────────┼─────────────────┤\n",
              "│ dense_2 (\u001b[38;5;33mDense\u001b[0m)                      │ (\u001b[38;5;45mNone\u001b[0m, \u001b[38;5;34m32\u001b[0m)                  │           \u001b[38;5;34m2,080\u001b[0m │\n",
              "├──────────────────────────────────────┼─────────────────────────────┼─────────────────┤\n",
              "│ batch_normalization_2                │ (\u001b[38;5;45mNone\u001b[0m, \u001b[38;5;34m32\u001b[0m)                  │             \u001b[38;5;34m128\u001b[0m │\n",
              "│ (\u001b[38;5;33mBatchNormalization\u001b[0m)                 │                             │                 │\n",
              "├──────────────────────────────────────┼─────────────────────────────┼─────────────────┤\n",
              "│ dense_3 (\u001b[38;5;33mDense\u001b[0m)                      │ (\u001b[38;5;45mNone\u001b[0m, \u001b[38;5;34m4\u001b[0m)                   │             \u001b[38;5;34m132\u001b[0m │\n",
              "└──────────────────────────────────────┴─────────────────────────────┴─────────────────┘\n"
            ],
            "text/html": [
              "<pre style=\"white-space:pre;overflow-x:auto;line-height:normal;font-family:Menlo,'DejaVu Sans Mono',consolas,'Courier New',monospace\">┏━━━━━━━━━━━━━━━━━━━━━━━━━━━━━━━━━━━━━━┳━━━━━━━━━━━━━━━━━━━━━━━━━━━━━┳━━━━━━━━━━━━━━━━━┓\n",
              "┃<span style=\"font-weight: bold\"> Layer (type)                         </span>┃<span style=\"font-weight: bold\"> Output Shape                </span>┃<span style=\"font-weight: bold\">         Param # </span>┃\n",
              "┡━━━━━━━━━━━━━━━━━━━━━━━━━━━━━━━━━━━━━━╇━━━━━━━━━━━━━━━━━━━━━━━━━━━━━╇━━━━━━━━━━━━━━━━━┩\n",
              "│ dense (<span style=\"color: #0087ff; text-decoration-color: #0087ff\">Dense</span>)                        │ (<span style=\"color: #00d7ff; text-decoration-color: #00d7ff\">None</span>, <span style=\"color: #00af00; text-decoration-color: #00af00\">128</span>)                 │           <span style=\"color: #00af00; text-decoration-color: #00af00\">1,408</span> │\n",
              "├──────────────────────────────────────┼─────────────────────────────┼─────────────────┤\n",
              "│ batch_normalization                  │ (<span style=\"color: #00d7ff; text-decoration-color: #00d7ff\">None</span>, <span style=\"color: #00af00; text-decoration-color: #00af00\">128</span>)                 │             <span style=\"color: #00af00; text-decoration-color: #00af00\">512</span> │\n",
              "│ (<span style=\"color: #0087ff; text-decoration-color: #0087ff\">BatchNormalization</span>)                 │                             │                 │\n",
              "├──────────────────────────────────────┼─────────────────────────────┼─────────────────┤\n",
              "│ dropout (<span style=\"color: #0087ff; text-decoration-color: #0087ff\">Dropout</span>)                    │ (<span style=\"color: #00d7ff; text-decoration-color: #00d7ff\">None</span>, <span style=\"color: #00af00; text-decoration-color: #00af00\">128</span>)                 │               <span style=\"color: #00af00; text-decoration-color: #00af00\">0</span> │\n",
              "├──────────────────────────────────────┼─────────────────────────────┼─────────────────┤\n",
              "│ dense_1 (<span style=\"color: #0087ff; text-decoration-color: #0087ff\">Dense</span>)                      │ (<span style=\"color: #00d7ff; text-decoration-color: #00d7ff\">None</span>, <span style=\"color: #00af00; text-decoration-color: #00af00\">64</span>)                  │           <span style=\"color: #00af00; text-decoration-color: #00af00\">8,256</span> │\n",
              "├──────────────────────────────────────┼─────────────────────────────┼─────────────────┤\n",
              "│ batch_normalization_1                │ (<span style=\"color: #00d7ff; text-decoration-color: #00d7ff\">None</span>, <span style=\"color: #00af00; text-decoration-color: #00af00\">64</span>)                  │             <span style=\"color: #00af00; text-decoration-color: #00af00\">256</span> │\n",
              "│ (<span style=\"color: #0087ff; text-decoration-color: #0087ff\">BatchNormalization</span>)                 │                             │                 │\n",
              "├──────────────────────────────────────┼─────────────────────────────┼─────────────────┤\n",
              "│ dropout_1 (<span style=\"color: #0087ff; text-decoration-color: #0087ff\">Dropout</span>)                  │ (<span style=\"color: #00d7ff; text-decoration-color: #00d7ff\">None</span>, <span style=\"color: #00af00; text-decoration-color: #00af00\">64</span>)                  │               <span style=\"color: #00af00; text-decoration-color: #00af00\">0</span> │\n",
              "├──────────────────────────────────────┼─────────────────────────────┼─────────────────┤\n",
              "│ dense_2 (<span style=\"color: #0087ff; text-decoration-color: #0087ff\">Dense</span>)                      │ (<span style=\"color: #00d7ff; text-decoration-color: #00d7ff\">None</span>, <span style=\"color: #00af00; text-decoration-color: #00af00\">32</span>)                  │           <span style=\"color: #00af00; text-decoration-color: #00af00\">2,080</span> │\n",
              "├──────────────────────────────────────┼─────────────────────────────┼─────────────────┤\n",
              "│ batch_normalization_2                │ (<span style=\"color: #00d7ff; text-decoration-color: #00d7ff\">None</span>, <span style=\"color: #00af00; text-decoration-color: #00af00\">32</span>)                  │             <span style=\"color: #00af00; text-decoration-color: #00af00\">128</span> │\n",
              "│ (<span style=\"color: #0087ff; text-decoration-color: #0087ff\">BatchNormalization</span>)                 │                             │                 │\n",
              "├──────────────────────────────────────┼─────────────────────────────┼─────────────────┤\n",
              "│ dense_3 (<span style=\"color: #0087ff; text-decoration-color: #0087ff\">Dense</span>)                      │ (<span style=\"color: #00d7ff; text-decoration-color: #00d7ff\">None</span>, <span style=\"color: #00af00; text-decoration-color: #00af00\">4</span>)                   │             <span style=\"color: #00af00; text-decoration-color: #00af00\">132</span> │\n",
              "└──────────────────────────────────────┴─────────────────────────────┴─────────────────┘\n",
              "</pre>\n"
            ]
          },
          "metadata": {}
        },
        {
          "output_type": "display_data",
          "data": {
            "text/plain": [
              "\u001b[1m Total params: \u001b[0m\u001b[38;5;34m12,772\u001b[0m (49.89 KB)\n"
            ],
            "text/html": [
              "<pre style=\"white-space:pre;overflow-x:auto;line-height:normal;font-family:Menlo,'DejaVu Sans Mono',consolas,'Courier New',monospace\"><span style=\"font-weight: bold\"> Total params: </span><span style=\"color: #00af00; text-decoration-color: #00af00\">12,772</span> (49.89 KB)\n",
              "</pre>\n"
            ]
          },
          "metadata": {}
        },
        {
          "output_type": "display_data",
          "data": {
            "text/plain": [
              "\u001b[1m Trainable params: \u001b[0m\u001b[38;5;34m12,324\u001b[0m (48.14 KB)\n"
            ],
            "text/html": [
              "<pre style=\"white-space:pre;overflow-x:auto;line-height:normal;font-family:Menlo,'DejaVu Sans Mono',consolas,'Courier New',monospace\"><span style=\"font-weight: bold\"> Trainable params: </span><span style=\"color: #00af00; text-decoration-color: #00af00\">12,324</span> (48.14 KB)\n",
              "</pre>\n"
            ]
          },
          "metadata": {}
        },
        {
          "output_type": "display_data",
          "data": {
            "text/plain": [
              "\u001b[1m Non-trainable params: \u001b[0m\u001b[38;5;34m448\u001b[0m (1.75 KB)\n"
            ],
            "text/html": [
              "<pre style=\"white-space:pre;overflow-x:auto;line-height:normal;font-family:Menlo,'DejaVu Sans Mono',consolas,'Courier New',monospace\"><span style=\"font-weight: bold\"> Non-trainable params: </span><span style=\"color: #00af00; text-decoration-color: #00af00\">448</span> (1.75 KB)\n",
              "</pre>\n"
            ]
          },
          "metadata": {}
        }
      ]
    },
    {
      "cell_type": "markdown",
      "source": [
        "# 10 Train Model"
      ],
      "metadata": {
        "id": "fj_RIm7DwvSr"
      }
    },
    {
      "cell_type": "code",
      "source": [
        "# Train the model\n",
        "history = model.fit(X_train, y_train,\n",
        "                    validation_data=(X_val, y_val),  # Use validation data to monitor performance\n",
        "                    epochs=50,                      # Number of training iterations\n",
        "                    batch_size=32,                  # Number of samples per batch\n",
        "                    verbose=1)                      # Display training progress"
      ],
      "metadata": {
        "colab": {
          "base_uri": "https://localhost:8080/"
        },
        "id": "_TZSJYRrwt7U",
        "outputId": "76aa548a-f63d-44f5-de69-b4fa8dcf5f8e"
      },
      "execution_count": null,
      "outputs": [
        {
          "output_type": "stream",
          "name": "stdout",
          "text": [
            "Epoch 1/50\n",
            "\u001b[1m4290/4290\u001b[0m \u001b[32m━━━━━━━━━━━━━━━━━━━━\u001b[0m\u001b[37m\u001b[0m \u001b[1m20s\u001b[0m 4ms/step - accuracy: 0.8040 - loss: 0.6960 - val_accuracy: 0.8594 - val_loss: 0.5613\n",
            "Epoch 2/50\n",
            "\u001b[1m4290/4290\u001b[0m \u001b[32m━━━━━━━━━━━━━━━━━━━━\u001b[0m\u001b[37m\u001b[0m \u001b[1m12s\u001b[0m 3ms/step - accuracy: 0.8561 - loss: 0.5719 - val_accuracy: 0.8591 - val_loss: 0.5629\n",
            "Epoch 3/50\n",
            "\u001b[1m4290/4290\u001b[0m \u001b[32m━━━━━━━━━━━━━━━━━━━━\u001b[0m\u001b[37m\u001b[0m \u001b[1m11s\u001b[0m 3ms/step - accuracy: 0.8584 - loss: 0.5639 - val_accuracy: 0.8594 - val_loss: 0.5600\n",
            "Epoch 4/50\n",
            "\u001b[1m4290/4290\u001b[0m \u001b[32m━━━━━━━━━━━━━━━━━━━━\u001b[0m\u001b[37m\u001b[0m \u001b[1m11s\u001b[0m 3ms/step - accuracy: 0.8583 - loss: 0.5634 - val_accuracy: 0.8593 - val_loss: 0.5618\n",
            "Epoch 5/50\n",
            "\u001b[1m4290/4290\u001b[0m \u001b[32m━━━━━━━━━━━━━━━━━━━━\u001b[0m\u001b[37m\u001b[0m \u001b[1m11s\u001b[0m 3ms/step - accuracy: 0.8589 - loss: 0.5608 - val_accuracy: 0.8594 - val_loss: 0.5600\n",
            "Epoch 6/50\n",
            "\u001b[1m4290/4290\u001b[0m \u001b[32m━━━━━━━━━━━━━━━━━━━━\u001b[0m\u001b[37m\u001b[0m \u001b[1m11s\u001b[0m 3ms/step - accuracy: 0.8579 - loss: 0.5635 - val_accuracy: 0.8594 - val_loss: 0.5608\n",
            "Epoch 7/50\n",
            "\u001b[1m4290/4290\u001b[0m \u001b[32m━━━━━━━━━━━━━━━━━━━━\u001b[0m\u001b[37m\u001b[0m \u001b[1m11s\u001b[0m 3ms/step - accuracy: 0.8564 - loss: 0.5675 - val_accuracy: 0.8594 - val_loss: 0.5582\n",
            "Epoch 8/50\n",
            "\u001b[1m4290/4290\u001b[0m \u001b[32m━━━━━━━━━━━━━━━━━━━━\u001b[0m\u001b[37m\u001b[0m \u001b[1m11s\u001b[0m 3ms/step - accuracy: 0.8577 - loss: 0.5638 - val_accuracy: 0.8593 - val_loss: 0.5655\n",
            "Epoch 9/50\n",
            "\u001b[1m4290/4290\u001b[0m \u001b[32m━━━━━━━━━━━━━━━━━━━━\u001b[0m\u001b[37m\u001b[0m \u001b[1m11s\u001b[0m 3ms/step - accuracy: 0.8577 - loss: 0.5637 - val_accuracy: 0.8593 - val_loss: 0.5746\n",
            "Epoch 10/50\n",
            "\u001b[1m4290/4290\u001b[0m \u001b[32m━━━━━━━━━━━━━━━━━━━━\u001b[0m\u001b[37m\u001b[0m \u001b[1m11s\u001b[0m 3ms/step - accuracy: 0.8581 - loss: 0.5618 - val_accuracy: 0.8594 - val_loss: 0.5569\n",
            "Epoch 11/50\n",
            "\u001b[1m4290/4290\u001b[0m \u001b[32m━━━━━━━━━━━━━━━━━━━━\u001b[0m\u001b[37m\u001b[0m \u001b[1m11s\u001b[0m 3ms/step - accuracy: 0.8581 - loss: 0.5614 - val_accuracy: 0.8593 - val_loss: 0.5599\n",
            "Epoch 12/50\n",
            "\u001b[1m4290/4290\u001b[0m \u001b[32m━━━━━━━━━━━━━━━━━━━━\u001b[0m\u001b[37m\u001b[0m \u001b[1m11s\u001b[0m 3ms/step - accuracy: 0.8575 - loss: 0.5630 - val_accuracy: 0.8592 - val_loss: 0.5582\n",
            "Epoch 13/50\n",
            "\u001b[1m4290/4290\u001b[0m \u001b[32m━━━━━━━━━━━━━━━━━━━━\u001b[0m\u001b[37m\u001b[0m \u001b[1m11s\u001b[0m 3ms/step - accuracy: 0.8580 - loss: 0.5617 - val_accuracy: 0.8594 - val_loss: 0.5562\n",
            "Epoch 14/50\n",
            "\u001b[1m4290/4290\u001b[0m \u001b[32m━━━━━━━━━━━━━━━━━━━━\u001b[0m\u001b[37m\u001b[0m \u001b[1m11s\u001b[0m 3ms/step - accuracy: 0.8577 - loss: 0.5621 - val_accuracy: 0.8591 - val_loss: 0.5582\n",
            "Epoch 15/50\n",
            "\u001b[1m4290/4290\u001b[0m \u001b[32m━━━━━━━━━━━━━━━━━━━━\u001b[0m\u001b[37m\u001b[0m \u001b[1m11s\u001b[0m 3ms/step - accuracy: 0.8589 - loss: 0.5583 - val_accuracy: 0.8593 - val_loss: 0.5549\n",
            "Epoch 16/50\n",
            "\u001b[1m4290/4290\u001b[0m \u001b[32m━━━━━━━━━━━━━━━━━━━━\u001b[0m\u001b[37m\u001b[0m \u001b[1m11s\u001b[0m 3ms/step - accuracy: 0.8575 - loss: 0.5622 - val_accuracy: 0.8594 - val_loss: 0.5598\n",
            "Epoch 17/50\n",
            "\u001b[1m4290/4290\u001b[0m \u001b[32m━━━━━━━━━━━━━━━━━━━━\u001b[0m\u001b[37m\u001b[0m \u001b[1m11s\u001b[0m 3ms/step - accuracy: 0.8583 - loss: 0.5599 - val_accuracy: 0.8593 - val_loss: 0.5560\n",
            "Epoch 18/50\n",
            "\u001b[1m4290/4290\u001b[0m \u001b[32m━━━━━━━━━━━━━━━━━━━━\u001b[0m\u001b[37m\u001b[0m \u001b[1m11s\u001b[0m 3ms/step - accuracy: 0.8579 - loss: 0.5602 - val_accuracy: 0.8594 - val_loss: 0.5556\n",
            "Epoch 19/50\n",
            "\u001b[1m4290/4290\u001b[0m \u001b[32m━━━━━━━━━━━━━━━━━━━━\u001b[0m\u001b[37m\u001b[0m \u001b[1m11s\u001b[0m 3ms/step - accuracy: 0.8572 - loss: 0.5628 - val_accuracy: 0.8594 - val_loss: 0.5565\n",
            "Epoch 20/50\n",
            "\u001b[1m4290/4290\u001b[0m \u001b[32m━━━━━━━━━━━━━━━━━━━━\u001b[0m\u001b[37m\u001b[0m \u001b[1m11s\u001b[0m 3ms/step - accuracy: 0.8573 - loss: 0.5615 - val_accuracy: 0.8594 - val_loss: 0.5560\n",
            "Epoch 21/50\n",
            "\u001b[1m4290/4290\u001b[0m \u001b[32m━━━━━━━━━━━━━━━━━━━━\u001b[0m\u001b[37m\u001b[0m \u001b[1m11s\u001b[0m 3ms/step - accuracy: 0.8565 - loss: 0.5640 - val_accuracy: 0.8594 - val_loss: 0.5577\n",
            "Epoch 22/50\n",
            "\u001b[1m4290/4290\u001b[0m \u001b[32m━━━━━━━━━━━━━━━━━━━━\u001b[0m\u001b[37m\u001b[0m \u001b[1m11s\u001b[0m 3ms/step - accuracy: 0.8587 - loss: 0.5578 - val_accuracy: 0.8594 - val_loss: 0.5547\n",
            "Epoch 23/50\n",
            "\u001b[1m4290/4290\u001b[0m \u001b[32m━━━━━━━━━━━━━━━━━━━━\u001b[0m\u001b[37m\u001b[0m \u001b[1m11s\u001b[0m 3ms/step - accuracy: 0.8579 - loss: 0.5598 - val_accuracy: 0.8594 - val_loss: 0.5548\n",
            "Epoch 24/50\n",
            "\u001b[1m4290/4290\u001b[0m \u001b[32m━━━━━━━━━━━━━━━━━━━━\u001b[0m\u001b[37m\u001b[0m \u001b[1m11s\u001b[0m 3ms/step - accuracy: 0.8577 - loss: 0.5605 - val_accuracy: 0.8594 - val_loss: 0.5546\n",
            "Epoch 25/50\n",
            "\u001b[1m4290/4290\u001b[0m \u001b[32m━━━━━━━━━━━━━━━━━━━━\u001b[0m\u001b[37m\u001b[0m \u001b[1m11s\u001b[0m 3ms/step - accuracy: 0.8582 - loss: 0.5593 - val_accuracy: 0.8594 - val_loss: 0.5570\n",
            "Epoch 26/50\n",
            "\u001b[1m4290/4290\u001b[0m \u001b[32m━━━━━━━━━━━━━━━━━━━━\u001b[0m\u001b[37m\u001b[0m \u001b[1m11s\u001b[0m 3ms/step - accuracy: 0.8572 - loss: 0.5616 - val_accuracy: 0.8593 - val_loss: 0.5549\n",
            "Epoch 27/50\n",
            "\u001b[1m4290/4290\u001b[0m \u001b[32m━━━━━━━━━━━━━━━━━━━━\u001b[0m\u001b[37m\u001b[0m \u001b[1m11s\u001b[0m 3ms/step - accuracy: 0.8580 - loss: 0.5595 - val_accuracy: 0.8594 - val_loss: 0.5557\n",
            "Epoch 28/50\n",
            "\u001b[1m4290/4290\u001b[0m \u001b[32m━━━━━━━━━━━━━━━━━━━━\u001b[0m\u001b[37m\u001b[0m \u001b[1m11s\u001b[0m 3ms/step - accuracy: 0.8574 - loss: 0.5609 - val_accuracy: 0.8594 - val_loss: 0.5544\n",
            "Epoch 29/50\n",
            "\u001b[1m4290/4290\u001b[0m \u001b[32m━━━━━━━━━━━━━━━━━━━━\u001b[0m\u001b[37m\u001b[0m \u001b[1m11s\u001b[0m 3ms/step - accuracy: 0.8585 - loss: 0.5577 - val_accuracy: 0.8594 - val_loss: 0.5560\n",
            "Epoch 30/50\n",
            "\u001b[1m4290/4290\u001b[0m \u001b[32m━━━━━━━━━━━━━━━━━━━━\u001b[0m\u001b[37m\u001b[0m \u001b[1m11s\u001b[0m 3ms/step - accuracy: 0.8596 - loss: 0.5554 - val_accuracy: 0.8592 - val_loss: 0.5559\n",
            "Epoch 31/50\n",
            "\u001b[1m4290/4290\u001b[0m \u001b[32m━━━━━━━━━━━━━━━━━━━━\u001b[0m\u001b[37m\u001b[0m \u001b[1m11s\u001b[0m 3ms/step - accuracy: 0.8583 - loss: 0.5582 - val_accuracy: 0.8594 - val_loss: 0.5579\n",
            "Epoch 32/50\n",
            "\u001b[1m4290/4290\u001b[0m \u001b[32m━━━━━━━━━━━━━━━━━━━━\u001b[0m\u001b[37m\u001b[0m \u001b[1m11s\u001b[0m 3ms/step - accuracy: 0.8569 - loss: 0.5629 - val_accuracy: 0.8594 - val_loss: 0.5570\n",
            "Epoch 33/50\n",
            "\u001b[1m4290/4290\u001b[0m \u001b[32m━━━━━━━━━━━━━━━━━━━━\u001b[0m\u001b[37m\u001b[0m \u001b[1m11s\u001b[0m 3ms/step - accuracy: 0.8578 - loss: 0.5596 - val_accuracy: 0.8594 - val_loss: 0.5545\n",
            "Epoch 34/50\n",
            "\u001b[1m4290/4290\u001b[0m \u001b[32m━━━━━━━━━━━━━━━━━━━━\u001b[0m\u001b[37m\u001b[0m \u001b[1m11s\u001b[0m 3ms/step - accuracy: 0.8590 - loss: 0.5562 - val_accuracy: 0.8594 - val_loss: 0.5541\n",
            "Epoch 35/50\n",
            "\u001b[1m4290/4290\u001b[0m \u001b[32m━━━━━━━━━━━━━━━━━━━━\u001b[0m\u001b[37m\u001b[0m \u001b[1m11s\u001b[0m 3ms/step - accuracy: 0.8581 - loss: 0.5590 - val_accuracy: 0.8594 - val_loss: 0.5531\n",
            "Epoch 36/50\n",
            "\u001b[1m4290/4290\u001b[0m \u001b[32m━━━━━━━━━━━━━━━━━━━━\u001b[0m\u001b[37m\u001b[0m \u001b[1m11s\u001b[0m 3ms/step - accuracy: 0.8569 - loss: 0.5624 - val_accuracy: 0.8594 - val_loss: 0.5538\n",
            "Epoch 37/50\n",
            "\u001b[1m4290/4290\u001b[0m \u001b[32m━━━━━━━━━━━━━━━━━━━━\u001b[0m\u001b[37m\u001b[0m \u001b[1m11s\u001b[0m 3ms/step - accuracy: 0.8568 - loss: 0.5622 - val_accuracy: 0.8594 - val_loss: 0.5538\n",
            "Epoch 38/50\n",
            "\u001b[1m4290/4290\u001b[0m \u001b[32m━━━━━━━━━━━━━━━━━━━━\u001b[0m\u001b[37m\u001b[0m \u001b[1m11s\u001b[0m 3ms/step - accuracy: 0.8586 - loss: 0.5568 - val_accuracy: 0.8594 - val_loss: 0.5530\n",
            "Epoch 39/50\n",
            "\u001b[1m4290/4290\u001b[0m \u001b[32m━━━━━━━━━━━━━━━━━━━━\u001b[0m\u001b[37m\u001b[0m \u001b[1m11s\u001b[0m 3ms/step - accuracy: 0.8573 - loss: 0.5614 - val_accuracy: 0.8594 - val_loss: 0.5555\n",
            "Epoch 40/50\n",
            "\u001b[1m4290/4290\u001b[0m \u001b[32m━━━━━━━━━━━━━━━━━━━━\u001b[0m\u001b[37m\u001b[0m \u001b[1m11s\u001b[0m 3ms/step - accuracy: 0.8578 - loss: 0.5592 - val_accuracy: 0.8594 - val_loss: 0.5534\n",
            "Epoch 41/50\n",
            "\u001b[1m4290/4290\u001b[0m \u001b[32m━━━━━━━━━━━━━━━━━━━━\u001b[0m\u001b[37m\u001b[0m \u001b[1m11s\u001b[0m 3ms/step - accuracy: 0.8568 - loss: 0.5616 - val_accuracy: 0.8594 - val_loss: 0.5554\n",
            "Epoch 42/50\n",
            "\u001b[1m4290/4290\u001b[0m \u001b[32m━━━━━━━━━━━━━━━━━━━━\u001b[0m\u001b[37m\u001b[0m \u001b[1m11s\u001b[0m 3ms/step - accuracy: 0.8586 - loss: 0.5563 - val_accuracy: 0.8594 - val_loss: 0.5769\n",
            "Epoch 43/50\n",
            "\u001b[1m4290/4290\u001b[0m \u001b[32m━━━━━━━━━━━━━━━━━━━━\u001b[0m\u001b[37m\u001b[0m \u001b[1m11s\u001b[0m 3ms/step - accuracy: 0.8580 - loss: 0.5586 - val_accuracy: 0.8594 - val_loss: 0.5545\n",
            "Epoch 44/50\n",
            "\u001b[1m4290/4290\u001b[0m \u001b[32m━━━━━━━━━━━━━━━━━━━━\u001b[0m\u001b[37m\u001b[0m \u001b[1m11s\u001b[0m 3ms/step - accuracy: 0.8578 - loss: 0.5586 - val_accuracy: 0.8594 - val_loss: 0.5534\n",
            "Epoch 45/50\n",
            "\u001b[1m4290/4290\u001b[0m \u001b[32m━━━━━━━━━━━━━━━━━━━━\u001b[0m\u001b[37m\u001b[0m \u001b[1m11s\u001b[0m 3ms/step - accuracy: 0.8582 - loss: 0.5588 - val_accuracy: 0.8594 - val_loss: 0.5539\n",
            "Epoch 46/50\n",
            "\u001b[1m4290/4290\u001b[0m \u001b[32m━━━━━━━━━━━━━━━━━━━━\u001b[0m\u001b[37m\u001b[0m \u001b[1m11s\u001b[0m 3ms/step - accuracy: 0.8580 - loss: 0.5581 - val_accuracy: 0.8594 - val_loss: 0.5534\n",
            "Epoch 47/50\n",
            "\u001b[1m4290/4290\u001b[0m \u001b[32m━━━━━━━━━━━━━━━━━━━━\u001b[0m\u001b[37m\u001b[0m \u001b[1m11s\u001b[0m 3ms/step - accuracy: 0.8584 - loss: 0.5573 - val_accuracy: 0.8594 - val_loss: 0.5531\n",
            "Epoch 48/50\n",
            "\u001b[1m4290/4290\u001b[0m \u001b[32m━━━━━━━━━━━━━━━━━━━━\u001b[0m\u001b[37m\u001b[0m \u001b[1m11s\u001b[0m 3ms/step - accuracy: 0.8592 - loss: 0.5549 - val_accuracy: 0.8594 - val_loss: 0.5519\n",
            "Epoch 49/50\n",
            "\u001b[1m4290/4290\u001b[0m \u001b[32m━━━━━━━━━━━━━━━━━━━━\u001b[0m\u001b[37m\u001b[0m \u001b[1m11s\u001b[0m 3ms/step - accuracy: 0.8576 - loss: 0.5593 - val_accuracy: 0.8594 - val_loss: 0.5545\n",
            "Epoch 50/50\n",
            "\u001b[1m4290/4290\u001b[0m \u001b[32m━━━━━━━━━━━━━━━━━━━━\u001b[0m\u001b[37m\u001b[0m \u001b[1m11s\u001b[0m 3ms/step - accuracy: 0.8586 - loss: 0.5559 - val_accuracy: 0.8594 - val_loss: 0.5530\n"
          ]
        }
      ]
    },
    {
      "cell_type": "markdown",
      "source": [
        "# 10a. Measuring Performance"
      ],
      "metadata": {
        "id": "aBRs4Lxdmtdh"
      }
    },
    {
      "cell_type": "code",
      "source": [
        "# Predict on the test set\n",
        "\n",
        "print(X_test.head)\n",
        "print(X_test.dtypes)\n",
        "y_pred_prob = model.predict(X_test)\n",
        "y_pred = np.argmax(y_pred_prob, axis=1)"
      ],
      "metadata": {
        "id": "3bK7wTQ_nDn_",
        "colab": {
          "base_uri": "https://localhost:8080/"
        },
        "outputId": "53618914-2947-4c6d-d3a9-77d6d9f5d2da"
      },
      "execution_count": null,
      "outputs": [
        {
          "output_type": "stream",
          "name": "stdout",
          "text": [
            "<bound method NDFrame.head of             ID  Sex       Age    Height    Weight  Team  Year  Season  Sport  \\\n",
            "132319   66597    0 -0.009648 -0.788682 -0.738629   361  2006       1     25   \n",
            "168012   84413    1 -0.374617  2.317273  0.992285   809  1980       0     62   \n",
            "199666  100295    1  0.902774  1.376075  1.476941   307  2004       0     63   \n",
            "156123   78401    1  0.172836  0.717236  0.438392  1120  2016       0     54   \n",
            "213068  106989    1  1.450227  0.246637  1.061521  1095  2006       1      1   \n",
            "...        ...  ...       ...       ...       ...   ...   ...     ...    ...   \n",
            "100977   51057    1  1.085258 -0.318082  0.576865    65  1960       0     65   \n",
            "141252   70889    1 -0.192132  0.434876  0.230683   915  2000       0     54   \n",
            "260385  130305    1  1.267743  0.434876  0.299919  1017  1998       1     17   \n",
            "146714   73639    1  0.720289  1.564315  1.130758   741  1968       1     53   \n",
            "114327   57898    1  0.355321  0.434876  1.476941   809  2014       1     12   \n",
            "\n",
            "        Event  \n",
            "132319    357  \n",
            "168012    710  \n",
            "199666    712  \n",
            "156123    630  \n",
            "213068      3  \n",
            "...       ...  \n",
            "100977    753  \n",
            "141252    629  \n",
            "260385    234  \n",
            "146714    613  \n",
            "114327    177  \n",
            "\n",
            "[29413 rows x 10 columns]>\n",
            "ID          int64\n",
            "Sex         int64\n",
            "Age       float64\n",
            "Height    float64\n",
            "Weight    float64\n",
            "Team        int64\n",
            "Year        int64\n",
            "Season      int64\n",
            "Sport       int64\n",
            "Event       int64\n",
            "dtype: object\n",
            "\u001b[1m920/920\u001b[0m \u001b[32m━━━━━━━━━━━━━━━━━━━━\u001b[0m\u001b[37m\u001b[0m \u001b[1m2s\u001b[0m 2ms/step\n"
          ]
        }
      ]
    },
    {
      "cell_type": "markdown",
      "source": [
        "# 10b. Accuracy/MAE"
      ],
      "metadata": {
        "id": "j8i4xE9RmxHR"
      }
    },
    {
      "cell_type": "code",
      "source": [
        "# Calculate accuracy\n",
        "accuracy = accuracy_score(y_test, y_pred)\n",
        "print(f'Accuracy: {accuracy:.4f}')"
      ],
      "metadata": {
        "id": "PWznCxSJnEDL",
        "colab": {
          "base_uri": "https://localhost:8080/"
        },
        "outputId": "ca489415-e471-43dc-e49e-6c5c348f8aee"
      },
      "execution_count": null,
      "outputs": [
        {
          "output_type": "stream",
          "name": "stdout",
          "text": [
            "Accuracy: 0.8591\n"
          ]
        }
      ]
    },
    {
      "cell_type": "markdown",
      "source": [
        "# 10c. Confusion matrix"
      ],
      "metadata": {
        "id": "hWqFg3l6m5la"
      }
    },
    {
      "cell_type": "code",
      "source": [
        "# Generate confusion matrix\n",
        "conf_matrix = confusion_matrix(y_test, y_pred)\n",
        "print('Confusion Matrix:\\n', conf_matrix)\n",
        "\n",
        "# Classification report\n",
        "print('Classification Report:\\n', classification_report(y_test, y_pred))"
      ],
      "metadata": {
        "id": "wsflR5B1nEVO",
        "colab": {
          "base_uri": "https://localhost:8080/"
        },
        "outputId": "896ae192-0c73-4bf0-cbc8-1144c8615d0c"
      },
      "execution_count": null,
      "outputs": [
        {
          "output_type": "stream",
          "name": "stdout",
          "text": [
            "Confusion Matrix:\n",
            " [[25267     2     0     0]\n",
            " [ 1419     0     0     0]\n",
            " [ 1370     0     1     0]\n",
            " [ 1354     0     0     0]]\n",
            "Classification Report:\n",
            "               precision    recall  f1-score   support\n",
            "\n",
            "           0       0.86      1.00      0.92     25269\n",
            "           1       0.00      0.00      0.00      1419\n",
            "           2       1.00      0.00      0.00      1371\n",
            "           3       0.00      0.00      0.00      1354\n",
            "\n",
            "    accuracy                           0.86     29413\n",
            "   macro avg       0.46      0.25      0.23     29413\n",
            "weighted avg       0.78      0.86      0.79     29413\n",
            "\n"
          ]
        },
        {
          "output_type": "stream",
          "name": "stderr",
          "text": [
            "/usr/local/lib/python3.11/dist-packages/sklearn/metrics/_classification.py:1565: UndefinedMetricWarning: Precision is ill-defined and being set to 0.0 in labels with no predicted samples. Use `zero_division` parameter to control this behavior.\n",
            "  _warn_prf(average, modifier, f\"{metric.capitalize()} is\", len(result))\n",
            "/usr/local/lib/python3.11/dist-packages/sklearn/metrics/_classification.py:1565: UndefinedMetricWarning: Precision is ill-defined and being set to 0.0 in labels with no predicted samples. Use `zero_division` parameter to control this behavior.\n",
            "  _warn_prf(average, modifier, f\"{metric.capitalize()} is\", len(result))\n",
            "/usr/local/lib/python3.11/dist-packages/sklearn/metrics/_classification.py:1565: UndefinedMetricWarning: Precision is ill-defined and being set to 0.0 in labels with no predicted samples. Use `zero_division` parameter to control this behavior.\n",
            "  _warn_prf(average, modifier, f\"{metric.capitalize()} is\", len(result))\n"
          ]
        }
      ]
    },
    {
      "cell_type": "markdown",
      "source": [
        "# 10d. ROC curve"
      ],
      "metadata": {
        "id": "eWsZ3y8wm9Qc"
      }
    },
    {
      "cell_type": "code",
      "source": [
        "# Compute ROC curve\n",
        "fpr, tpr, _ = roc_curve(y_test, y_pred_prob[:, 1], pos_label=1)\n",
        "roc_auc = auc(fpr, tpr)\n",
        "\n",
        "# Plot ROC curve\n",
        "plt.figure()\n",
        "plt.plot(fpr, tpr, color='blue', label=f'ROC curve (area = {roc_auc:.2f})')\n",
        "plt.plot([0, 1], [0, 1], color='gray', linestyle='--')\n",
        "plt.xlabel('False Positive Rate')\n",
        "plt.ylabel('True Positive Rate')\n",
        "plt.title('Receiver Operating Characteristic (ROC) Curve')\n",
        "plt.legend(loc='lower right')\n",
        "plt.show()"
      ],
      "metadata": {
        "id": "Dmb5P9osnEum",
        "colab": {
          "base_uri": "https://localhost:8080/",
          "height": 472
        },
        "outputId": "04a99c82-0145-48c0-9d21-29590b51d23d"
      },
      "execution_count": null,
      "outputs": [
        {
          "output_type": "display_data",
          "data": {
            "text/plain": [
              "<Figure size 640x480 with 1 Axes>"
            ],
            "image/png": "[encoded data removed]"
          },
          "metadata": {}
        }
      ]
    }
  ]
}